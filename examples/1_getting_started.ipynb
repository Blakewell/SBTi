{
 "cells": [
  {
   "cell_type": "markdown",
   "metadata": {},
   "source": [
    "# SBTi Temperature Alignment tool examples\n",
    "This notebook provides some examples on how to use the SBTi Temperature Alignment tool."
   ]
  },
  {
   "cell_type": "markdown",
   "metadata": {},
   "source": [
    "## Install the SBTi Python module\n",
    "This is only required if you didn't already instally the module."
   ]
  },
  {
   "cell_type": "code",
   "execution_count": null,
   "metadata": {},
   "outputs": [],
   "source": [
    "!pip install SBTi"
   ]
  },
  {
   "cell_type": "code",
   "execution_count": 34,
   "metadata": {
    "scrolled": true
   },
   "outputs": [],
   "source": [
    "import SBTi\n",
    "from SBTi.data.excel import ExcelProvider\n",
    "from SBTi.portfolio_aggregation import PortfolioAggregationMethod\n",
    "from SBTi.portfolio_coverage_tvp import PortfolioCoverageTVP\n",
    "from SBTi.temperature_score import TemperatureScore, Scenario\n",
    "from SBTi.target_validation import TargetProtocol\n",
    "from SBTi.interfaces import ETimeFrames, EScope\n",
    "import pandas as pd"
   ]
  },
  {
   "cell_type": "markdown",
   "metadata": {},
   "source": [
    "## Download the dummy data provider"
   ]
  },
  {
   "cell_type": "code",
   "execution_count": 2,
   "metadata": {},
   "outputs": [],
   "source": [
    "import urllib.request\n",
    "import os\n",
    "\n",
    "if not os.path.isdir(\"data\"):\n",
    "    os.mkdir(\"data\")\n",
    "if not os.path.isfile(\"data/data_provider_example.xlsx\"):\n",
    "    urllib.request.urlretrieve(\"https://github.com/OFBDABV/SBTi/raw/master/examples/data/data_provider_example.xlsx\", \"data/data_provider_example.xlsx\")\n",
    "if not os.path.isfile(\"example_portfolio.csv\"):\n",
    "    urllib.request.urlretrieve(\"https://github.com/OFBDABV/SBTi/raw/master/examples/example_portfolio.csv\", \"example_portfolio.csv\")"
   ]
  },
  {
   "cell_type": "markdown",
   "metadata": {},
   "source": [
    "#### Logging\n",
    "The SBTi module uses the Python standard library logging utilities to send log messages. The log level can be changed according to the user's needs."
   ]
  },
  {
   "cell_type": "code",
   "execution_count": 5,
   "metadata": {},
   "outputs": [],
   "source": [
    "import logging\n",
    "root_logger = logging.getLogger()\n",
    "root_logger.setLevel(\"INFO\")"
   ]
  },
  {
   "cell_type": "markdown",
   "metadata": {},
   "source": [
    "### Create a data provider\n",
    "Data providers let you connect to the data source of your choice."
   ]
  },
  {
   "cell_type": "code",
   "execution_count": 10,
   "metadata": {},
   "outputs": [],
   "source": [
    "provider = ExcelProvider(path=\"data/data_provider_example.xlsx\")"
   ]
  },
  {
   "cell_type": "markdown",
   "metadata": {},
   "source": [
    "### Load your portfolio\n",
    "In our case the portfolio is stored as a CSV file. The portfolio should at least have an \"id\" (the identifier of the company) and a \"proportion\" (the weight of the company in your portfolio e.g. the value of the shares you hold) column."
   ]
  },
  {
   "cell_type": "code",
   "execution_count": 4,
   "metadata": {},
   "outputs": [],
   "source": [
    "portfolio = pd.read_csv(\"example_portfolio.csv\", encoding=\"iso-8859-1\")"
   ]
  },
  {
   "cell_type": "code",
   "execution_count": 5,
   "metadata": {},
   "outputs": [
    {
     "data": {
      "text/html": [
       "<div>\n",
       "<style scoped>\n",
       "    .dataframe tbody tr th:only-of-type {\n",
       "        vertical-align: middle;\n",
       "    }\n",
       "\n",
       "    .dataframe tbody tr th {\n",
       "        vertical-align: top;\n",
       "    }\n",
       "\n",
       "    .dataframe thead th {\n",
       "        text-align: right;\n",
       "    }\n",
       "</style>\n",
       "<table border=\"1\" class=\"dataframe\">\n",
       "  <thead>\n",
       "    <tr style=\"text-align: right;\">\n",
       "      <th></th>\n",
       "      <th>company_name</th>\n",
       "      <th>company_id</th>\n",
       "      <th>ISIN</th>\n",
       "      <th>weights</th>\n",
       "      <th>investment_value</th>\n",
       "      <th>engagement_target</th>\n",
       "    </tr>\n",
       "  </thead>\n",
       "  <tbody>\n",
       "    <tr>\n",
       "      <th>0</th>\n",
       "      <td>Advanced Micro Devices, Inc</td>\n",
       "      <td>US0079031078</td>\n",
       "      <td>US0079031078</td>\n",
       "      <td>6.36%</td>\n",
       "      <td>35000000</td>\n",
       "      <td>1.0</td>\n",
       "    </tr>\n",
       "    <tr>\n",
       "      <th>1</th>\n",
       "      <td>Adobe Systems Inc.</td>\n",
       "      <td>US00724F1012</td>\n",
       "      <td>US00724F1012</td>\n",
       "      <td>1.82%</td>\n",
       "      <td>10000000</td>\n",
       "      <td>NaN</td>\n",
       "    </tr>\n",
       "    <tr>\n",
       "      <th>2</th>\n",
       "      <td>Capgemini Group</td>\n",
       "      <td>FR0000125338</td>\n",
       "      <td>FR0000125338</td>\n",
       "      <td>1.82%</td>\n",
       "      <td>10000000</td>\n",
       "      <td>NaN</td>\n",
       "    </tr>\n",
       "    <tr>\n",
       "      <th>3</th>\n",
       "      <td>Cisco Systems, Inc.</td>\n",
       "      <td>US17275R1023</td>\n",
       "      <td>US17275R1023</td>\n",
       "      <td>1.82%</td>\n",
       "      <td>10000000</td>\n",
       "      <td>NaN</td>\n",
       "    </tr>\n",
       "    <tr>\n",
       "      <th>4</th>\n",
       "      <td>Coca-Cola HBC AG</td>\n",
       "      <td>CH0198251305</td>\n",
       "      <td>CH0198251305</td>\n",
       "      <td>1.82%</td>\n",
       "      <td>10000000</td>\n",
       "      <td>NaN</td>\n",
       "    </tr>\n",
       "  </tbody>\n",
       "</table>\n",
       "</div>"
      ],
      "text/plain": [
       "                  company_name    company_id          ISIN weights  \\\n",
       "0  Advanced Micro Devices, Inc  US0079031078  US0079031078   6.36%   \n",
       "1           Adobe Systems Inc.  US00724F1012  US00724F1012   1.82%   \n",
       "2              Capgemini Group  FR0000125338  FR0000125338   1.82%   \n",
       "3          Cisco Systems, Inc.  US17275R1023  US17275R1023   1.82%   \n",
       "4             Coca-Cola HBC AG  CH0198251305  CH0198251305   1.82%   \n",
       "\n",
       "   investment_value  engagement_target  \n",
       "0          35000000                1.0  \n",
       "1          10000000                NaN  \n",
       "2          10000000                NaN  \n",
       "3          10000000                NaN  \n",
       "4          10000000                NaN  "
      ]
     },
     "execution_count": 5,
     "metadata": {},
     "output_type": "execute_result"
    }
   ],
   "source": [
    "portfolio.head(5)"
   ]
  },
  {
   "cell_type": "markdown",
   "metadata": {},
   "source": [
    "To load the data from the data provider, we have to pass a list of dictionaries, containing a \"company_name\" and \"company_id\"."
   ]
  },
  {
   "cell_type": "code",
   "execution_count": 6,
   "metadata": {},
   "outputs": [],
   "source": [
    "companies = [SBTi.interfaces.PortfolioCompany.parse_obj(company) for company in portfolio.to_dict(orient=\"records\")]"
   ]
  },
  {
   "cell_type": "markdown",
   "metadata": {},
   "source": [
    "### Load the data\n",
    "We'll call the data provider and ask it to provide us with the targets and the company data."
   ]
  },
  {
   "cell_type": "code",
   "execution_count": 12,
   "metadata": {},
   "outputs": [],
   "source": [
    "portfolio_data = SBTi.utils.get_data([provider], companies)"
   ]
  },
  {
   "cell_type": "markdown",
   "metadata": {},
   "source": [
    "### Validate the targets\n",
    "We've now got our portfolio, amended with target data. Now we need to make sure that all the targets are valid (e.g. they haven't been reached yet and their end date isn't in the past)."
   ]
  },
  {
   "cell_type": "code",
   "execution_count": 13,
   "metadata": {},
   "outputs": [
    {
     "ename": "NameError",
     "evalue": "name 'TargetValidation' is not defined",
     "output_type": "error",
     "traceback": [
      "\u001b[1;31m---------------------------------------------------------------------------\u001b[0m",
      "\u001b[1;31mNameError\u001b[0m                                 Traceback (most recent call last)",
      "\u001b[1;32m<ipython-input-13-15b325904a26>\u001b[0m in \u001b[0;36m<module>\u001b[1;34m\u001b[0m\n\u001b[1;32m----> 1\u001b[1;33m \u001b[0mtarget_validation\u001b[0m \u001b[1;33m=\u001b[0m \u001b[0mTargetValidation\u001b[0m\u001b[1;33m(\u001b[0m\u001b[0mtarget_data\u001b[0m\u001b[1;33m,\u001b[0m \u001b[0mcompany_data\u001b[0m\u001b[1;33m)\u001b[0m\u001b[1;33m\u001b[0m\u001b[1;33m\u001b[0m\u001b[0m\n\u001b[0m\u001b[0;32m      2\u001b[0m \u001b[0mportfolio_data\u001b[0m \u001b[1;33m=\u001b[0m \u001b[0mtarget_validation\u001b[0m\u001b[1;33m.\u001b[0m\u001b[0mtarget_validation\u001b[0m\u001b[1;33m(\u001b[0m\u001b[1;33m)\u001b[0m\u001b[1;33m\u001b[0m\u001b[1;33m\u001b[0m\u001b[0m\n",
      "\u001b[1;31mNameError\u001b[0m: name 'TargetValidation' is not defined"
     ]
    }
   ],
   "source": [
    "target_validation = TargetProtocol(target_data, company_data)\n",
    "portfolio_data = target_validation.target_validation()"
   ]
  },
  {
   "cell_type": "markdown",
   "metadata": {},
   "source": [
    "### Calculate the temperature scores\n",
    "In the amended portfolio you'll find your original portfolio, amended with the emissions and the temperature score."
   ]
  },
  {
   "cell_type": "code",
   "execution_count": 35,
   "metadata": {},
   "outputs": [],
   "source": [
    "temperature_score = TemperatureScore(\n",
    "    time_frames=list(SBTi.interfaces.ETimeFrames), \n",
    "    scopes=[EScope.S1S2, EScope.S3, EScope.S1S2S3],\n",
    "    aggregation_method=PortfolioAggregationMethod.WATS\n",
    ")\n",
    "amended_portfolio = temperature_score.calculate(portfolio_data)"
   ]
  },
  {
   "cell_type": "code",
   "execution_count": 36,
   "metadata": {},
   "outputs": [
    {
     "data": {
      "text/html": [
       "<div>\n",
       "<style scoped>\n",
       "    .dataframe tbody tr th:only-of-type {\n",
       "        vertical-align: middle;\n",
       "    }\n",
       "\n",
       "    .dataframe tbody tr th {\n",
       "        vertical-align: top;\n",
       "    }\n",
       "\n",
       "    .dataframe thead th {\n",
       "        text-align: right;\n",
       "    }\n",
       "</style>\n",
       "<table border=\"1\" class=\"dataframe\">\n",
       "  <thead>\n",
       "    <tr style=\"text-align: right;\">\n",
       "      <th></th>\n",
       "      <th>achieved_reduction</th>\n",
       "      <th>base_year</th>\n",
       "      <th>base_year_ghg_s1</th>\n",
       "      <th>base_year_ghg_s2</th>\n",
       "      <th>base_year_ghg_s3</th>\n",
       "      <th>company_id</th>\n",
       "      <th>coverage_s1</th>\n",
       "      <th>coverage_s2</th>\n",
       "      <th>coverage_s3</th>\n",
       "      <th>end_year</th>\n",
       "      <th>...</th>\n",
       "      <th>annual_reduction_rate</th>\n",
       "      <th>slope</th>\n",
       "      <th>samplesize</th>\n",
       "      <th>model</th>\n",
       "      <th>variable</th>\n",
       "      <th>param</th>\n",
       "      <th>intercept</th>\n",
       "      <th>r2</th>\n",
       "      <th>temperature_score</th>\n",
       "      <th>temperature_results</th>\n",
       "    </tr>\n",
       "  </thead>\n",
       "  <tbody>\n",
       "    <tr>\n",
       "      <th>0</th>\n",
       "      <td>0.000</td>\n",
       "      <td>2015.0</td>\n",
       "      <td>2.202211e+05</td>\n",
       "      <td>310630.278165</td>\n",
       "      <td>NaN</td>\n",
       "      <td>US0079031078</td>\n",
       "      <td>1.00</td>\n",
       "      <td>1.00</td>\n",
       "      <td>NaN</td>\n",
       "      <td>2020.0</td>\n",
       "      <td>...</td>\n",
       "      <td>0.060000</td>\n",
       "      <td>slope5</td>\n",
       "      <td>128</td>\n",
       "      <td>4</td>\n",
       "      <td>Emissions|Kyoto Gases</td>\n",
       "      <td>-0.212692</td>\n",
       "      <td>2.574303</td>\n",
       "      <td>0.609039</td>\n",
       "      <td>1.30</td>\n",
       "      <td>0.000000</td>\n",
       "    </tr>\n",
       "    <tr>\n",
       "      <th>1</th>\n",
       "      <td>0.844</td>\n",
       "      <td>2014.0</td>\n",
       "      <td>2.794097e+06</td>\n",
       "      <td>544597.926996</td>\n",
       "      <td>NaN</td>\n",
       "      <td>US0079031078</td>\n",
       "      <td>NaN</td>\n",
       "      <td>NaN</td>\n",
       "      <td>0.95</td>\n",
       "      <td>2022.0</td>\n",
       "      <td>...</td>\n",
       "      <td>0.138571</td>\n",
       "      <td>slope5</td>\n",
       "      <td>128</td>\n",
       "      <td>4</td>\n",
       "      <td>Emissions|Kyoto Gases</td>\n",
       "      <td>-0.212692</td>\n",
       "      <td>2.574303</td>\n",
       "      <td>0.609039</td>\n",
       "      <td>0.00</td>\n",
       "      <td>0.000000</td>\n",
       "    </tr>\n",
       "    <tr>\n",
       "      <th>2</th>\n",
       "      <td>NaN</td>\n",
       "      <td>NaN</td>\n",
       "      <td>NaN</td>\n",
       "      <td>NaN</td>\n",
       "      <td>NaN</td>\n",
       "      <td>US0079031078</td>\n",
       "      <td>NaN</td>\n",
       "      <td>NaN</td>\n",
       "      <td>NaN</td>\n",
       "      <td>NaN</td>\n",
       "      <td>...</td>\n",
       "      <td>NaN</td>\n",
       "      <td>slope5</td>\n",
       "      <td>128</td>\n",
       "      <td>4</td>\n",
       "      <td>Emissions|Kyoto Gases</td>\n",
       "      <td>-0.212692</td>\n",
       "      <td>2.574303</td>\n",
       "      <td>0.609039</td>\n",
       "      <td>0.35</td>\n",
       "      <td>0.000000</td>\n",
       "    </tr>\n",
       "    <tr>\n",
       "      <th>3</th>\n",
       "      <td>0.740</td>\n",
       "      <td>2013.0</td>\n",
       "      <td>0.000000e+00</td>\n",
       "      <td>0.000000</td>\n",
       "      <td>NaN</td>\n",
       "      <td>US0079031078</td>\n",
       "      <td>0.86</td>\n",
       "      <td>0.86</td>\n",
       "      <td>NaN</td>\n",
       "      <td>2030.0</td>\n",
       "      <td>...</td>\n",
       "      <td>0.027785</td>\n",
       "      <td>slope15</td>\n",
       "      <td>128</td>\n",
       "      <td>4</td>\n",
       "      <td>Emissions|Kyoto Gases</td>\n",
       "      <td>-0.312329</td>\n",
       "      <td>2.697261</td>\n",
       "      <td>0.829523</td>\n",
       "      <td>1.83</td>\n",
       "      <td>0.000000</td>\n",
       "    </tr>\n",
       "    <tr>\n",
       "      <th>4</th>\n",
       "      <td>NaN</td>\n",
       "      <td>NaN</td>\n",
       "      <td>NaN</td>\n",
       "      <td>NaN</td>\n",
       "      <td>NaN</td>\n",
       "      <td>US0079031078</td>\n",
       "      <td>NaN</td>\n",
       "      <td>NaN</td>\n",
       "      <td>NaN</td>\n",
       "      <td>NaN</td>\n",
       "      <td>...</td>\n",
       "      <td>NaN</td>\n",
       "      <td>slope15</td>\n",
       "      <td>128</td>\n",
       "      <td>4</td>\n",
       "      <td>Emissions|Kyoto Gases</td>\n",
       "      <td>-0.312329</td>\n",
       "      <td>2.697261</td>\n",
       "      <td>0.829523</td>\n",
       "      <td>3.20</td>\n",
       "      <td>1.000000</td>\n",
       "    </tr>\n",
       "    <tr>\n",
       "      <th>5</th>\n",
       "      <td>NaN</td>\n",
       "      <td>NaN</td>\n",
       "      <td>NaN</td>\n",
       "      <td>NaN</td>\n",
       "      <td>NaN</td>\n",
       "      <td>US0079031078</td>\n",
       "      <td>NaN</td>\n",
       "      <td>NaN</td>\n",
       "      <td>NaN</td>\n",
       "      <td>NaN</td>\n",
       "      <td>...</td>\n",
       "      <td>NaN</td>\n",
       "      <td>slope15</td>\n",
       "      <td>128</td>\n",
       "      <td>4</td>\n",
       "      <td>Emissions|Kyoto Gases</td>\n",
       "      <td>-0.312329</td>\n",
       "      <td>2.697261</td>\n",
       "      <td>0.829523</td>\n",
       "      <td>2.83</td>\n",
       "      <td>0.727326</td>\n",
       "    </tr>\n",
       "    <tr>\n",
       "      <th>6</th>\n",
       "      <td>NaN</td>\n",
       "      <td>NaN</td>\n",
       "      <td>NaN</td>\n",
       "      <td>NaN</td>\n",
       "      <td>NaN</td>\n",
       "      <td>US0079031078</td>\n",
       "      <td>NaN</td>\n",
       "      <td>NaN</td>\n",
       "      <td>NaN</td>\n",
       "      <td>NaN</td>\n",
       "      <td>...</td>\n",
       "      <td>NaN</td>\n",
       "      <td>slope30</td>\n",
       "      <td>128</td>\n",
       "      <td>4</td>\n",
       "      <td>Emissions|Kyoto Gases</td>\n",
       "      <td>-0.483331</td>\n",
       "      <td>2.841338</td>\n",
       "      <td>0.925768</td>\n",
       "      <td>3.20</td>\n",
       "      <td>1.000000</td>\n",
       "    </tr>\n",
       "    <tr>\n",
       "      <th>7</th>\n",
       "      <td>NaN</td>\n",
       "      <td>NaN</td>\n",
       "      <td>NaN</td>\n",
       "      <td>NaN</td>\n",
       "      <td>NaN</td>\n",
       "      <td>US0079031078</td>\n",
       "      <td>NaN</td>\n",
       "      <td>NaN</td>\n",
       "      <td>NaN</td>\n",
       "      <td>NaN</td>\n",
       "      <td>...</td>\n",
       "      <td>NaN</td>\n",
       "      <td>slope30</td>\n",
       "      <td>128</td>\n",
       "      <td>4</td>\n",
       "      <td>Emissions|Kyoto Gases</td>\n",
       "      <td>-0.483331</td>\n",
       "      <td>2.841338</td>\n",
       "      <td>0.925768</td>\n",
       "      <td>3.20</td>\n",
       "      <td>1.000000</td>\n",
       "    </tr>\n",
       "    <tr>\n",
       "      <th>8</th>\n",
       "      <td>NaN</td>\n",
       "      <td>NaN</td>\n",
       "      <td>NaN</td>\n",
       "      <td>NaN</td>\n",
       "      <td>NaN</td>\n",
       "      <td>US0079031078</td>\n",
       "      <td>NaN</td>\n",
       "      <td>NaN</td>\n",
       "      <td>NaN</td>\n",
       "      <td>NaN</td>\n",
       "      <td>...</td>\n",
       "      <td>NaN</td>\n",
       "      <td>slope30</td>\n",
       "      <td>128</td>\n",
       "      <td>4</td>\n",
       "      <td>Emissions|Kyoto Gases</td>\n",
       "      <td>-0.483331</td>\n",
       "      <td>2.841338</td>\n",
       "      <td>0.925768</td>\n",
       "      <td>3.20</td>\n",
       "      <td>1.000000</td>\n",
       "    </tr>\n",
       "    <tr>\n",
       "      <th>9</th>\n",
       "      <td>NaN</td>\n",
       "      <td>NaN</td>\n",
       "      <td>NaN</td>\n",
       "      <td>NaN</td>\n",
       "      <td>NaN</td>\n",
       "      <td>US00724F1012</td>\n",
       "      <td>NaN</td>\n",
       "      <td>NaN</td>\n",
       "      <td>NaN</td>\n",
       "      <td>NaN</td>\n",
       "      <td>...</td>\n",
       "      <td>NaN</td>\n",
       "      <td>slope5</td>\n",
       "      <td>128</td>\n",
       "      <td>4</td>\n",
       "      <td>Emissions|Kyoto Gases</td>\n",
       "      <td>-0.212692</td>\n",
       "      <td>2.574303</td>\n",
       "      <td>0.609039</td>\n",
       "      <td>3.20</td>\n",
       "      <td>1.000000</td>\n",
       "    </tr>\n",
       "  </tbody>\n",
       "</table>\n",
       "<p>10 rows × 44 columns</p>\n",
       "</div>"
      ],
      "text/plain": [
       "   achieved_reduction  base_year  base_year_ghg_s1  base_year_ghg_s2  \\\n",
       "0               0.000     2015.0      2.202211e+05     310630.278165   \n",
       "1               0.844     2014.0      2.794097e+06     544597.926996   \n",
       "2                 NaN        NaN               NaN               NaN   \n",
       "3               0.740     2013.0      0.000000e+00          0.000000   \n",
       "4                 NaN        NaN               NaN               NaN   \n",
       "5                 NaN        NaN               NaN               NaN   \n",
       "6                 NaN        NaN               NaN               NaN   \n",
       "7                 NaN        NaN               NaN               NaN   \n",
       "8                 NaN        NaN               NaN               NaN   \n",
       "9                 NaN        NaN               NaN               NaN   \n",
       "\n",
       "   base_year_ghg_s3    company_id  coverage_s1  coverage_s2  coverage_s3  \\\n",
       "0               NaN  US0079031078         1.00         1.00          NaN   \n",
       "1               NaN  US0079031078          NaN          NaN         0.95   \n",
       "2               NaN  US0079031078          NaN          NaN          NaN   \n",
       "3               NaN  US0079031078         0.86         0.86          NaN   \n",
       "4               NaN  US0079031078          NaN          NaN          NaN   \n",
       "5               NaN  US0079031078          NaN          NaN          NaN   \n",
       "6               NaN  US0079031078          NaN          NaN          NaN   \n",
       "7               NaN  US0079031078          NaN          NaN          NaN   \n",
       "8               NaN  US0079031078          NaN          NaN          NaN   \n",
       "9               NaN  US00724F1012          NaN          NaN          NaN   \n",
       "\n",
       "   end_year  ... annual_reduction_rate    slope samplesize  model  \\\n",
       "0    2020.0  ...              0.060000   slope5        128      4   \n",
       "1    2022.0  ...              0.138571   slope5        128      4   \n",
       "2       NaN  ...                   NaN   slope5        128      4   \n",
       "3    2030.0  ...              0.027785  slope15        128      4   \n",
       "4       NaN  ...                   NaN  slope15        128      4   \n",
       "5       NaN  ...                   NaN  slope15        128      4   \n",
       "6       NaN  ...                   NaN  slope30        128      4   \n",
       "7       NaN  ...                   NaN  slope30        128      4   \n",
       "8       NaN  ...                   NaN  slope30        128      4   \n",
       "9       NaN  ...                   NaN   slope5        128      4   \n",
       "\n",
       "                variable     param intercept        r2  temperature_score  \\\n",
       "0  Emissions|Kyoto Gases -0.212692  2.574303  0.609039               1.30   \n",
       "1  Emissions|Kyoto Gases -0.212692  2.574303  0.609039               0.00   \n",
       "2  Emissions|Kyoto Gases -0.212692  2.574303  0.609039               0.35   \n",
       "3  Emissions|Kyoto Gases -0.312329  2.697261  0.829523               1.83   \n",
       "4  Emissions|Kyoto Gases -0.312329  2.697261  0.829523               3.20   \n",
       "5  Emissions|Kyoto Gases -0.312329  2.697261  0.829523               2.83   \n",
       "6  Emissions|Kyoto Gases -0.483331  2.841338  0.925768               3.20   \n",
       "7  Emissions|Kyoto Gases -0.483331  2.841338  0.925768               3.20   \n",
       "8  Emissions|Kyoto Gases -0.483331  2.841338  0.925768               3.20   \n",
       "9  Emissions|Kyoto Gases -0.212692  2.574303  0.609039               3.20   \n",
       "\n",
       "  temperature_results  \n",
       "0            0.000000  \n",
       "1            0.000000  \n",
       "2            0.000000  \n",
       "3            0.000000  \n",
       "4            1.000000  \n",
       "5            0.727326  \n",
       "6            1.000000  \n",
       "7            1.000000  \n",
       "8            1.000000  \n",
       "9            1.000000  \n",
       "\n",
       "[10 rows x 44 columns]"
      ]
     },
     "execution_count": 36,
     "metadata": {},
     "output_type": "execute_result"
    }
   ],
   "source": [
    "amended_portfolio.head(10)"
   ]
  },
  {
   "cell_type": "markdown",
   "metadata": {},
   "source": [
    "### Calculate the aggregated temperature score\n",
    "Calculate an aggregated temperature score. This can be done use different aggregation methods. Here we'll use the \"Weighted Average Temperature Score\". For more details, have a look at notebook 3 (\"3_portfolio_aggregations.ipynb\"). The termperature scores are calculated per time-frame/scope combination."
   ]
  },
  {
   "cell_type": "code",
   "execution_count": 62,
   "metadata": {},
   "outputs": [],
   "source": [
    "def print_aggregations(aggregations):\n",
    "    aggregations = aggregations.dict()\n",
    "    for time_frame, time_frame_values in aggregations.items():\n",
    "        for scope, scope_values in time_frame_values.items():\n",
    "            print(\"{} - {}: {} degrees celcius\".format(time_frame, scope, scope_values[\"all\"][\"score\"]))"
   ]
  },
  {
   "cell_type": "code",
   "execution_count": 63,
   "metadata": {},
   "outputs": [
    {
     "name": "stdout",
     "output_type": "stream",
     "text": [
      "short - S1S2: 2.2349090909090905 degrees celcius\n",
      "short - S3: 2.8205454545454542 degrees celcius\n",
      "short - S1S2S3: 2.670272727272727 degrees celcius\n",
      "mid - S1S2: 2.7351818181818177 degrees celcius\n",
      "mid - S3: 3.0340000000000003 degrees celcius\n",
      "mid - S1S2S3: 2.9639090909090906 degrees celcius\n",
      "long - S1S2: 3.122181818181818 degrees celcius\n",
      "long - S3: 3.2258181818181817 degrees celcius\n",
      "long - S1S2S3: 3.199636363636363 degrees celcius\n"
     ]
    }
   ],
   "source": [
    "print_aggregations(temperature_score.aggregate_scores(amended_portfolio))"
   ]
  },
  {
   "cell_type": "markdown",
   "metadata": {},
   "source": [
    "### Portfolio coverage\n",
    "\n",
    "Gives insights in the coverage of portfolio entities that has set GHG emissions reduction targets, STBi-validated or otherwise. Companies with SBTi status Approved have a score of 100%, all others have a score of 0%. \n",
    "\n",
    "This can be done use different aggregation methods. Here we'll use the \"Weighted Average Temperature Score\". For more details, have a look at notebook 3 (\"3_portfolio_aggregations.ipynb\")."
   ]
  },
  {
   "cell_type": "code",
   "execution_count": 64,
   "metadata": {},
   "outputs": [
    {
     "data": {
      "text/plain": [
       "35.45"
      ]
     },
     "execution_count": 64,
     "metadata": {},
     "output_type": "execute_result"
    }
   ],
   "source": [
    "portfolio_coverage_tvp = PortfolioCoverageTVP()\n",
    "coverage = portfolio_coverage_tvp.get_portfolio_coverage(amended_portfolio.copy(), PortfolioAggregationMethod.WATS)\n",
    "round(coverage * 100) / 100"
   ]
  }
 ],
 "metadata": {
  "kernelspec": {
   "display_name": "Python 3",
   "language": "python",
   "name": "python3"
  },
  "language_info": {
   "codemirror_mode": {
    "name": "ipython",
    "version": 3
   },
   "file_extension": ".py",
   "mimetype": "text/x-python",
   "name": "python",
   "nbconvert_exporter": "python",
   "pygments_lexer": "ipython3",
   "version": "3.7.6"
  }
 },
 "nbformat": 4,
 "nbformat_minor": 4
}
