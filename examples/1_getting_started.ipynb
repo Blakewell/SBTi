{
 "cells": [
  {
   "cell_type": "markdown",
   "metadata": {},
   "source": [
    "# SBTi Temperature Alignment tool examples\n",
    "This notebook provides some examples on how to use the SBTi Temperature Alignment tool."
   ]
  },
  {
   "cell_type": "markdown",
   "metadata": {},
   "source": [
    "## Install the SBTi Python module\n",
    "This is only required if you didn't already instally the module."
   ]
  },
  {
   "cell_type": "code",
   "execution_count": null,
   "metadata": {},
   "outputs": [],
   "source": [
    "!pip install SBTi"
   ]
  },
  {
   "cell_type": "code",
   "execution_count": 1,
   "metadata": {
    "scrolled": true
   },
   "outputs": [],
   "source": [
    "import SBTi\n",
    "from SBTi.data.excel import ExcelProvider\n",
    "from SBTi.portfolio_aggregation import PortfolioAggregationMethod\n",
    "from SBTi.portfolio_coverage_tvp import PortfolioCoverageTVP\n",
    "from SBTi.temperature_score import TemperatureScore, Scenario\n",
    "from SBTi.target_validation import TargetProtocol\n",
    "from SBTi.interfaces import ETimeFrames, EScope\n",
    "import pandas as pd"
   ]
  },
  {
   "cell_type": "markdown",
   "metadata": {},
   "source": [
    "## Download the dummy data provider"
   ]
  },
  {
   "cell_type": "code",
   "execution_count": 2,
   "metadata": {},
   "outputs": [],
   "source": [
    "import urllib.request\n",
    "import os\n",
    "\n",
    "if not os.path.isdir(\"data\"):\n",
    "    os.mkdir(\"data\")\n",
    "if not os.path.isfile(\"data/data_provider_example.xlsx\"):\n",
    "    urllib.request.urlretrieve(\"https://github.com/OFBDABV/SBTi/raw/master/examples/data/data_provider_example.xlsx\", \"data/data_provider_example.xlsx\")\n",
    "if not os.path.isfile(\"example_portfolio.csv\"):\n",
    "    urllib.request.urlretrieve(\"https://github.com/OFBDABV/SBTi/raw/master/examples/example_portfolio.csv\", \"example_portfolio.csv\")"
   ]
  },
  {
   "cell_type": "markdown",
   "metadata": {},
   "source": [
    "#### Logging\n",
    "The SBTi module uses the Python standard library logging utilities to send log messages. The log level can be changed according to the user's needs."
   ]
  },
  {
   "cell_type": "code",
   "execution_count": 3,
   "metadata": {},
   "outputs": [],
   "source": [
    "import logging\n",
    "root_logger = logging.getLogger()\n",
    "root_logger.setLevel(\"INFO\")"
   ]
  },
  {
   "cell_type": "markdown",
   "metadata": {},
   "source": [
    "### Create a data provider\n",
    "Data providers let you connect to the data source of your choice."
   ]
  },
  {
   "cell_type": "code",
   "execution_count": 4,
   "metadata": {},
   "outputs": [],
   "source": [
    "provider = ExcelProvider(path=\"data/data_provider_example.xlsx\")"
   ]
  },
  {
   "cell_type": "markdown",
   "metadata": {},
   "source": [
    "### Load your portfolio\n",
    "In our case the portfolio is stored as a CSV file. The portfolio should at least have an \"id\" (the identifier of the company) and a \"proportion\" (the weight of the company in your portfolio e.g. the value of the shares you hold) column."
   ]
  },
  {
   "cell_type": "code",
   "execution_count": 5,
   "metadata": {},
   "outputs": [],
   "source": [
    "portfolio = pd.read_csv(\"example_portfolio.csv\", encoding=\"iso-8859-1\")"
   ]
  },
  {
   "cell_type": "code",
   "execution_count": 6,
   "metadata": {},
   "outputs": [
    {
     "data": {
      "text/plain": "                  company_name    company_id          ISIN weights  \\\n0  Advanced Micro Devices, Inc  US0079031078  US0079031078   6.36%   \n1           Adobe Systems Inc.  US00724F1012  US00724F1012   1.82%   \n2              Capgemini Group  FR0000125338  FR0000125338   1.82%   \n3          Cisco Systems, Inc.  US17275R1023  US17275R1023   1.82%   \n4             Coca-Cola HBC AG  CH0198251305  CH0198251305   1.82%   \n\n   investment_value  engagement_target  \n0          35000000                1.0  \n1          10000000                NaN  \n2          10000000                NaN  \n3          10000000                NaN  \n4          10000000                NaN  ",
      "text/html": "<div>\n<style scoped>\n    .dataframe tbody tr th:only-of-type {\n        vertical-align: middle;\n    }\n\n    .dataframe tbody tr th {\n        vertical-align: top;\n    }\n\n    .dataframe thead th {\n        text-align: right;\n    }\n</style>\n<table border=\"1\" class=\"dataframe\">\n  <thead>\n    <tr style=\"text-align: right;\">\n      <th></th>\n      <th>company_name</th>\n      <th>company_id</th>\n      <th>ISIN</th>\n      <th>weights</th>\n      <th>investment_value</th>\n      <th>engagement_target</th>\n    </tr>\n  </thead>\n  <tbody>\n    <tr>\n      <th>0</th>\n      <td>Advanced Micro Devices, Inc</td>\n      <td>US0079031078</td>\n      <td>US0079031078</td>\n      <td>6.36%</td>\n      <td>35000000</td>\n      <td>1.0</td>\n    </tr>\n    <tr>\n      <th>1</th>\n      <td>Adobe Systems Inc.</td>\n      <td>US00724F1012</td>\n      <td>US00724F1012</td>\n      <td>1.82%</td>\n      <td>10000000</td>\n      <td>NaN</td>\n    </tr>\n    <tr>\n      <th>2</th>\n      <td>Capgemini Group</td>\n      <td>FR0000125338</td>\n      <td>FR0000125338</td>\n      <td>1.82%</td>\n      <td>10000000</td>\n      <td>NaN</td>\n    </tr>\n    <tr>\n      <th>3</th>\n      <td>Cisco Systems, Inc.</td>\n      <td>US17275R1023</td>\n      <td>US17275R1023</td>\n      <td>1.82%</td>\n      <td>10000000</td>\n      <td>NaN</td>\n    </tr>\n    <tr>\n      <th>4</th>\n      <td>Coca-Cola HBC AG</td>\n      <td>CH0198251305</td>\n      <td>CH0198251305</td>\n      <td>1.82%</td>\n      <td>10000000</td>\n      <td>NaN</td>\n    </tr>\n  </tbody>\n</table>\n</div>"
     },
     "execution_count": 6,
     "metadata": {},
     "output_type": "execute_result"
    }
   ],
   "source": [
    "portfolio.head(5)"
   ]
  },
  {
   "cell_type": "markdown",
   "metadata": {},
   "source": [
    "To load the data from the data provider, we have to pass a list of dictionaries, containing a \"company_name\" and \"company_id\"."
   ]
  },
  {
   "cell_type": "code",
   "execution_count": 7,
   "metadata": {},
   "outputs": [
    {
     "name": "stdout",
     "output_type": "stream",
     "text": [
      "[{'company_name': 'Advanced Micro Devices, Inc', 'company_id': 'US0079031078', 'ISIN': 'US0079031078', 'weights': '6.36%', 'investment_value': 35000000, 'engagement_target': 1.0, 'company_isin': 'US0079031078'}, {'company_name': 'Adobe Systems Inc.', 'company_id': 'US00724F1012', 'ISIN': 'US00724F1012', 'weights': '1.82%', 'investment_value': 10000000, 'engagement_target': nan, 'company_isin': 'US00724F1012'}, {'company_name': 'Capgemini Group', 'company_id': 'FR0000125338', 'ISIN': 'FR0000125338', 'weights': '1.82%', 'investment_value': 10000000, 'engagement_target': nan, 'company_isin': 'FR0000125338'}, {'company_name': 'Cisco Systems, Inc.', 'company_id': 'US17275R1023', 'ISIN': 'US17275R1023', 'weights': '1.82%', 'investment_value': 10000000, 'engagement_target': nan, 'company_isin': 'US17275R1023'}, {'company_name': 'Coca-Cola HBC AG', 'company_id': 'CH0198251305', 'ISIN': 'CH0198251305', 'weights': '1.82%', 'investment_value': 10000000, 'engagement_target': nan, 'company_isin': 'CH0198251305'}, {'company_name': 'CVS Health', 'company_id': 'US1266501006', 'ISIN': 'US1266501006', 'weights': '1.82%', 'investment_value': 10000000, 'engagement_target': nan, 'company_isin': 'US1266501006'}, {'company_name': 'Danone', 'company_id': 'FR0000120644', 'ISIN': 'FR0000120644', 'weights': '1.82%', 'investment_value': 10000000, 'engagement_target': nan, 'company_isin': 'FR0000120644'}, {'company_name': 'Dell Technologies', 'company_id': 'US24703L1035', 'ISIN': 'US24703L1035', 'weights': '1.82%', 'investment_value': 10000000, 'engagement_target': nan, 'company_isin': 'US24703L1035'}, {'company_name': 'Delta Electronics', 'company_id': 'TW0002308004', 'ISIN': 'TW0002308004', 'weights': '1.82%', 'investment_value': 10000000, 'engagement_target': nan, 'company_isin': 'TW0002308004'}, {'company_name': \"L'Oréal\", 'company_id': 'FR0000120321', 'ISIN': 'FR0000120321', 'weights': '1.82%', 'investment_value': 10000000, 'engagement_target': nan, 'company_isin': 'FR0000120321'}, {'company_name': 'Nestlé', 'company_id': 'CH0038863350', 'ISIN': 'CH0038863350', 'weights': '1.82%', 'investment_value': 10000000, 'engagement_target': nan, 'company_isin': 'CH0038863350'}, {'company_name': 'Sony Corporation', 'company_id': 'US8356993076', 'ISIN': 'US8356993076', 'weights': '1.82%', 'investment_value': 10000000, 'engagement_target': nan, 'company_isin': 'US8356993076'}, {'company_name': 'SUMITOMO CHEMICAL Co., Ltd.', 'company_id': 'JP3401400001', 'ISIN': 'JP3401400001', 'weights': '1.82%', 'investment_value': 10000000, 'engagement_target': nan, 'company_isin': 'JP3401400001'}, {'company_name': 'NIKE, Inc.', 'company_id': 'US6541061031', 'ISIN': 'US6541061031', 'weights': '1.82%', 'investment_value': 10000000, 'engagement_target': nan, 'company_isin': 'US6541061031'}, {'company_name': 'Marks & Spencer', 'company_id': 'GB0031274896', 'ISIN': 'GB0031274896', 'weights': '1.82%', 'investment_value': 10000000, 'engagement_target': nan, 'company_isin': 'GB0031274896'}, {'company_name': 'NRG Energy Inc', 'company_id': 'US6293775085', 'ISIN': 'US6293775085', 'weights': '1.82%', 'investment_value': 10000000, 'engagement_target': nan, 'company_isin': 'US6293775085'}, {'company_name': 'PepsiCo, Inc.', 'company_id': 'US7134481081', 'ISIN': 'US7134481081', 'weights': '1.82%', 'investment_value': 10000000, 'engagement_target': nan, 'company_isin': 'US7134481081'}, {'company_name': 'Company A', 'company_id': 'JP0000000001', 'ISIN': 'JP0000000001', 'weights': '1.82%', 'investment_value': 10000000, 'engagement_target': 1.0, 'company_isin': 'JP0000000001'}, {'company_name': 'Company B', 'company_id': 'NL0000000002', 'ISIN': 'NL0000000002', 'weights': '1.82%', 'investment_value': 10000000, 'engagement_target': nan, 'company_isin': 'NL0000000002'}, {'company_name': 'Company C', 'company_id': 'IT0000000003', 'ISIN': 'IT0000000003', 'weights': '1.82%', 'investment_value': 10000000, 'engagement_target': nan, 'company_isin': 'IT0000000003'}, {'company_name': 'Company D', 'company_id': 'SE0000000004', 'ISIN': 'SE0000000004', 'weights': '1.82%', 'investment_value': 10000000, 'engagement_target': nan, 'company_isin': 'SE0000000004'}, {'company_name': 'Company E', 'company_id': 'SE0000000005', 'ISIN': 'SE0000000005', 'weights': '1.82%', 'investment_value': 10000000, 'engagement_target': nan, 'company_isin': 'SE0000000005'}, {'company_name': 'Company F', 'company_id': 'NL0000000006', 'ISIN': 'NL0000000006', 'weights': '1.82%', 'investment_value': 10000000, 'engagement_target': 1.0, 'company_isin': 'NL0000000006'}, {'company_name': 'Company G', 'company_id': 'CN0000000007', 'ISIN': 'CN0000000007', 'weights': '1.82%', 'investment_value': 10000000, 'engagement_target': nan, 'company_isin': 'CN0000000007'}, {'company_name': 'Company H', 'company_id': 'CN0000000008', 'ISIN': 'CN0000000008', 'weights': '1.82%', 'investment_value': 10000000, 'engagement_target': nan, 'company_isin': 'CN0000000008'}, {'company_name': 'Company I', 'company_id': 'CN0000000009', 'ISIN': 'CN0000000009', 'weights': '1.82%', 'investment_value': 10000000, 'engagement_target': nan, 'company_isin': 'CN0000000009'}, {'company_name': 'Company J', 'company_id': 'BR0000000010', 'ISIN': 'BR0000000010', 'weights': '1.82%', 'investment_value': 10000000, 'engagement_target': nan, 'company_isin': 'BR0000000010'}, {'company_name': 'Company K', 'company_id': 'BR0000000011', 'ISIN': 'BR0000000011', 'weights': '1.82%', 'investment_value': 10000000, 'engagement_target': 1.0, 'company_isin': 'BR0000000011'}, {'company_name': 'Company L', 'company_id': 'BR0000000012', 'ISIN': 'BR0000000012', 'weights': '1.82%', 'investment_value': 10000000, 'engagement_target': nan, 'company_isin': 'BR0000000012'}, {'company_name': 'Company M', 'company_id': 'AR0000000013', 'ISIN': 'AR0000000013', 'weights': '1.82%', 'investment_value': 10000000, 'engagement_target': nan, 'company_isin': 'AR0000000013'}, {'company_name': 'Company N', 'company_id': 'FR0000000014', 'ISIN': 'FR0000000014', 'weights': '7.82%', 'investment_value': 43000000, 'engagement_target': nan, 'company_isin': 'FR0000000014'}, {'company_name': 'Company O', 'company_id': 'FR0000000015', 'ISIN': 'FR0000000015', 'weights': '1.82%', 'investment_value': 10000000, 'engagement_target': nan, 'company_isin': 'FR0000000015'}, {'company_name': 'Company P', 'company_id': 'FR0000000016', 'ISIN': 'FR0000000016', 'weights': '1.82%', 'investment_value': 10000000, 'engagement_target': nan, 'company_isin': 'FR0000000016'}, {'company_name': 'Company Q', 'company_id': 'CA0000000017', 'ISIN': 'CA0000000017', 'weights': '2.18%', 'investment_value': 12000000, 'engagement_target': nan, 'company_isin': 'CA0000000017'}, {'company_name': 'Company R', 'company_id': 'CA0000000018', 'ISIN': 'CA0000000018', 'weights': '1.82%', 'investment_value': 10000000, 'engagement_target': nan, 'company_isin': 'CA0000000018'}, {'company_name': 'Company S', 'company_id': 'CA0000000019', 'ISIN': 'CA0000000019', 'weights': '1.82%', 'investment_value': 10000000, 'engagement_target': nan, 'company_isin': 'CA0000000019'}, {'company_name': 'Company T', 'company_id': 'CA0000000020', 'ISIN': 'CA0000000020', 'weights': '1.82%', 'investment_value': 10000000, 'engagement_target': nan, 'company_isin': 'CA0000000020'}, {'company_name': 'Company U', 'company_id': 'US0000000021', 'ISIN': 'US0000000021', 'weights': '1.82%', 'investment_value': 10000000, 'engagement_target': 1.0, 'company_isin': 'US0000000021'}, {'company_name': 'Company V', 'company_id': 'US0000000022', 'ISIN': 'US0000000022', 'weights': '1.82%', 'investment_value': 10000000, 'engagement_target': nan, 'company_isin': 'US0000000022'}, {'company_name': 'Company W', 'company_id': 'US0000000023', 'ISIN': 'US0000000023', 'weights': '1.82%', 'investment_value': 10000000, 'engagement_target': nan, 'company_isin': 'US0000000023'}, {'company_name': 'Company X', 'company_id': 'FI0000000024', 'ISIN': 'FI0000000024', 'weights': '1.82%', 'investment_value': 10000000, 'engagement_target': nan, 'company_isin': 'FI0000000024'}, {'company_name': 'Company Y', 'company_id': 'DK0000000025', 'ISIN': 'DK0000000025', 'weights': '1.82%', 'investment_value': 10000000, 'engagement_target': nan, 'company_isin': 'DK0000000025'}, {'company_name': 'Company Z', 'company_id': 'JP0000000026', 'ISIN': 'JP0000000026', 'weights': '1.82%', 'investment_value': 10000000, 'engagement_target': nan, 'company_isin': 'JP0000000026'}, {'company_name': 'Company AA', 'company_id': 'SP0000000027', 'ISIN': 'SP0000000027', 'weights': '1.82%', 'investment_value': 10000000, 'engagement_target': 1.0, 'company_isin': 'SP0000000027'}, {'company_name': 'Company AB', 'company_id': 'RU0000000028', 'ISIN': 'RU0000000028', 'weights': '1.82%', 'investment_value': 10000000, 'engagement_target': nan, 'company_isin': 'RU0000000028'}, {'company_name': 'Company AC', 'company_id': 'ZA0000000029', 'ISIN': 'ZA0000000029', 'weights': '1.82%', 'investment_value': 10000000, 'engagement_target': nan, 'company_isin': 'ZA0000000029'}, {'company_name': 'Company AD', 'company_id': 'KE0000000030', 'ISIN': 'KE0000000030', 'weights': '1.82%', 'investment_value': 10000000, 'engagement_target': nan, 'company_isin': 'KE0000000030'}, {'company_name': 'Company AE', 'company_id': 'TH0000000031', 'ISIN': 'TH0000000031', 'weights': '1.82%', 'investment_value': 10000000, 'engagement_target': nan, 'company_isin': 'TH0000000031'}, {'company_name': 'Company AF', 'company_id': 'ID0000000032', 'ISIN': 'ID0000000032', 'weights': '1.82%', 'investment_value': 10000000, 'engagement_target': nan, 'company_isin': 'ID0000000032'}]\n"
     ]
    }
   ],
   "source": [
    "portfolio[\"company_isin\"] = portfolio.ISIN\n",
    "companies = [SBTi.interfaces.PortfolioCompany.parse_obj(company) for company in portfolio.to_dict(orient=\"records\")]\n",
    "print(portfolio.to_dict(orient=\"records\"))"
   ]
  },
  {
   "cell_type": "markdown",
   "metadata": {},
   "source": [
    "### Load the data\n",
    "We'll call the data provider and ask it to provide us with the targets and the company data. This will take care of all required preprocessing."
   ]
  },
  {
   "cell_type": "code",
   "execution_count": 8,
   "metadata": {},
   "outputs": [],
   "source": [
    "portfolio_data = SBTi.utils.get_data([provider], companies)"
   ]
  },
  {
   "cell_type": "markdown",
   "metadata": {},
   "source": [
    "### Calculate the temperature scores\n",
    "In the amended portfolio you'll find your original portfolio, amended with the emissions and the temperature score."
   ]
  },
  {
   "cell_type": "code",
   "execution_count": 9,
   "metadata": {},
   "outputs": [],
   "source": [
    "temperature_score = TemperatureScore(\n",
    "    time_frames=list(SBTi.interfaces.ETimeFrames), \n",
    "    scopes=[EScope.S1S2, EScope.S3, EScope.S1S2S3],\n",
    "    aggregation_method=PortfolioAggregationMethod.WATS\n",
    ")\n",
    "amended_portfolio = temperature_score.calculate(portfolio_data)"
   ]
  },
  {
   "cell_type": "code",
   "execution_count": 10,
   "metadata": {},
   "outputs": [
    {
     "data": {
      "text/plain": "   achieved_reduction  base_year  base_year_ghg_s1  base_year_ghg_s2  \\\n0               0.000     2015.0      2.202211e+05     310630.278165   \n1               0.844     2014.0      2.794097e+06     544597.926996   \n2                 NaN        NaN               NaN               NaN   \n3               0.740     2013.0      0.000000e+00          0.000000   \n4                 NaN        NaN               NaN               NaN   \n5                 NaN        NaN               NaN               NaN   \n6                 NaN        NaN               NaN               NaN   \n7                 NaN        NaN               NaN               NaN   \n8                 NaN        NaN               NaN               NaN   \n9                 NaN        NaN               NaN               NaN   \n\n   base_year_ghg_s3    company_id  coverage_s1  coverage_s2  coverage_s3  \\\n0               NaN  US0079031078         1.00         1.00          NaN   \n1               NaN  US0079031078          NaN          NaN         0.95   \n2               NaN  US0079031078          NaN          NaN          NaN   \n3               NaN  US0079031078         0.86         0.86          NaN   \n4               NaN  US0079031078          NaN          NaN          NaN   \n5               NaN  US0079031078          NaN          NaN          NaN   \n6               NaN  US0079031078          NaN          NaN          NaN   \n7               NaN  US0079031078          NaN          NaN          NaN   \n8               NaN  US0079031078          NaN          NaN          NaN   \n9               NaN  US00724F1012          NaN          NaN          NaN   \n\n   end_year  ... annual_reduction_rate    slope samplesize  model  \\\n0    2020.0  ...              0.060000   slope5        128      4   \n1    2022.0  ...              0.138571   slope5        128      4   \n2       NaN  ...                   NaN   slope5        128      4   \n3    2030.0  ...              0.027785  slope15        128      4   \n4       NaN  ...                   NaN  slope15        128      4   \n5       NaN  ...                   NaN  slope15        128      4   \n6       NaN  ...                   NaN  slope30        128      4   \n7       NaN  ...                   NaN  slope30        128      4   \n8       NaN  ...                   NaN  slope30        128      4   \n9       NaN  ...                   NaN   slope5        128      4   \n\n                variable     param intercept        r2  temperature_score  \\\n0  Emissions|Kyoto Gases -0.212692  2.574303  0.609039               1.30   \n1  Emissions|Kyoto Gases -0.212692  2.574303  0.609039               0.00   \n2  Emissions|Kyoto Gases -0.212692  2.574303  0.609039               0.35   \n3  Emissions|Kyoto Gases -0.312329  2.697261  0.829523               1.83   \n4  Emissions|Kyoto Gases -0.312329  2.697261  0.829523               3.20   \n5  Emissions|Kyoto Gases -0.312329  2.697261  0.829523               2.83   \n6  Emissions|Kyoto Gases -0.483331  2.841338  0.925768               3.20   \n7  Emissions|Kyoto Gases -0.483331  2.841338  0.925768               3.20   \n8  Emissions|Kyoto Gases -0.483331  2.841338  0.925768               3.20   \n9  Emissions|Kyoto Gases -0.212692  2.574303  0.609039               3.20   \n\n   temperature_results  \n0             0.000000  \n1             0.000000  \n2             0.000000  \n3             0.000000  \n4             1.000000  \n5             0.727326  \n6             1.000000  \n7             1.000000  \n8             1.000000  \n9             1.000000  \n\n[10 rows x 47 columns]",
      "text/html": "<div>\n<style scoped>\n    .dataframe tbody tr th:only-of-type {\n        vertical-align: middle;\n    }\n\n    .dataframe tbody tr th {\n        vertical-align: top;\n    }\n\n    .dataframe thead th {\n        text-align: right;\n    }\n</style>\n<table border=\"1\" class=\"dataframe\">\n  <thead>\n    <tr style=\"text-align: right;\">\n      <th></th>\n      <th>achieved_reduction</th>\n      <th>base_year</th>\n      <th>base_year_ghg_s1</th>\n      <th>base_year_ghg_s2</th>\n      <th>base_year_ghg_s3</th>\n      <th>company_id</th>\n      <th>coverage_s1</th>\n      <th>coverage_s2</th>\n      <th>coverage_s3</th>\n      <th>end_year</th>\n      <th>...</th>\n      <th>annual_reduction_rate</th>\n      <th>slope</th>\n      <th>samplesize</th>\n      <th>model</th>\n      <th>variable</th>\n      <th>param</th>\n      <th>intercept</th>\n      <th>r2</th>\n      <th>temperature_score</th>\n      <th>temperature_results</th>\n    </tr>\n  </thead>\n  <tbody>\n    <tr>\n      <th>0</th>\n      <td>0.000</td>\n      <td>2015.0</td>\n      <td>2.202211e+05</td>\n      <td>310630.278165</td>\n      <td>NaN</td>\n      <td>US0079031078</td>\n      <td>1.00</td>\n      <td>1.00</td>\n      <td>NaN</td>\n      <td>2020.0</td>\n      <td>...</td>\n      <td>0.060000</td>\n      <td>slope5</td>\n      <td>128</td>\n      <td>4</td>\n      <td>Emissions|Kyoto Gases</td>\n      <td>-0.212692</td>\n      <td>2.574303</td>\n      <td>0.609039</td>\n      <td>1.30</td>\n      <td>0.000000</td>\n    </tr>\n    <tr>\n      <th>1</th>\n      <td>0.844</td>\n      <td>2014.0</td>\n      <td>2.794097e+06</td>\n      <td>544597.926996</td>\n      <td>NaN</td>\n      <td>US0079031078</td>\n      <td>NaN</td>\n      <td>NaN</td>\n      <td>0.95</td>\n      <td>2022.0</td>\n      <td>...</td>\n      <td>0.138571</td>\n      <td>slope5</td>\n      <td>128</td>\n      <td>4</td>\n      <td>Emissions|Kyoto Gases</td>\n      <td>-0.212692</td>\n      <td>2.574303</td>\n      <td>0.609039</td>\n      <td>0.00</td>\n      <td>0.000000</td>\n    </tr>\n    <tr>\n      <th>2</th>\n      <td>NaN</td>\n      <td>NaN</td>\n      <td>NaN</td>\n      <td>NaN</td>\n      <td>NaN</td>\n      <td>US0079031078</td>\n      <td>NaN</td>\n      <td>NaN</td>\n      <td>NaN</td>\n      <td>NaN</td>\n      <td>...</td>\n      <td>NaN</td>\n      <td>slope5</td>\n      <td>128</td>\n      <td>4</td>\n      <td>Emissions|Kyoto Gases</td>\n      <td>-0.212692</td>\n      <td>2.574303</td>\n      <td>0.609039</td>\n      <td>0.35</td>\n      <td>0.000000</td>\n    </tr>\n    <tr>\n      <th>3</th>\n      <td>0.740</td>\n      <td>2013.0</td>\n      <td>0.000000e+00</td>\n      <td>0.000000</td>\n      <td>NaN</td>\n      <td>US0079031078</td>\n      <td>0.86</td>\n      <td>0.86</td>\n      <td>NaN</td>\n      <td>2030.0</td>\n      <td>...</td>\n      <td>0.027785</td>\n      <td>slope15</td>\n      <td>128</td>\n      <td>4</td>\n      <td>Emissions|Kyoto Gases</td>\n      <td>-0.312329</td>\n      <td>2.697261</td>\n      <td>0.829523</td>\n      <td>1.83</td>\n      <td>0.000000</td>\n    </tr>\n    <tr>\n      <th>4</th>\n      <td>NaN</td>\n      <td>NaN</td>\n      <td>NaN</td>\n      <td>NaN</td>\n      <td>NaN</td>\n      <td>US0079031078</td>\n      <td>NaN</td>\n      <td>NaN</td>\n      <td>NaN</td>\n      <td>NaN</td>\n      <td>...</td>\n      <td>NaN</td>\n      <td>slope15</td>\n      <td>128</td>\n      <td>4</td>\n      <td>Emissions|Kyoto Gases</td>\n      <td>-0.312329</td>\n      <td>2.697261</td>\n      <td>0.829523</td>\n      <td>3.20</td>\n      <td>1.000000</td>\n    </tr>\n    <tr>\n      <th>5</th>\n      <td>NaN</td>\n      <td>NaN</td>\n      <td>NaN</td>\n      <td>NaN</td>\n      <td>NaN</td>\n      <td>US0079031078</td>\n      <td>NaN</td>\n      <td>NaN</td>\n      <td>NaN</td>\n      <td>NaN</td>\n      <td>...</td>\n      <td>NaN</td>\n      <td>slope15</td>\n      <td>128</td>\n      <td>4</td>\n      <td>Emissions|Kyoto Gases</td>\n      <td>-0.312329</td>\n      <td>2.697261</td>\n      <td>0.829523</td>\n      <td>2.83</td>\n      <td>0.727326</td>\n    </tr>\n    <tr>\n      <th>6</th>\n      <td>NaN</td>\n      <td>NaN</td>\n      <td>NaN</td>\n      <td>NaN</td>\n      <td>NaN</td>\n      <td>US0079031078</td>\n      <td>NaN</td>\n      <td>NaN</td>\n      <td>NaN</td>\n      <td>NaN</td>\n      <td>...</td>\n      <td>NaN</td>\n      <td>slope30</td>\n      <td>128</td>\n      <td>4</td>\n      <td>Emissions|Kyoto Gases</td>\n      <td>-0.483331</td>\n      <td>2.841338</td>\n      <td>0.925768</td>\n      <td>3.20</td>\n      <td>1.000000</td>\n    </tr>\n    <tr>\n      <th>7</th>\n      <td>NaN</td>\n      <td>NaN</td>\n      <td>NaN</td>\n      <td>NaN</td>\n      <td>NaN</td>\n      <td>US0079031078</td>\n      <td>NaN</td>\n      <td>NaN</td>\n      <td>NaN</td>\n      <td>NaN</td>\n      <td>...</td>\n      <td>NaN</td>\n      <td>slope30</td>\n      <td>128</td>\n      <td>4</td>\n      <td>Emissions|Kyoto Gases</td>\n      <td>-0.483331</td>\n      <td>2.841338</td>\n      <td>0.925768</td>\n      <td>3.20</td>\n      <td>1.000000</td>\n    </tr>\n    <tr>\n      <th>8</th>\n      <td>NaN</td>\n      <td>NaN</td>\n      <td>NaN</td>\n      <td>NaN</td>\n      <td>NaN</td>\n      <td>US0079031078</td>\n      <td>NaN</td>\n      <td>NaN</td>\n      <td>NaN</td>\n      <td>NaN</td>\n      <td>...</td>\n      <td>NaN</td>\n      <td>slope30</td>\n      <td>128</td>\n      <td>4</td>\n      <td>Emissions|Kyoto Gases</td>\n      <td>-0.483331</td>\n      <td>2.841338</td>\n      <td>0.925768</td>\n      <td>3.20</td>\n      <td>1.000000</td>\n    </tr>\n    <tr>\n      <th>9</th>\n      <td>NaN</td>\n      <td>NaN</td>\n      <td>NaN</td>\n      <td>NaN</td>\n      <td>NaN</td>\n      <td>US00724F1012</td>\n      <td>NaN</td>\n      <td>NaN</td>\n      <td>NaN</td>\n      <td>NaN</td>\n      <td>...</td>\n      <td>NaN</td>\n      <td>slope5</td>\n      <td>128</td>\n      <td>4</td>\n      <td>Emissions|Kyoto Gases</td>\n      <td>-0.212692</td>\n      <td>2.574303</td>\n      <td>0.609039</td>\n      <td>3.20</td>\n      <td>1.000000</td>\n    </tr>\n  </tbody>\n</table>\n<p>10 rows × 47 columns</p>\n</div>"
     },
     "execution_count": 10,
     "metadata": {},
     "output_type": "execute_result"
    }
   ],
   "source": [
    "amended_portfolio.head(10)"
   ]
  },
  {
   "cell_type": "markdown",
   "metadata": {},
   "source": [
    "### Calculate the aggregated temperature score\n",
    "Calculate an aggregated temperature score. This can be done use different aggregation methods. Here we'll use the \"Weighted Average Temperature Score\". For more details, have a look at notebook 3 (\"3_portfolio_aggregations.ipynb\"). The termperature scores are calculated per time-frame/scope combination."
   ]
  },
  {
   "cell_type": "code",
   "execution_count": 11,
   "metadata": {},
   "outputs": [],
   "source": [
    "def print_aggregations(aggregations):\n",
    "    aggregations = aggregations.dict()\n",
    "    for time_frame, time_frame_values in aggregations.items():\n",
    "        for scope, scope_values in time_frame_values.items():\n",
    "            print(\"{} - {}: {} degrees celcius\".format(time_frame, scope, scope_values[\"all\"][\"score\"]))"
   ]
  },
  {
   "cell_type": "code",
   "execution_count": 12,
   "metadata": {},
   "outputs": [
    {
     "name": "stdout",
     "output_type": "stream",
     "text": [
      "short - S1S2: 2.2349090909090905 degrees celcius\n",
      "short - S3: 2.8205454545454542 degrees celcius\n",
      "short - S1S2S3: 2.670272727272727 degrees celcius\n",
      "mid - S1S2: 2.7351818181818177 degrees celcius\n",
      "mid - S3: 3.0340000000000003 degrees celcius\n",
      "mid - S1S2S3: 2.9639090909090906 degrees celcius\n",
      "long - S1S2: 3.122181818181818 degrees celcius\n",
      "long - S3: 3.2258181818181817 degrees celcius\n",
      "long - S1S2S3: 3.199636363636363 degrees celcius\n"
     ]
    }
   ],
   "source": [
    "print_aggregations(temperature_score.aggregate_scores(amended_portfolio))"
   ]
  },
  {
   "cell_type": "markdown",
   "metadata": {},
   "source": [
    "### Portfolio coverage\n",
    "\n",
    "Gives insights in the coverage of portfolio entities that has set GHG emissions reduction targets, STBi-validated or otherwise. Companies with SBTi status Approved have a score of 100%, all others have a score of 0%. \n",
    "\n",
    "This can be done use different aggregation methods. Here we'll use the \"Weighted Average Temperature Score\". For more details, have a look at notebook 3 (\"3_portfolio_aggregations.ipynb\")."
   ]
  },
  {
   "cell_type": "code",
   "execution_count": 13,
   "metadata": {},
   "outputs": [
    {
     "data": {
      "text/plain": "35.45"
     },
     "execution_count": 13,
     "metadata": {},
     "output_type": "execute_result"
    }
   ],
   "source": [
    "portfolio_coverage_tvp = PortfolioCoverageTVP()\n",
    "coverage = portfolio_coverage_tvp.get_portfolio_coverage(amended_portfolio.copy(), PortfolioAggregationMethod.WATS)\n",
    "round(coverage * 100) / 100"
   ]
  }
 ],
 "metadata": {
  "kernelspec": {
   "display_name": "Python 3",
   "language": "python",
   "name": "python3"
  },
  "language_info": {
   "codemirror_mode": {
    "name": "ipython",
    "version": 3
   },
   "file_extension": ".py",
   "mimetype": "text/x-python",
   "name": "python",
   "nbconvert_exporter": "python",
   "pygments_lexer": "ipython3",
   "version": "3.6.8"
  }
 },
 "nbformat": 4,
 "nbformat_minor": 4
}