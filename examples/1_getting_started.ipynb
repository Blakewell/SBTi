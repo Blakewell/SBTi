{
 "cells": [
  {
   "cell_type": "markdown",
   "metadata": {},
   "source": [
    "# SBTi Temperature Alignment tool examples\n",
    "This notebook provides some examples on how to use this module. It uses autoreloading to ease development. If you'd like to employ this the SBTi package should be installed in development mode. This can be done using the following command:\n",
    "\n",
    "```bash\n",
    "python setup.py develop\n",
    "```"
   ]
  },
  {
   "cell_type": "code",
   "execution_count": 1,
   "metadata": {},
   "outputs": [],
   "source": [
    "%load_ext autoreload"
   ]
  },
  {
   "cell_type": "code",
   "execution_count": 2,
   "metadata": {
    "scrolled": true
   },
   "outputs": [],
   "source": [
    "%autoreload 2\n",
    "import SBTi\n",
    "from SBTi.data.excel import ExcelProvider\n",
    "from SBTi.portfolio_aggregation import PortfolioAggregationMethod\n",
    "from SBTi.portfolio_coverage_tvp import PortfolioCoverageTVP\n",
    "from SBTi.temperature_score import TemperatureScore, Scenario\n",
    "from SBTi.target_valuation_protocol import TargetValuationProtocol\n",
    "%aimport -pandas\n",
    "import pandas as pd"
   ]
  },
  {
   "cell_type": "markdown",
   "metadata": {},
   "source": [
    "### Create a data provider\n",
    "Data providers let you connect to the data source of your choice."
   ]
  },
  {
   "cell_type": "code",
   "execution_count": 3,
   "metadata": {},
   "outputs": [],
   "source": [
    "provider = ExcelProvider(path=\"data/data_provider_example.xlsx\")"
   ]
  },
  {
   "cell_type": "markdown",
   "metadata": {},
   "source": [
    "### Load your portfolio\n",
    "In our case the portfolio is stored as a CSV file. The portfolio should at least have an \"id\" (the identifier of the company) and a \"proportion\" (the weight of the company in your portfolio e.g. the value of the shares you hold) column."
   ]
  },
  {
   "cell_type": "code",
   "execution_count": 4,
   "metadata": {},
   "outputs": [],
   "source": [
    "portfolio = pd.read_csv(\"example_portfolio.csv\", encoding=\"iso-8859-1\")"
   ]
  },
  {
   "cell_type": "code",
   "execution_count": 5,
   "metadata": {},
   "outputs": [
    {
     "data": {
      "text/html": [
       "<div>\n",
       "<style scoped>\n",
       "    .dataframe tbody tr th:only-of-type {\n",
       "        vertical-align: middle;\n",
       "    }\n",
       "\n",
       "    .dataframe tbody tr th {\n",
       "        vertical-align: top;\n",
       "    }\n",
       "\n",
       "    .dataframe thead th {\n",
       "        text-align: right;\n",
       "    }\n",
       "</style>\n",
       "<table border=\"1\" class=\"dataframe\">\n",
       "  <thead>\n",
       "    <tr style=\"text-align: right;\">\n",
       "      <th></th>\n",
       "      <th>company_name</th>\n",
       "      <th>company_id</th>\n",
       "      <th>ISIN</th>\n",
       "      <th>weights</th>\n",
       "      <th>investment_value</th>\n",
       "      <th>engagement_type</th>\n",
       "    </tr>\n",
       "  </thead>\n",
       "  <tbody>\n",
       "    <tr>\n",
       "      <th>0</th>\n",
       "      <td>Advanced Micro Devices, Inc</td>\n",
       "      <td>US0079031078</td>\n",
       "      <td>US0079031078</td>\n",
       "      <td>6.36%</td>\n",
       "      <td>35000000</td>\n",
       "      <td>set_targets</td>\n",
       "    </tr>\n",
       "    <tr>\n",
       "      <th>1</th>\n",
       "      <td>Adobe Systems Inc.</td>\n",
       "      <td>US00724F1012</td>\n",
       "      <td>US00724F1012</td>\n",
       "      <td>1.82%</td>\n",
       "      <td>10000000</td>\n",
       "      <td>set_targets</td>\n",
       "    </tr>\n",
       "    <tr>\n",
       "      <th>2</th>\n",
       "      <td>Capgemini Group</td>\n",
       "      <td>FR0000125338</td>\n",
       "      <td>FR0000125338</td>\n",
       "      <td>1.82%</td>\n",
       "      <td>10000000</td>\n",
       "      <td>set_targets</td>\n",
       "    </tr>\n",
       "    <tr>\n",
       "      <th>3</th>\n",
       "      <td>Cisco Systems, Inc.</td>\n",
       "      <td>US17275R1023</td>\n",
       "      <td>US17275R1023</td>\n",
       "      <td>1.82%</td>\n",
       "      <td>10000000</td>\n",
       "      <td>set_targets</td>\n",
       "    </tr>\n",
       "    <tr>\n",
       "      <th>4</th>\n",
       "      <td>Coca-Cola HBC AG</td>\n",
       "      <td>CH0198251305</td>\n",
       "      <td>CH0198251305</td>\n",
       "      <td>1.82%</td>\n",
       "      <td>10000000</td>\n",
       "      <td>set_targets</td>\n",
       "    </tr>\n",
       "  </tbody>\n",
       "</table>\n",
       "</div>"
      ],
      "text/plain": [
       "                  company_name    company_id          ISIN weights  \\\n",
       "0  Advanced Micro Devices, Inc  US0079031078  US0079031078   6.36%   \n",
       "1           Adobe Systems Inc.  US00724F1012  US00724F1012   1.82%   \n",
       "2              Capgemini Group  FR0000125338  FR0000125338   1.82%   \n",
       "3          Cisco Systems, Inc.  US17275R1023  US17275R1023   1.82%   \n",
       "4             Coca-Cola HBC AG  CH0198251305  CH0198251305   1.82%   \n",
       "\n",
       "   investment_value engagement_type  \n",
       "0          35000000     set_targets  \n",
       "1          10000000     set_targets  \n",
       "2          10000000     set_targets  \n",
       "3          10000000     set_targets  \n",
       "4          10000000     set_targets  "
      ]
     },
     "execution_count": 5,
     "metadata": {},
     "output_type": "execute_result"
    }
   ],
   "source": [
    "portfolio.head(5)"
   ]
  },
  {
   "cell_type": "markdown",
   "metadata": {},
   "source": [
    "To load the data from the data provider, we have to pass a list of dictionaries, containing a \"company_name\" and \"company_id\"."
   ]
  },
  {
   "cell_type": "code",
   "execution_count": 6,
   "metadata": {},
   "outputs": [],
   "source": [
    "companies = portfolio[[\"company_id\", \"company_name\"]].to_dict(orient=\"records\")"
   ]
  },
  {
   "cell_type": "markdown",
   "metadata": {},
   "source": [
    "### Load the data\n",
    "We'll call the data provider and ask it to provide us with the targets and the company data."
   ]
  },
  {
   "cell_type": "code",
   "execution_count": 7,
   "metadata": {},
   "outputs": [],
   "source": [
    "company_data = SBTi.data.get_company_data([provider], companies)\n",
    "targets = SBTi.data.get_targets([provider], companies)\n",
    "portfolio_data = pd.merge(left=company_data, right=targets, how='outer', on=['company_name', 'company_id'])"
   ]
  },
  {
   "cell_type": "markdown",
   "metadata": {},
   "source": [
    "### Validate the targets\n",
    "We've now got our portfolio, amended with target data. Now we need to make sure that all the targets are valid (e.g. they haven't been reached yet and their end date isn't in the past)."
   ]
  },
  {
   "cell_type": "code",
   "execution_count": 9,
   "metadata": {},
   "outputs": [],
   "source": [
    "target_valuation_protocol = TargetValuationProtocol(portfolio_data, company_data)\n",
    "portfolio_data = target_valuation_protocol.target_valuation_protocol()"
   ]
  },
  {
   "cell_type": "markdown",
   "metadata": {},
   "source": [
    "### Add the portfolio-related information\n",
    "This information has been dropped in the previous step. We have to re-add it here."
   ]
  },
  {
   "cell_type": "code",
   "execution_count": 10,
   "metadata": {},
   "outputs": [],
   "source": [
    "portfolio_data = pd.merge(left=portfolio_data, right=portfolio, how='outer', on=['company_name', 'company_id'])"
   ]
  },
  {
   "cell_type": "markdown",
   "metadata": {},
   "source": [
    "### Calculate the temperature scores\n",
    "In the amended portfolio you'll find your original portfolio, amended with the emissions and the temperature score."
   ]
  },
  {
   "cell_type": "code",
   "execution_count": 12,
   "metadata": {},
   "outputs": [],
   "source": [
    "temperature_score = TemperatureScore()\n",
    "amended_portfolio = temperature_score.calculate(portfolio_data, [\"investment_value\"])"
   ]
  },
  {
   "cell_type": "code",
   "execution_count": 13,
   "metadata": {},
   "outputs": [
    {
     "data": {
      "text/html": [
       "<div>\n",
       "<style scoped>\n",
       "    .dataframe tbody tr th:only-of-type {\n",
       "        vertical-align: middle;\n",
       "    }\n",
       "\n",
       "    .dataframe tbody tr th {\n",
       "        vertical-align: top;\n",
       "    }\n",
       "\n",
       "    .dataframe thead th {\n",
       "        text-align: right;\n",
       "    }\n",
       "</style>\n",
       "<table border=\"1\" class=\"dataframe\">\n",
       "  <thead>\n",
       "    <tr style=\"text-align: right;\">\n",
       "      <th></th>\n",
       "      <th>company_name</th>\n",
       "      <th>company_id</th>\n",
       "      <th>ISIC</th>\n",
       "      <th>Country</th>\n",
       "      <th>Region</th>\n",
       "      <th>Industry_lvl1</th>\n",
       "      <th>Industry_lvl2</th>\n",
       "      <th>Industry_lvl3</th>\n",
       "      <th>Industry_lvl4</th>\n",
       "      <th>sector</th>\n",
       "      <th>...</th>\n",
       "      <th>time_frame</th>\n",
       "      <th>ISIN</th>\n",
       "      <th>weights</th>\n",
       "      <th>investment_value</th>\n",
       "      <th>engagement_type</th>\n",
       "      <th>SR15</th>\n",
       "      <th>annual_reduction_rate</th>\n",
       "      <th>regression_param</th>\n",
       "      <th>regression_intercept</th>\n",
       "      <th>temperature_score</th>\n",
       "    </tr>\n",
       "  </thead>\n",
       "  <tbody>\n",
       "    <tr>\n",
       "      <th>0</th>\n",
       "      <td>Advanced Micro Devices, Inc</td>\n",
       "      <td>US0079031078</td>\n",
       "      <td>NaN</td>\n",
       "      <td>United States</td>\n",
       "      <td>North America</td>\n",
       "      <td>NaN</td>\n",
       "      <td>NaN</td>\n",
       "      <td>NaN</td>\n",
       "      <td>NaN</td>\n",
       "      <td>Industrials</td>\n",
       "      <td>...</td>\n",
       "      <td>short</td>\n",
       "      <td>US0079031078</td>\n",
       "      <td>6.36%</td>\n",
       "      <td>35000000</td>\n",
       "      <td>set_targets</td>\n",
       "      <td>Emissions|Kyoto Gases</td>\n",
       "      <td>0.060000</td>\n",
       "      <td>-0.212692</td>\n",
       "      <td>2.574303</td>\n",
       "      <td>1.298150</td>\n",
       "    </tr>\n",
       "    <tr>\n",
       "      <th>1</th>\n",
       "      <td>Advanced Micro Devices, Inc</td>\n",
       "      <td>US0079031078</td>\n",
       "      <td>NaN</td>\n",
       "      <td>United States</td>\n",
       "      <td>North America</td>\n",
       "      <td>NaN</td>\n",
       "      <td>NaN</td>\n",
       "      <td>NaN</td>\n",
       "      <td>NaN</td>\n",
       "      <td>Industrials</td>\n",
       "      <td>...</td>\n",
       "      <td>short</td>\n",
       "      <td>US0079031078</td>\n",
       "      <td>6.36%</td>\n",
       "      <td>35000000</td>\n",
       "      <td>set_targets</td>\n",
       "      <td>Emissions|Kyoto Gases</td>\n",
       "      <td>0.131643</td>\n",
       "      <td>-0.212692</td>\n",
       "      <td>2.574303</td>\n",
       "      <td>-0.225637</td>\n",
       "    </tr>\n",
       "    <tr>\n",
       "      <th>2</th>\n",
       "      <td>Advanced Micro Devices, Inc</td>\n",
       "      <td>US0079031078</td>\n",
       "      <td>NaN</td>\n",
       "      <td>United States</td>\n",
       "      <td>North America</td>\n",
       "      <td>NaN</td>\n",
       "      <td>NaN</td>\n",
       "      <td>NaN</td>\n",
       "      <td>NaN</td>\n",
       "      <td>Industrials</td>\n",
       "      <td>...</td>\n",
       "      <td>mid</td>\n",
       "      <td>US0079031078</td>\n",
       "      <td>6.36%</td>\n",
       "      <td>35000000</td>\n",
       "      <td>set_targets</td>\n",
       "      <td>Emissions|Kyoto Gases</td>\n",
       "      <td>0.027785</td>\n",
       "      <td>-0.312329</td>\n",
       "      <td>2.697261</td>\n",
       "      <td>1.829468</td>\n",
       "    </tr>\n",
       "    <tr>\n",
       "      <th>3</th>\n",
       "      <td>Advanced Micro Devices, Inc</td>\n",
       "      <td>US0079031078</td>\n",
       "      <td>NaN</td>\n",
       "      <td>United States</td>\n",
       "      <td>North America</td>\n",
       "      <td>NaN</td>\n",
       "      <td>NaN</td>\n",
       "      <td>NaN</td>\n",
       "      <td>NaN</td>\n",
       "      <td>None</td>\n",
       "      <td>...</td>\n",
       "      <td>mid</td>\n",
       "      <td>US0079031078</td>\n",
       "      <td>6.36%</td>\n",
       "      <td>35000000</td>\n",
       "      <td>set_targets</td>\n",
       "      <td>Emissions|Kyoto Gases</td>\n",
       "      <td>NaN</td>\n",
       "      <td>-0.312329</td>\n",
       "      <td>2.697261</td>\n",
       "      <td>3.200000</td>\n",
       "    </tr>\n",
       "    <tr>\n",
       "      <th>4</th>\n",
       "      <td>Advanced Micro Devices, Inc</td>\n",
       "      <td>US0079031078</td>\n",
       "      <td>NaN</td>\n",
       "      <td>United States</td>\n",
       "      <td>North America</td>\n",
       "      <td>NaN</td>\n",
       "      <td>NaN</td>\n",
       "      <td>NaN</td>\n",
       "      <td>NaN</td>\n",
       "      <td>None</td>\n",
       "      <td>...</td>\n",
       "      <td>long</td>\n",
       "      <td>US0079031078</td>\n",
       "      <td>6.36%</td>\n",
       "      <td>35000000</td>\n",
       "      <td>set_targets</td>\n",
       "      <td>Emissions|Kyoto Gases</td>\n",
       "      <td>NaN</td>\n",
       "      <td>-0.483331</td>\n",
       "      <td>2.841338</td>\n",
       "      <td>3.200000</td>\n",
       "    </tr>\n",
       "    <tr>\n",
       "      <th>5</th>\n",
       "      <td>Advanced Micro Devices, Inc</td>\n",
       "      <td>US0079031078</td>\n",
       "      <td>NaN</td>\n",
       "      <td>United States</td>\n",
       "      <td>North America</td>\n",
       "      <td>NaN</td>\n",
       "      <td>NaN</td>\n",
       "      <td>NaN</td>\n",
       "      <td>NaN</td>\n",
       "      <td>None</td>\n",
       "      <td>...</td>\n",
       "      <td>long</td>\n",
       "      <td>US0079031078</td>\n",
       "      <td>6.36%</td>\n",
       "      <td>35000000</td>\n",
       "      <td>set_targets</td>\n",
       "      <td>Emissions|Kyoto Gases</td>\n",
       "      <td>NaN</td>\n",
       "      <td>-0.483331</td>\n",
       "      <td>2.841338</td>\n",
       "      <td>3.200000</td>\n",
       "    </tr>\n",
       "    <tr>\n",
       "      <th>6</th>\n",
       "      <td>Adobe Systems Inc.</td>\n",
       "      <td>US00724F1012</td>\n",
       "      <td>NaN</td>\n",
       "      <td>United States</td>\n",
       "      <td>North America</td>\n",
       "      <td>NaN</td>\n",
       "      <td>NaN</td>\n",
       "      <td>NaN</td>\n",
       "      <td>NaN</td>\n",
       "      <td>None</td>\n",
       "      <td>...</td>\n",
       "      <td>short</td>\n",
       "      <td>US00724F1012</td>\n",
       "      <td>1.82%</td>\n",
       "      <td>10000000</td>\n",
       "      <td>set_targets</td>\n",
       "      <td>Emissions|Kyoto Gases</td>\n",
       "      <td>NaN</td>\n",
       "      <td>-0.212692</td>\n",
       "      <td>2.574303</td>\n",
       "      <td>3.200000</td>\n",
       "    </tr>\n",
       "    <tr>\n",
       "      <th>7</th>\n",
       "      <td>Adobe Systems Inc.</td>\n",
       "      <td>US00724F1012</td>\n",
       "      <td>NaN</td>\n",
       "      <td>United States</td>\n",
       "      <td>North America</td>\n",
       "      <td>NaN</td>\n",
       "      <td>NaN</td>\n",
       "      <td>NaN</td>\n",
       "      <td>NaN</td>\n",
       "      <td>None</td>\n",
       "      <td>...</td>\n",
       "      <td>short</td>\n",
       "      <td>US00724F1012</td>\n",
       "      <td>1.82%</td>\n",
       "      <td>10000000</td>\n",
       "      <td>set_targets</td>\n",
       "      <td>Emissions|Kyoto Gases</td>\n",
       "      <td>NaN</td>\n",
       "      <td>-0.212692</td>\n",
       "      <td>2.574303</td>\n",
       "      <td>3.200000</td>\n",
       "    </tr>\n",
       "    <tr>\n",
       "      <th>8</th>\n",
       "      <td>Adobe Systems Inc.</td>\n",
       "      <td>US00724F1012</td>\n",
       "      <td>NaN</td>\n",
       "      <td>United States</td>\n",
       "      <td>North America</td>\n",
       "      <td>NaN</td>\n",
       "      <td>NaN</td>\n",
       "      <td>NaN</td>\n",
       "      <td>NaN</td>\n",
       "      <td>Utilities</td>\n",
       "      <td>...</td>\n",
       "      <td>mid</td>\n",
       "      <td>US00724F1012</td>\n",
       "      <td>1.82%</td>\n",
       "      <td>10000000</td>\n",
       "      <td>set_targets</td>\n",
       "      <td>Emissions|Kyoto Gases</td>\n",
       "      <td>0.032559</td>\n",
       "      <td>-0.312329</td>\n",
       "      <td>2.697261</td>\n",
       "      <td>1.680349</td>\n",
       "    </tr>\n",
       "    <tr>\n",
       "      <th>9</th>\n",
       "      <td>Adobe Systems Inc.</td>\n",
       "      <td>US00724F1012</td>\n",
       "      <td>NaN</td>\n",
       "      <td>United States</td>\n",
       "      <td>North America</td>\n",
       "      <td>NaN</td>\n",
       "      <td>NaN</td>\n",
       "      <td>NaN</td>\n",
       "      <td>NaN</td>\n",
       "      <td>Utilities</td>\n",
       "      <td>...</td>\n",
       "      <td>mid</td>\n",
       "      <td>US00724F1012</td>\n",
       "      <td>1.82%</td>\n",
       "      <td>10000000</td>\n",
       "      <td>set_targets</td>\n",
       "      <td>Emissions|Kyoto Gases</td>\n",
       "      <td>0.018000</td>\n",
       "      <td>-0.312329</td>\n",
       "      <td>2.697261</td>\n",
       "      <td>2.135069</td>\n",
       "    </tr>\n",
       "  </tbody>\n",
       "</table>\n",
       "<p>10 rows × 42 columns</p>\n",
       "</div>"
      ],
      "text/plain": [
       "                  company_name    company_id ISIC        Country  \\\n",
       "0  Advanced Micro Devices, Inc  US0079031078  NaN  United States   \n",
       "1  Advanced Micro Devices, Inc  US0079031078  NaN  United States   \n",
       "2  Advanced Micro Devices, Inc  US0079031078  NaN  United States   \n",
       "3  Advanced Micro Devices, Inc  US0079031078  NaN  United States   \n",
       "4  Advanced Micro Devices, Inc  US0079031078  NaN  United States   \n",
       "5  Advanced Micro Devices, Inc  US0079031078  NaN  United States   \n",
       "6           Adobe Systems Inc.  US00724F1012  NaN  United States   \n",
       "7           Adobe Systems Inc.  US00724F1012  NaN  United States   \n",
       "8           Adobe Systems Inc.  US00724F1012  NaN  United States   \n",
       "9           Adobe Systems Inc.  US00724F1012  NaN  United States   \n",
       "\n",
       "          Region Industry_lvl1 Industry_lvl2 Industry_lvl3 Industry_lvl4  \\\n",
       "0  North America           NaN           NaN           NaN           NaN   \n",
       "1  North America           NaN           NaN           NaN           NaN   \n",
       "2  North America           NaN           NaN           NaN           NaN   \n",
       "3  North America           NaN           NaN           NaN           NaN   \n",
       "4  North America           NaN           NaN           NaN           NaN   \n",
       "5  North America           NaN           NaN           NaN           NaN   \n",
       "6  North America           NaN           NaN           NaN           NaN   \n",
       "7  North America           NaN           NaN           NaN           NaN   \n",
       "8  North America           NaN           NaN           NaN           NaN   \n",
       "9  North America           NaN           NaN           NaN           NaN   \n",
       "\n",
       "        sector  ...  time_frame          ISIN  weights  investment_value  \\\n",
       "0  Industrials  ...       short  US0079031078    6.36%          35000000   \n",
       "1  Industrials  ...       short  US0079031078    6.36%          35000000   \n",
       "2  Industrials  ...         mid  US0079031078    6.36%          35000000   \n",
       "3         None  ...         mid  US0079031078    6.36%          35000000   \n",
       "4         None  ...        long  US0079031078    6.36%          35000000   \n",
       "5         None  ...        long  US0079031078    6.36%          35000000   \n",
       "6         None  ...       short  US00724F1012    1.82%          10000000   \n",
       "7         None  ...       short  US00724F1012    1.82%          10000000   \n",
       "8    Utilities  ...         mid  US00724F1012    1.82%          10000000   \n",
       "9    Utilities  ...         mid  US00724F1012    1.82%          10000000   \n",
       "\n",
       "   engagement_type                   SR15  annual_reduction_rate  \\\n",
       "0      set_targets  Emissions|Kyoto Gases               0.060000   \n",
       "1      set_targets  Emissions|Kyoto Gases               0.131643   \n",
       "2      set_targets  Emissions|Kyoto Gases               0.027785   \n",
       "3      set_targets  Emissions|Kyoto Gases                    NaN   \n",
       "4      set_targets  Emissions|Kyoto Gases                    NaN   \n",
       "5      set_targets  Emissions|Kyoto Gases                    NaN   \n",
       "6      set_targets  Emissions|Kyoto Gases                    NaN   \n",
       "7      set_targets  Emissions|Kyoto Gases                    NaN   \n",
       "8      set_targets  Emissions|Kyoto Gases               0.032559   \n",
       "9      set_targets  Emissions|Kyoto Gases               0.018000   \n",
       "\n",
       "   regression_param  regression_intercept  temperature_score  \n",
       "0         -0.212692              2.574303           1.298150  \n",
       "1         -0.212692              2.574303          -0.225637  \n",
       "2         -0.312329              2.697261           1.829468  \n",
       "3         -0.312329              2.697261           3.200000  \n",
       "4         -0.483331              2.841338           3.200000  \n",
       "5         -0.483331              2.841338           3.200000  \n",
       "6         -0.212692              2.574303           3.200000  \n",
       "7         -0.212692              2.574303           3.200000  \n",
       "8         -0.312329              2.697261           1.680349  \n",
       "9         -0.312329              2.697261           2.135069  \n",
       "\n",
       "[10 rows x 42 columns]"
      ]
     },
     "execution_count": 13,
     "metadata": {},
     "output_type": "execute_result"
    }
   ],
   "source": [
    "amended_portfolio.head(10)"
   ]
  },
  {
   "cell_type": "markdown",
   "metadata": {},
   "source": [
    "### Calculate the aggregated temperature score\n",
    "Calculate an aggregated temperature score. This can be done use different aggregation methods. Here we'll use the \"Weighted Average Temperature Score\". For more details, have a look at notebook 3 (\"3_portfolio_aggregations.ipynb\"). The termperature scores are calculated per time-frame/scope combination."
   ]
  },
  {
   "cell_type": "code",
   "execution_count": 31,
   "metadata": {},
   "outputs": [],
   "source": [
    "def print_aggregations(aggregations):\n",
    "    for time_frame, time_frame_values in aggregations.items():\n",
    "        for scope, scope_values in time_frame_values.items():\n",
    "            print(\"{} - {}: {} degrees celcius\".format(time_frame, scope, scope_values[\"all\"][\"score\"]))"
   ]
  },
  {
   "cell_type": "markdown",
   "metadata": {},
   "source": [
    "#### WATS\n",
    "Weighted Average Temperature Score (WATS): Temperature scores are allocated based on portfolio weights.\n",
    "This requires the \"investment_value\" field to be defined in your data set."
   ]
  },
  {
   "cell_type": "code",
   "execution_count": 34,
   "metadata": {},
   "outputs": [
    {
     "name": "stdout",
     "output_type": "stream",
     "text": [
      "short - s1s2: 1.4629 degrees celcius\n",
      "short - s3: 2.3409 degrees celcius\n",
      "short - s1s2s3: 2.0977 degrees celcius\n",
      "mid - s1s2: 2.5923 degrees celcius\n",
      "mid - s3: 2.9923 degrees celcius\n",
      "mid - s1s2s3: 2.8998 degrees celcius\n",
      "long - s1s2: 3.0814 degrees celcius\n",
      "long - s3: 3.191 degrees celcius\n",
      "long - s1s2s3: 3.155 degrees celcius\n"
     ]
    }
   ],
   "source": [
    "print_aggregations(temperature_score.aggregate_scores(amended_portfolio, PortfolioAggregationMethod.WATS, []))"
   ]
  },
  {
   "cell_type": "markdown",
   "metadata": {},
   "source": [
    "#### TETS\n",
    "Total emissions weighted temperature score (TETS): Temperature scores are allocated based on historical emission weights using total company emissions. "
   ]
  },
  {
   "cell_type": "code",
   "execution_count": 35,
   "metadata": {},
   "outputs": [
    {
     "name": "stdout",
     "output_type": "stream",
     "text": [
      "short - s1s2: 1.6343 degrees celcius\n",
      "short - s3: 2.3879 degrees celcius\n",
      "short - s1s2s3: 2.0774 degrees celcius\n",
      "mid - s1s2: 2.681 degrees celcius\n",
      "mid - s3: 2.3564 degrees celcius\n",
      "mid - s1s2s3: 2.5294 degrees celcius\n",
      "long - s1s2: 2.8646 degrees celcius\n",
      "long - s3: 3.1986 degrees celcius\n",
      "long - s1s2s3: 3.0562 degrees celcius\n"
     ]
    }
   ],
   "source": [
    "print_aggregations(temperature_score.aggregate_scores(amended_portfolio, PortfolioAggregationMethod.TETS, []))"
   ]
  },
  {
   "cell_type": "markdown",
   "metadata": {},
   "source": [
    "#### WATS\n",
    "Weighted Average Temperature Score (WATS): Temperature scores are allocated based on portfolio weights.\n",
    "This requires the \"investment_value\" field to be defined in your data set."
   ]
  },
  {
   "cell_type": "markdown",
   "metadata": {},
   "source": [
    "#### WATS\n",
    "Weighted Average Temperature Score (WATS): Temperature scores are allocated based on portfolio weights.\n",
    "This requires the \"investment_value\" field to be defined in your data set."
   ]
  },
  {
   "cell_type": "markdown",
   "metadata": {},
   "source": [
    "#### WATS\n",
    "Weighted Average Temperature Score (WATS): Temperature scores are allocated based on portfolio weights.\n",
    "This requires the \"investment_value\" field to be defined in your data set."
   ]
  },
  {
   "cell_type": "markdown",
   "metadata": {},
   "source": [
    "#### WATS\n",
    "Weighted Average Temperature Score (WATS): Temperature scores are allocated based on portfolio weights.\n",
    "This requires the \"investment_value\" field to be defined in your data set."
   ]
  },
  {
   "cell_type": "markdown",
   "metadata": {},
   "source": [
    "#### WATS\n",
    "Weighted Average Temperature Score (WATS): Temperature scores are allocated based on portfolio weights.\n",
    "This requires the \"investment_value\" field to be defined in your data set."
   ]
  },
  {
   "cell_type": "markdown",
   "metadata": {},
   "source": [
    "### Portfolio coverage\n",
    "\n",
    "Gives insights in the coverage of portfolio entities that has set GHG emissions reduction targets, STBi-validated or otherwise. Companies with SBTi status Approved have a score of 100%, all others have a score of 0%. \n",
    "\n",
    "This can be done use different aggregation methods. Here we'll use the \"Weighted Average Temperature Score\". For more details, have a look at notebook 3 (\"3_portfolio_aggregations.ipynb\")."
   ]
  },
  {
   "cell_type": "code",
   "execution_count": 14,
   "metadata": {},
   "outputs": [
    {
     "data": {
      "text/plain": [
       "35.45"
      ]
     },
     "execution_count": 14,
     "metadata": {},
     "output_type": "execute_result"
    }
   ],
   "source": [
    "portfolio_coverage_tvp = PortfolioCoverageTVP()\n",
    "coverage = portfolio_coverage_tvp.get_portfolio_coverage(amended_portfolio.copy(), PortfolioAggregationMethod.WATS)\n",
    "round(coverage * 100) / 100"
   ]
  }
 ],
 "metadata": {
  "kernelspec": {
   "display_name": "Python 3",
   "language": "python",
   "name": "python3"
  },
  "language_info": {
   "codemirror_mode": {
    "name": "ipython",
    "version": 3
   },
   "file_extension": ".py",
   "mimetype": "text/x-python",
   "name": "python",
   "nbconvert_exporter": "python",
   "pygments_lexer": "ipython3",
   "version": "3.7.6"
  }
 },
 "nbformat": 4,
 "nbformat_minor": 4
}
