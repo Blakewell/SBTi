{
 "cells": [
  {
   "cell_type": "markdown",
   "metadata": {
    "collapsed": true,
    "pycharm": {
     "name": "#%% md\n"
    }
   },
   "source": [
    "# SBTi Temperature Alignment tool - Reporting\n",
    "This notebook ..."
   ]
  },
  {
   "cell_type": "markdown",
   "source": [
    "#### Setting up\n",
    "Imports SBTi tools, import data providers, and load the portfolio."
   ],
   "metadata": {
    "collapsed": false
   }
  },
  {
   "cell_type": "code",
   "execution_count": null,
   "outputs": [],
   "source": [
    "# Only required if you didn't install the module yet\n",
    "!pip install SBTi"
   ],
   "metadata": {
    "collapsed": false,
    "pycharm": {
     "name": "#%%\n"
    }
   }
  },
  {
   "cell_type": "code",
   "execution_count": 1,
   "outputs": [],
   "source": [
    "%load_ext autoreload\n",
    "%autoreload 2\n",
    "import SBTi\n",
    "from SBTi.data.excel import ExcelProvider\n",
    "from SBTi.portfolio_aggregation import PortfolioAggregationMethod\n",
    "from SBTi.portfolio_coverage_tvp import PortfolioCoverageTVP\n",
    "from SBTi.temperature_score import TemperatureScore, Scenario, ScenarioType, EngagementType\n",
    "from SBTi.target_validation import TargetProtocol\n",
    "from SBTi.interfaces import ETimeFrames, EScope\n",
    "%aimport -pandas\n",
    "import pandas as pd"
   ],
   "metadata": {
    "collapsed": false,
    "pycharm": {
     "name": "#%%\n"
    }
   }
  },
  {
   "cell_type": "code",
   "execution_count": 2,
   "outputs": [],
   "source": [
    "# Download the dummy data\n",
    "import urllib.request\n",
    "import os\n",
    "\n",
    "if not os.path.isdir(\"data\"):\n",
    "    os.mkdir(\"data\")\n",
    "if not os.path.isfile(\"data/data_provider_example.xlsx\"):\n",
    "    urllib.request.urlretrieve(\"https://github.com/OFBDABV/SBTi/raw/master/examples/data/data_provider_example.xlsx\", \"data/data_provider_example.xlsx\")\n",
    "if not os.path.isfile(\"example_portfolio.csv\"):\n",
    "    urllib.request.urlretrieve(\"https://github.com/OFBDABV/SBTi/raw/master/examples/example_portfolio.csv\", \"example_portfolio.csv\")"
   ],
   "metadata": {
    "collapsed": false,
    "pycharm": {
     "name": "#%%\n"
    }
   }
  },
  {
   "cell_type": "code",
   "execution_count": 3,
   "outputs": [],
   "source": [
    "def anonymize(portfolio, provider):\n",
    "    portfolio_companies = portfolio['company_name'].unique()\n",
    "    for index, company_name in enumerate(portfolio_companies):\n",
    "        portfolio.loc[portfolio['company_name'] == company_name, 'company_id'] = 'C' + str(index + 1)\n",
    "        portfolio.loc[portfolio['company_name'] == company_name, 'company_isin'] = 'C' + str(index + 1)\n",
    "        provider.data['fundamental_data'].loc[provider.data['fundamental_data']['company_name'] == company_name, 'company_id'] = 'C' + str(index + 1)\n",
    "        provider.data['fundamental_data'].loc[provider.data['fundamental_data']['company_name'] == company_name, 'company_isic'] = 'C' + str(index + 1)\n",
    "        provider.data['target_data'].loc[provider.data['target_data']['company_name'] == company_name, 'company_id'] = 'C' + str(index + 1)\n",
    "        portfolio.loc[portfolio['company_name'] == company_name, 'company_name'] = 'Company' + str(\n",
    "            index + 1)\n",
    "        provider.data['fundamental_data'].loc[provider.data['fundamental_data']['company_name'] == company_name, 'company_name'] = 'Company' + str(\n",
    "                    index + 1)\n",
    "        provider.data['target_data'].loc[provider.data['target_data']['company_name'] == company_name, 'company_name'] = 'Company' + str(\n",
    "                    index + 1)\n",
    "    for index, company_name in enumerate(provider.data['fundamental_data']['company_name'].unique()):\n",
    "        if company_name not in portfolio['company_name'].unique():\n",
    "            provider.data['fundamental_data'].loc[provider.data['fundamental_data']['company_name'] == company_name, 'company_id'] = '_' + str(index + 1)\n",
    "            provider.data['fundamental_data'].loc[provider.data['fundamental_data']['company_name'] == company_name, 'company_name'] = 'Company_' + str(\n",
    "                                index + 1)\n",
    "    return portfolio, provider"
   ],
   "metadata": {
    "collapsed": false,
    "pycharm": {
     "name": "#%%\n"
    }
   }
  },
  {
   "cell_type": "code",
   "execution_count": 6,
   "outputs": [],
   "source": [
    "provider = ExcelProvider(path=\"data/data_provider_example.xlsx\")\n",
    "portfolio = pd.read_csv(\"example_portfolio.csv\", encoding=\"iso-8859-1\")\n",
    "portfolio[\"company_isin\"] = portfolio.ISIN\n",
    "portfolio, provider = anonymize(portfolio, provider)\n",
    "companies = [SBTi.interfaces.PortfolioCompany.parse_obj(company) for company in portfolio.to_dict(orient=\"records\")]\n",
    "portfolio_data = SBTi.utils.get_data([provider], companies)"
   ],
   "metadata": {
    "collapsed": false,
    "pycharm": {
     "name": "#%%\n"
    }
   }
  },
  {
   "cell_type": "markdown",
   "source": [
    "### Compute temperature scores\n",
    "Configure computation settings"
   ],
   "metadata": {
    "collapsed": false
   }
  },
  {
   "cell_type": "code",
   "execution_count": 7,
   "outputs": [],
   "source": [
    "time_frames = list(SBTi.interfaces.ETimeFrames)\n",
    "scopes = [EScope.S1S2, EScope.S3, EScope.S1S2S3]\n",
    "fallback_score = 3.2\n",
    "model = 4\n",
    "aggregation_method = PortfolioAggregationMethod.WATS\n",
    "grouping = None"
   ],
   "metadata": {
    "collapsed": false,
    "pycharm": {
     "name": "#%%\n"
    }
   }
  },
  {
   "cell_type": "code",
   "execution_count": 8,
   "outputs": [],
   "source": [
    "temperature_score = TemperatureScore(\n",
    "    time_frames=time_frames,\n",
    "    scopes=scopes,\n",
    "    fallback_score=fallback_score,\n",
    "    model=model,\n",
    "    aggregation_method=aggregation_method,\n",
    "    grouping=grouping\n",
    ")"
   ],
   "metadata": {
    "collapsed": false,
    "pycharm": {
     "name": "#%%\n"
    }
   }
  },
  {
   "cell_type": "code",
   "execution_count": 9,
   "outputs": [],
   "source": [
    "amended_portfolio = temperature_score.calculate(portfolio_data)\n",
    "aggregated_scores = temperature_score.aggregate_scores(amended_portfolio)"
   ],
   "metadata": {
    "collapsed": false,
    "pycharm": {
     "name": "#%%\n"
    }
   }
  },
  {
   "cell_type": "markdown",
   "source": [
    "## Save anonymized portfolio data"
   ],
   "metadata": {
    "collapsed": false
   }
  },
  {
   "cell_type": "code",
   "execution_count": 5,
   "outputs": [],
   "source": [
    "portfolio_data.to_clipboard(excel=True, index=False)"
   ],
   "metadata": {
    "collapsed": false,
    "pycharm": {
     "name": "#%%\n"
    }
   }
  },
  {
   "cell_type": "markdown",
   "source": [
    "Save anonymized data provider data - seems to be included in portfolio_data dataframe"
   ],
   "metadata": {
    "collapsed": false
   }
  },
  {
   "cell_type": "markdown",
   "source": [
    "Save applied settings for computations"
   ],
   "metadata": {
    "collapsed": false,
    "pycharm": {
     "name": "#%% md\n"
    }
   }
  }
 ],
 "metadata": {
  "kernelspec": {
   "display_name": "Python 3",
   "language": "python",
   "name": "python3"
  },
  "language_info": {
   "codemirror_mode": {
    "name": "ipython",
    "version": 2
   },
   "file_extension": ".py",
   "mimetype": "text/x-python",
   "name": "python",
   "nbconvert_exporter": "python",
   "pygments_lexer": "ipython2",
   "version": "2.7.6"
  }
 },
 "nbformat": 4,
 "nbformat_minor": 0
}