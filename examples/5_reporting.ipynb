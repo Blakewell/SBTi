{
 "cells": [
  {
   "cell_type": "markdown",
   "metadata": {},
   "source": [
    "# SBTi-Finance Tool - Target Reporting\n",
    "This notebook is an example of how to use the tool to calculate your portfolio's temperature scores and to save results to be submitted to SBTi's Target Validation Team (TVT) for validation and approval of your own Science Based Target.\n",
    "\n",
    "Please see the [methodology](https://sciencebasedtargets.org/wp-content/uploads/2020/07/Temperature-Scoring-Beta-Methodology.pdf), [guidance](https://sciencebasedtargets.org/financial-institutions) and the [technical documentation](http://getting-started.sbti-tool.org/) for more details on how to calculate portfolio temperature scores and how to submit targets to the SBTi for validation and approval. \n",
    "\n",
    "See 1_analysis_example (on [Colab](https://colab.research.google.com/github/OFBDABV/SBTi/blob/master/examples/1_analysis_example.ipynb) or [Github](https://github.com/OFBDABV/SBTi/blob/master/examples/1_analysis_example.ipynb)) for more in depth example of how to work with Jupyter Notebooks in general and SBTi notebooks in particular. "
   ]
  },
  {
   "cell_type": "markdown",
   "metadata": {},
   "source": [
    "## Setting up\n",
    "This section imports SBTi tools, import data providers, and load the portfolio."
   ]
  },
  {
   "cell_type": "code",
   "execution_count": 1,
   "metadata": {
    "pycharm": {
     "name": "#%%\n",
     "is_executing": false
    }
   },
   "outputs": [
    {
     "name": "stdout",
     "text": [
      "Looking in indexes: http://rdnexus1.ortec.finance:8081/nexus/repository/pypi-all/simple\n",
      "Requirement already satisfied: SBTi in d:\\github\\sbti (1.0)\n",
      "Requirement already satisfied: pandas in d:\\anaconda3\\envs\\sbti_getting_started\\lib\\site-packages (from SBTi) (1.0.3)\n",
      "Requirement already satisfied: xlrd in d:\\anaconda3\\envs\\sbti_getting_started\\lib\\site-packages (from SBTi) (1.2.0)\n",
      "Requirement already satisfied: pydantic in d:\\anaconda3\\envs\\sbti_getting_started\\lib\\site-packages (from SBTi) (1.6.1)\n",
      "Requirement already satisfied: python-dateutil>=2.6.1 in d:\\anaconda3\\envs\\sbti_getting_started\\lib\\site-packages (from pandas->SBTi) (2.8.1)\n",
      "Requirement already satisfied: numpy>=1.13.3 in d:\\anaconda3\\envs\\sbti_getting_started\\lib\\site-packages (from pandas->SBTi) (1.19.1)\n",
      "Requirement already satisfied: pytz>=2017.2 in d:\\anaconda3\\envs\\sbti_getting_started\\lib\\site-packages (from pandas->SBTi) (2020.1)\n",
      "Requirement already satisfied: six>=1.5 in d:\\anaconda3\\envs\\sbti_getting_started\\lib\\site-packages (from python-dateutil>=2.6.1->pandas->SBTi) (1.15.0)\n"
     ],
     "output_type": "stream"
    }
   ],
   "source": [
    "!pip install SBTi"
   ]
  },
  {
   "cell_type": "code",
   "execution_count": 2,
   "metadata": {
    "pycharm": {
     "name": "#%%\n",
     "is_executing": false
    }
   },
   "outputs": [],
   "source": [
    "%load_ext autoreload\n",
    "%autoreload 2\n",
    "import SBTi\n",
    "from SBTi.data.excel import ExcelProvider\n",
    "from SBTi.portfolio_aggregation import PortfolioAggregationMethod\n",
    "from SBTi.portfolio_coverage_tvp import PortfolioCoverageTVP\n",
    "from SBTi.temperature_score import TemperatureScore\n",
    "from SBTi.interfaces import ETimeFrames, EScope\n",
    "import pandas as pd"
   ]
  },
  {
   "cell_type": "markdown",
   "metadata": {},
   "source": [
    "### Download resources for Google Colab environment\n"
   ]
  },
  {
   "cell_type": "code",
   "execution_count": 3,
   "metadata": {
    "pycharm": {
     "name": "#%%\n",
     "is_executing": false
    }
   },
   "outputs": [],
   "source": [
    "# Download the dummy data\n",
    "import urllib.request\n",
    "import os\n",
    "\n",
    "if not os.path.isdir(\"data\"):\n",
    "    os.mkdir(\"data\")\n",
    "if not os.path.isfile(\"data/data_provider_example.xlsx\"):\n",
    "    urllib.request.urlretrieve(\"https://github.com/OFBDABV/SBTi/raw/master/examples/data/data_provider_example.xlsx\", \"data/data_provider_example.xlsx\")\n",
    "if not os.path.isfile(\"data/example_portfolio.csv\"):\n",
    "    urllib.request.urlretrieve(\"https://github.com/OFBDABV/SBTi/raw/master/examples/data/example_portfolio.csv\", \"data/example_portfolio.csv\")\n",
    "if not os.path.isfile(\"utils.py\"):\n",
    "    urllib.request.urlretrieve(\"https://github.com/OFBDABV/SBTi/raw/master/examples/utils.py\", \"utils.py\")\n",
    "\n",
    "try:  # Import statement when run in Google Colabs\n",
    "    from utils import  print_aggregations, print_grouped_scores, anonymize, print_percentage_default_scores\n",
    "except:  # Import statement when run locally\n",
    "    from examples.utils import print_aggregations, print_grouped_scores, anonymize, print_percentage_default_scores"
   ]
  },
  {
   "cell_type": "markdown",
   "source": [
    "**Create a data provider**\n",
    "\n",
    "By running the following cell, you load our example data. If you want to score your own portfolio, this is where you can upload data\n",
    "from your data provider or your own data lake. Please refer to [Data Requirements](https://ofbdabv.github.io/SBTi/DataRequirements.html#) for a\n",
    "full description of the data and formats needed.\n",
    "\n",
    "By specifying a data provider, you can connect to the data source of your choice, e.g. CDP, Urgentem, your own data lake, etc. In this\n",
    "example, the provider data is located in an Excel file.\n",
    "Per default we use the example data downloaded in the previous step.\n",
    "To replace the example data with your own data, first place your file in the data folder:\n",
    "- When using Google Colab: click the folder logo in the left pane; hover your mouse of the 'data' folder; click the three dots; click upload; select your file.\n",
    "- When running this notebook locally: place your file in the 'data' folder that is located in the same directory as this notebook.\n",
    "\n",
    "Next, change the file location between the quotes below: replace 'data_provider_example' with your_filename (don't remove the double quotes in the cell below)."
   ],
   "metadata": {
    "collapsed": false
   }
  },
  {
   "cell_type": "code",
   "execution_count": 4,
   "outputs": [],
   "source": [
    "provider = ExcelProvider(path=\"data/data_provider_example.xlsx\")"
   ],
   "metadata": {
    "collapsed": false,
    "pycharm": {
     "name": "#%%\n",
     "is_executing": false
    }
   }
  },
  {
   "cell_type": "markdown",
   "source": [
    "**Load your portfolio**\n",
    "\n",
    "In this example, the portfolio data is stored as a CSV file. If you wish to replace the portfolio file with your own portfolio file,\n",
    "your CSV file should at least have a \"company_id\" column (the identifier of the company) and a \"investment value\" column (the amount\n",
    "of money invested in each of the companies in your portfolio e.g. the value of the shares you hold). Please refer to [Data Requirements](https://ofbdabv.github.io/SBTi/DataRequirements.html#) for a full description of the data and formats needed.\n",
    "To change the portfolio file, follow the same steps as for the data provider, described above.\n",
    "Next, change the file location between the quotes below: replace '`example_portfolio`' with your_filename (don't remove the double quotes in the cell below)."
   ],
   "metadata": {
    "collapsed": false
   }
  },
  {
   "cell_type": "code",
   "execution_count": 5,
   "outputs": [],
   "source": [
    "portfolio = pd.read_csv(\"data/example_portfolio.csv\", encoding=\"iso-8859-1\")"
   ],
   "metadata": {
    "collapsed": false,
    "pycharm": {
     "name": "#%%\n",
     "is_executing": false
    }
   }
  },
  {
   "cell_type": "markdown",
   "source": [
    "The next cell displays the first 5 rows of data in your file."
   ],
   "metadata": {
    "collapsed": false
   }
  },
  {
   "cell_type": "code",
   "execution_count": 6,
   "outputs": [
    {
     "data": {
      "text/plain": "  company_name    company_id  company_isin weights  investment_value  \\\n0   Company AG  US0079031078  US0079031078   6.36%          35000000   \n1   Company AH  US00724F1012  US00724F1012   1.82%          10000000   \n2   Company AI  FR0000125338  FR0000125338   1.82%          10000000   \n3   Company AJ  US17275R1023  US17275R1023   1.82%          10000000   \n4   Company AK  CH0198251305  CH0198251305   1.82%          10000000   \n\n  engagement_target  \n0              True  \n1               NaN  \n2               NaN  \n3               NaN  \n4               NaN  ",
      "text/html": "<div>\n<style scoped>\n    .dataframe tbody tr th:only-of-type {\n        vertical-align: middle;\n    }\n\n    .dataframe tbody tr th {\n        vertical-align: top;\n    }\n\n    .dataframe thead th {\n        text-align: right;\n    }\n</style>\n<table border=\"1\" class=\"dataframe\">\n  <thead>\n    <tr style=\"text-align: right;\">\n      <th></th>\n      <th>company_name</th>\n      <th>company_id</th>\n      <th>company_isin</th>\n      <th>weights</th>\n      <th>investment_value</th>\n      <th>engagement_target</th>\n    </tr>\n  </thead>\n  <tbody>\n    <tr>\n      <th>0</th>\n      <td>Company AG</td>\n      <td>US0079031078</td>\n      <td>US0079031078</td>\n      <td>6.36%</td>\n      <td>35000000</td>\n      <td>True</td>\n    </tr>\n    <tr>\n      <th>1</th>\n      <td>Company AH</td>\n      <td>US00724F1012</td>\n      <td>US00724F1012</td>\n      <td>1.82%</td>\n      <td>10000000</td>\n      <td>NaN</td>\n    </tr>\n    <tr>\n      <th>2</th>\n      <td>Company AI</td>\n      <td>FR0000125338</td>\n      <td>FR0000125338</td>\n      <td>1.82%</td>\n      <td>10000000</td>\n      <td>NaN</td>\n    </tr>\n    <tr>\n      <th>3</th>\n      <td>Company AJ</td>\n      <td>US17275R1023</td>\n      <td>US17275R1023</td>\n      <td>1.82%</td>\n      <td>10000000</td>\n      <td>NaN</td>\n    </tr>\n    <tr>\n      <th>4</th>\n      <td>Company AK</td>\n      <td>CH0198251305</td>\n      <td>CH0198251305</td>\n      <td>1.82%</td>\n      <td>10000000</td>\n      <td>NaN</td>\n    </tr>\n  </tbody>\n</table>\n</div>"
     },
     "metadata": {},
     "output_type": "execute_result",
     "execution_count": 6
    }
   ],
   "source": [
    "portfolio.head(5)"
   ],
   "metadata": {
    "collapsed": false,
    "pycharm": {
     "name": "#%%\n",
     "is_executing": false
    }
   }
  },
  {
   "cell_type": "markdown",
   "source": [
    "To load the data from the data provider, we need to convert the data of the portfolio."
   ],
   "metadata": {
    "collapsed": false
   }
  },
  {
   "cell_type": "code",
   "execution_count": 7,
   "outputs": [],
   "source": [
    "companies = SBTi.utils.dataframe_to_portfolio(portfolio)\n"
   ],
   "metadata": {
    "collapsed": false,
    "pycharm": {
     "name": "#%%\n",
     "is_executing": false
    }
   }
  },
  {
   "cell_type": "markdown",
   "metadata": {},
   "source": [
    "## Select calculation options\n",
    "Configure computational settings for the temperature score. \n",
    "You can change the default score (fallback score in the code) and aggregation method below. The values specified here are the recommended defaults by the SBTi. If you want to overwrite the recommended settings see the comments for all the options per setting"
   ]
  },
  {
   "cell_type": "code",
   "execution_count": 8,
   "metadata": {
    "pycharm": {
     "name": "#%%\n",
     "is_executing": false
    }
   },
   "outputs": [],
   "source": [
    "# Settings                                              # Other Options: \n",
    "time_frames = [SBTi.interfaces.ETimeFrames.MID]         # reporting to TVT requires 'MID'\n",
    "scopes = [EScope.S1S2, EScope.S1S2S3]                   # reporting to TVT requires 'S1S2' and 'S1S2S3'\n",
    "fallback_score = 3.2                                    # The options of the default score are 3.2, 3.9 or 4.5\n",
    "aggregation_method = PortfolioAggregationMethod.WATS    # Options for the aggregation method are WATS, TETS, AOTS, MOTS, EOTS, ECOTS, and ROTS.\n",
    "grouping = ['sector']                                   # reporting to TVT requires 'sector'"
   ]
  },
  {
   "cell_type": "code",
   "execution_count": 9,
   "metadata": {
    "pycharm": {
     "name": "#%%\n",
     "is_executing": false
    }
   },
   "outputs": [],
   "source": [
    "temperature_score = TemperatureScore(\n",
    "    time_frames=time_frames,\n",
    "    scopes=scopes,\n",
    "    fallback_score=fallback_score,\n",
    "    aggregation_method=aggregation_method,\n",
    "    grouping=grouping\n",
    ")"
   ]
  },
  {
   "cell_type": "markdown",
   "metadata": {},
   "source": [
    "## Calculate company and portfolio temperature scores"
   ]
  },
  {
   "cell_type": "code",
   "execution_count": null,
   "metadata": {
    "pycharm": {
     "name": "#%%\n",
     "is_executing": true
    }
   },
   "outputs": [],
   "source": [
    "amended_portfolio = temperature_score.calculate(data_providers=[provider], portfolio=companies)\n",
    "aggregated_scores = temperature_score.aggregate_scores(amended_portfolio)\n",
    "amended_portfolio.head(5) # display top 5 rows"
   ]
  },
  {
   "cell_type": "markdown",
   "metadata": {},
   "source": [
    "## Checks\n",
    "In this example, the following scores are calculated:\n",
    "- Portfolio temperature score\n",
    "- Score for each sector\n",
    "- Percentage covered by targets vs. default scores\n",
    "- Portfolio coverage"
   ]
  },
  {
   "cell_type": "code",
   "execution_count": null,
   "metadata": {
    "pycharm": {
     "name": "#%%\n",
     "is_executing": true
    }
   },
   "outputs": [],
   "source": [
    "# Portfolio temperature score\n",
    "print_aggregations(aggregated_scores)"
   ]
  },
  {
   "cell_type": "code",
   "execution_count": null,
   "metadata": {
    "pycharm": {
     "name": "#%%\n",
     "is_executing": true
    }
   },
   "outputs": [],
   "source": [
    "# Score per sector\n",
    "print_grouped_scores(aggregated_scores)"
   ]
  },
  {
   "cell_type": "code",
   "execution_count": null,
   "metadata": {
    "pycharm": {
     "name": "#%%\n",
     "is_executing": true
    }
   },
   "outputs": [],
   "source": [
    "# Percentage of score based on default score\n",
    "print_percentage_default_scores(aggregated_scores)"
   ]
  },
  {
   "cell_type": "code",
   "execution_count": null,
   "metadata": {
    "pycharm": {
     "name": "#%%\n",
     "is_executing": true
    }
   },
   "outputs": [],
   "source": [
    "# Portfolio coverage: Percentage of SBTs in portfolio\n",
    "portfolio_coverage_tvp = PortfolioCoverageTVP()\n",
    "coverage = portfolio_coverage_tvp.get_portfolio_coverage(amended_portfolio.copy(), PortfolioAggregationMethod.WATS)\n",
    "print(\"Portfolio coverage is {c:.2f}%\".format(c=coverage))"
   ]
  },
  {
   "cell_type": "markdown",
   "metadata": {},
   "source": [
    "## Save anonymized data for SBTi target validation\n",
    "In order for the targets to be validated by SBTi, you can save your data locally. By running the anonymize function, you can replace company identifiers with meaningless substitutes."
   ]
  },
  {
   "cell_type": "code",
   "execution_count": null,
   "metadata": {
    "pycharm": {
     "name": "#%%\n",
     "is_executing": true
    }
   },
   "outputs": [],
   "source": [
    "portfolio, provider = anonymize(portfolio, provider)"
   ]
  },
  {
   "cell_type": "markdown",
   "metadata": {},
   "source": [
    "In order to store the portfolio and provider data locally, two options apply:\n",
    "1. You are running the SBTi tool locally or from Google Colab\n",
    "2. You are running the SBTi tool from a Docker container"
   ]
  },
  {
   "cell_type": "markdown",
   "metadata": {},
   "source": [
    "If you run the SBTi tool locally or from Google Colab, you:\n",
    "- Specify and filenames in the cell below\n",
    "- Run the cell below"
   ]
  },
  {
   "cell_type": "code",
   "execution_count": null,
   "metadata": {
    "pycharm": {
     "name": "#%%\n",
     "is_executing": true
    }
   },
   "outputs": [],
   "source": [
    "portfolio_filename = 'portfolio.xlsx'\n",
    "provider_filename = 'provider.xlsx'\n",
    "portfolio.to_excel(portfolio_filename, index=False)\n",
    "\n",
    "writer = pd.ExcelWriter(provider_filename, engine='openpyxl')\n",
    "provider.data['fundamental_data'].to_excel(writer, sheet_name='fundamental_data')\n",
    "provider.data['target_data'].to_excel(writer, sheet_name='target_data')\n",
    "writer.save()"
   ]
  },
  {
   "cell_type": "markdown",
   "metadata": {},
   "source": [
    "If you run the SBTi tool locally, you find the output files in the root folder of this notebook\n",
    "\n",
    "If you run the SBTi tool from Google Colab, you:\n",
    "- Click on the files icon in the left pane\n",
    "- Click the three dots that appear after hovering over the file\n",
    "- Download the file to your local machine"
   ]
  }
 ],
 "metadata": {
  "kernelspec": {
   "display_name": "Python 3",
   "language": "python",
   "name": "python3"
  },
  "language_info": {
   "codemirror_mode": {
    "name": "ipython",
    "version": 3
   },
   "file_extension": ".py",
   "mimetype": "text/x-python",
   "name": "python",
   "nbconvert_exporter": "python",
   "pygments_lexer": "ipython3",
   "version": "3.7.8"
  },
  "pycharm": {
   "stem_cell": {
    "cell_type": "raw",
    "source": [],
    "metadata": {
     "collapsed": false
    }
   }
  }
 },
 "nbformat": 4,
 "nbformat_minor": 1
}