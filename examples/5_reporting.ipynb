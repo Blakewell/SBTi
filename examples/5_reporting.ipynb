{
 "cells": [
  {
   "cell_type": "markdown",
   "metadata": {
    "collapsed": true,
    "pycharm": {
     "name": "#%% md\n"
    }
   },
   "source": [
    "## SBTi-Finance Tool for Temperature Scoring & Portfolio Coverage - Target Reporting\n",
    "This notebook can be used to compute your portfolio's temperature scores and save the results for SBTi's Target Validation Team (TVT) to check their validity."
   ]
  },
  {
   "cell_type": "markdown",
   "source": [
    "#### Setting up\n",
    "Imports SBTi tools, import data providers, and load the portfolio."
   ],
   "metadata": {
    "collapsed": false
   }
  },
  {
   "cell_type": "code",
   "execution_count": null,
   "outputs": [],
   "source": [
    "# Uncomment the second line and comment out the third line if you wish to use the official release.\n",
    "# !pip install SBTi\n",
    "!pip install git+git://github.com/OFBDABV/SBTi"
   ],
   "metadata": {
    "collapsed": false,
    "pycharm": {
     "name": "#%%\n"
    }
   }
  },
  {
   "cell_type": "code",
   "execution_count": 1,
   "outputs": [],
   "source": [
    "%load_ext autoreload\n",
    "%autoreload 2\n",
    "import SBTi\n",
    "from SBTi.data.excel import ExcelProvider\n",
    "from SBTi.portfolio_aggregation import PortfolioAggregationMethod\n",
    "from SBTi.portfolio_coverage_tvp import PortfolioCoverageTVP\n",
    "from SBTi.temperature_score import TemperatureScore\n",
    "from SBTi.interfaces import ETimeFrames, EScope\n",
    "import pandas as pd"
   ],
   "metadata": {
    "collapsed": false,
    "pycharm": {
     "name": "#%%\n"
    }
   }
  },
  {
   "cell_type": "markdown",
   "source": [
    "#### Download resources for Google Colab environment"
   ],
   "metadata": {
    "collapsed": false
   }
  },
  {
   "cell_type": "code",
   "execution_count": 2,
   "outputs": [],
   "source": [
    "# Download the dummy data\n",
    "import urllib.request\n",
    "import os\n",
    "\n",
    "if not os.path.isdir(\"data\"):\n",
    "    os.mkdir(\"data\")\n",
    "if not os.path.isfile(\"data/data_provider_example.xlsx\"):\n",
    "    urllib.request.urlretrieve(\"https://github.com/OFBDABV/SBTi/raw/master/examples/data/data_provider_example.xlsx\", \"data/data_provider_example.xlsx\")\n",
    "if not os.path.isfile(\"data/example_portfolio.csv\"):\n",
    "    urllib.request.urlretrieve(\"https://github.com/OFBDABV/SBTi/raw/master/examples/data/example_portfolio.csv\", \"data/example_portfolio.csv\")\n",
    "if not os.path.isfile(\"utils.py\"):\n",
    "    urllib.request.urlretrieve(\"https://github.com/OFBDABV/SBTi/raw/master/examples/utils.py\", \"utils.py\")\n",
    "try:  # Import statement when run in Google Colabs\n",
    "    from utils import collect_company_contributions, plot_grouped_statistics, anonymize, print_aggregations, \\\n",
    "        plot_grouped_heatmap, print_scenario_gain, print_grouped_scores\n",
    "except:  # Import statement when run locally\n",
    "    from examples.utils import collect_company_contributions, plot_grouped_statistics, anonymize, print_aggregations, \\\n",
    "        plot_grouped_heatmap, print_scenario_gain, print_grouped_scores"
   ],
   "metadata": {
    "collapsed": false,
    "pycharm": {
     "name": "#%%\n"
    }
   }
  },
  {
   "cell_type": "markdown",
   "source": [
    "Specify the data files to use (portfolio and company data). Per default example data is used.\n",
    "To change the files, first upload (when using Google Colab) or place the files to the data map (when running locally).\n",
    "Next, change the file locations between the quotes below."
   ],
   "metadata": {
    "collapsed": false,
    "pycharm": {
     "name": "#%% md\n"
    }
   }
  },
  {
   "cell_type": "code",
   "execution_count": 3,
   "outputs": [],
   "source": [
    "provider = ExcelProvider(path=\"data/data_provider_example.xlsx\")\n",
    "portfolio = pd.read_csv(\"data/example_portfolio.csv\", encoding=\"iso-8859-1\")\n",
    "companies = SBTi.utils.dataframe_to_portfolio(portfolio)"
   ],
   "metadata": {
    "collapsed": false,
    "pycharm": {
     "name": "#%%\n"
    }
   }
  },
  {
   "cell_type": "markdown",
   "source": [
    "### Compute temperature scores\n",
    "Configure computation settings\n",
    "\n",
    "You can change the default score (fallback_score) and aggregation method (aggregation_method) below. The values specified here are the recommended defaults by SBTi.\n",
    "The options of the default score are 3.2, 3.9 or 4.5. Options for the aggregation method are WATS, TETS, AOTS, MOTS, EOTS, ECOTS, and ROTS."
   ],
   "metadata": {
    "collapsed": false
   }
  },
  {
   "cell_type": "code",
   "execution_count": 4,
   "outputs": [],
   "source": [
    "time_frames = [SBTi.interfaces.ETimeFrames.MID]\n",
    "scopes = [EScope.S1S2, EScope.S1S2S3]\n",
    "fallback_score = 3.2\n",
    "model = 4\n",
    "aggregation_method = PortfolioAggregationMethod.WATS\n",
    "grouping = ['sector']"
   ],
   "metadata": {
    "collapsed": false,
    "pycharm": {
     "name": "#%%\n"
    }
   }
  },
  {
   "cell_type": "code",
   "execution_count": 5,
   "outputs": [],
   "source": [
    "temperature_score = TemperatureScore(\n",
    "    time_frames=time_frames,\n",
    "    scopes=scopes,\n",
    "    fallback_score=fallback_score,\n",
    "    model=model,\n",
    "    aggregation_method=aggregation_method,\n",
    "    grouping=grouping\n",
    ")"
   ],
   "metadata": {
    "collapsed": false,
    "pycharm": {
     "name": "#%%\n"
    }
   }
  },
  {
   "cell_type": "markdown",
   "source": [
    "Compute scores and aggregated scores."
   ],
   "metadata": {
    "collapsed": false,
    "pycharm": {
     "name": "#%% md\n"
    }
   }
  },
  {
   "cell_type": "code",
   "execution_count": 6,
   "outputs": [],
   "source": [
    "amended_portfolio = temperature_score.calculate(data_providers=[provider], portfolio=companies)\n",
    "aggregated_scores = temperature_score.aggregate_scores(amended_portfolio)"
   ],
   "metadata": {
    "collapsed": false,
    "pycharm": {
     "name": "#%%\n"
    }
   }
  },
  {
   "cell_type": "markdown",
   "source": [
    "### Checks\n",
    "The following scores are performed:\n",
    "- Portfolio score\n",
    "- Score per sector\n",
    "- Percentage covered by targets vs. default scores\n",
    "- Percentage of SBTs in portfolio"
   ],
   "metadata": {
    "collapsed": false,
    "pycharm": {
     "name": "#%% md\n"
    }
   }
  },
  {
   "cell_type": "code",
   "execution_count": 7,
   "outputs": [
    {
     "name": "stdout",
     "output_type": "stream",
     "text": [
      "mid - S1S2: 2.55 degrees Celcius\n",
      "mid - S1S2S3: 2.82 degrees Celcius\n"
     ]
    }
   ],
   "source": [
    "# Portfolio score\n",
    "print_aggregations(aggregated_scores)"
   ],
   "metadata": {
    "collapsed": false,
    "pycharm": {
     "name": "#%%\n"
    }
   }
  },
  {
   "cell_type": "code",
   "execution_count": 8,
   "outputs": [
    {
     "name": "stdout",
     "output_type": "stream",
     "text": [
      "\n",
      "mid - S1S2\n",
      "Communication Services: 3.20 degrees Celcius\n",
      "Consumer Discretionary: 2.00 degrees Celcius\n",
      "Consumer Staples: 3.20 degrees Celcius\n",
      "Energy: 3.20 degrees Celcius\n",
      "Financials: 3.20 degrees Celcius\n",
      "Health Care: 2.70 degrees Celcius\n",
      "Industrials: 2.33 degrees Celcius\n",
      "Information Technology: 1.20 degrees Celcius\n",
      "Materials: 3.20 degrees Celcius\n",
      "Real Estate: 2.59 degrees Celcius\n",
      "Utilities: 2.44 degrees Celcius\n",
      "\n",
      "mid - S1S2S3\n",
      "Communication Services: 3.20 degrees Celcius\n",
      "Consumer Discretionary: 3.02 degrees Celcius\n",
      "Consumer Staples: 3.20 degrees Celcius\n",
      "Energy: 3.20 degrees Celcius\n",
      "Financials: 3.11 degrees Celcius\n",
      "Health Care: 3.05 degrees Celcius\n",
      "Industrials: 2.70 degrees Celcius\n",
      "Information Technology: 2.08 degrees Celcius\n",
      "Materials: 3.20 degrees Celcius\n",
      "Real Estate: 3.08 degrees Celcius\n",
      "Utilities: 2.50 degrees Celcius\n"
     ]
    }
   ],
   "source": [
    "# Score per sector\n",
    "print_grouped_scores(aggregated_scores)"
   ],
   "metadata": {
    "collapsed": false,
    "pycharm": {
     "name": "#%%\n"
    }
   }
  },
  {
   "cell_type": "code",
   "execution_count": 9,
   "outputs": [
    {
     "data": {
      "text/plain": "                    company_name   scope    company_id  temperature_results\n0    Advanced Micro Devices, Inc    S1S2  US0079031078             0.000000\n2    Advanced Micro Devices, Inc  S1S2S3  US0079031078             0.727326\n3             Adobe Systems Inc.    S1S2  US00724F1012             0.000000\n5             Adobe Systems Inc.  S1S2S3  US00724F1012             0.000000\n6                Capgemini Group    S1S2  FR0000125338             1.000000\n..                           ...     ...           ...                  ...\n140                   Company AD  S1S2S3  KE0000000030             1.000000\n141                   Company AE    S1S2  TH0000000031             1.000000\n143                   Company AE  S1S2S3  TH0000000031             1.000000\n144                   Company AF    S1S2  ID0000000032             1.000000\n146                   Company AF  S1S2S3  ID0000000032             1.000000\n\n[98 rows x 4 columns]",
      "text/html": "<div>\n<style scoped>\n    .dataframe tbody tr th:only-of-type {\n        vertical-align: middle;\n    }\n\n    .dataframe tbody tr th {\n        vertical-align: top;\n    }\n\n    .dataframe thead th {\n        text-align: right;\n    }\n</style>\n<table border=\"1\" class=\"dataframe\">\n  <thead>\n    <tr style=\"text-align: right;\">\n      <th></th>\n      <th>company_name</th>\n      <th>scope</th>\n      <th>company_id</th>\n      <th>temperature_results</th>\n    </tr>\n  </thead>\n  <tbody>\n    <tr>\n      <th>0</th>\n      <td>Advanced Micro Devices, Inc</td>\n      <td>S1S2</td>\n      <td>US0079031078</td>\n      <td>0.000000</td>\n    </tr>\n    <tr>\n      <th>2</th>\n      <td>Advanced Micro Devices, Inc</td>\n      <td>S1S2S3</td>\n      <td>US0079031078</td>\n      <td>0.727326</td>\n    </tr>\n    <tr>\n      <th>3</th>\n      <td>Adobe Systems Inc.</td>\n      <td>S1S2</td>\n      <td>US00724F1012</td>\n      <td>0.000000</td>\n    </tr>\n    <tr>\n      <th>5</th>\n      <td>Adobe Systems Inc.</td>\n      <td>S1S2S3</td>\n      <td>US00724F1012</td>\n      <td>0.000000</td>\n    </tr>\n    <tr>\n      <th>6</th>\n      <td>Capgemini Group</td>\n      <td>S1S2</td>\n      <td>FR0000125338</td>\n      <td>1.000000</td>\n    </tr>\n    <tr>\n      <th>...</th>\n      <td>...</td>\n      <td>...</td>\n      <td>...</td>\n      <td>...</td>\n    </tr>\n    <tr>\n      <th>140</th>\n      <td>Company AD</td>\n      <td>S1S2S3</td>\n      <td>KE0000000030</td>\n      <td>1.000000</td>\n    </tr>\n    <tr>\n      <th>141</th>\n      <td>Company AE</td>\n      <td>S1S2</td>\n      <td>TH0000000031</td>\n      <td>1.000000</td>\n    </tr>\n    <tr>\n      <th>143</th>\n      <td>Company AE</td>\n      <td>S1S2S3</td>\n      <td>TH0000000031</td>\n      <td>1.000000</td>\n    </tr>\n    <tr>\n      <th>144</th>\n      <td>Company AF</td>\n      <td>S1S2</td>\n      <td>ID0000000032</td>\n      <td>1.000000</td>\n    </tr>\n    <tr>\n      <th>146</th>\n      <td>Company AF</td>\n      <td>S1S2S3</td>\n      <td>ID0000000032</td>\n      <td>1.000000</td>\n    </tr>\n  </tbody>\n</table>\n<p>98 rows × 4 columns</p>\n</div>"
     },
     "execution_count": 9,
     "metadata": {},
     "output_type": "execute_result"
    }
   ],
   "source": [
    "# Percentage of score based on default score\n",
    "amended_portfolio[['company_name', 'scope', 'company_id', 'temperature_results']]"
   ],
   "metadata": {
    "collapsed": false,
    "pycharm": {
     "name": "#%%\n"
    }
   }
  },
  {
   "cell_type": "code",
   "execution_count": 10,
   "outputs": [
    {
     "name": "stdout",
     "output_type": "stream",
     "text": [
      "Part of portfolio with SBTi approved targets is 35.45%\n"
     ]
    }
   ],
   "source": [
    "# Percentage of SBTs in portfolio\n",
    "portfolio_coverage_tvp = PortfolioCoverageTVP()\n",
    "coverage = portfolio_coverage_tvp.get_portfolio_coverage(amended_portfolio.copy(), PortfolioAggregationMethod.WATS)\n",
    "print(\"Part of portfolio with SBTi approved targets is {c:.2f}%\".format(c=coverage))"
   ],
   "metadata": {
    "collapsed": false,
    "pycharm": {
     "name": "#%%\n"
    }
   }
  },
  {
   "cell_type": "markdown",
   "source": [
    "### Save anonymized data for SBTi target validation\n",
    "In order for the targets to be validated by SBTi, you can save your data locally. By running the anonymize function, you can replace company identifiers with meaningless substitutes."
   ],
   "metadata": {
    "collapsed": false
   }
  },
  {
   "cell_type": "code",
   "execution_count": 11,
   "outputs": [],
   "source": [
    "portfolio, provider = anonymize(portfolio, provider)"
   ],
   "metadata": {
    "collapsed": false,
    "pycharm": {
     "name": "#%%\n"
    }
   }
  },
  {
   "cell_type": "markdown",
   "source": [
    "In order to store the portfolio and provider data locally, two options apply:\n",
    "1. You are running the SBTi tool locally or from Google Colab\n",
    "2. You are running the SBTi tool from a Docker container"
   ],
   "metadata": {
    "collapsed": false,
    "pycharm": {
     "name": "#%% md\n"
    }
   }
  },
  {
   "cell_type": "markdown",
   "source": [
    "If you run the SBTi tool locally or from Google Colab, you:\n",
    "- Specify and filenames in the cell below\n",
    "- Run the cell below"
   ],
   "metadata": {
    "collapsed": false,
    "pycharm": {
     "name": "#%% md\n"
    }
   }
  },
  {
   "cell_type": "code",
   "execution_count": 12,
   "outputs": [],
   "source": [
    "portfolio_filename = 'portfolio.xlsx'\n",
    "provider_filename = 'provider.xlsx'\n",
    "portfolio.to_excel(portfolio_filename, index=False)\n",
    "\n",
    "writer = pd.ExcelWriter(provider_filename, engine='openpyxl')\n",
    "provider.data['fundamental_data'].to_excel(writer, sheet_name='fundamental_data')\n",
    "provider.data['target_data'].to_excel(writer, sheet_name='target_data')\n",
    "writer.save()"
   ],
   "metadata": {
    "collapsed": false,
    "pycharm": {
     "name": "#%%\n"
    }
   }
  },
  {
   "cell_type": "markdown",
   "source": [
    "If you run the SBTi tool locally, you finished the notebook at this point. If you run the SBTi tool from Google Colab, you:\n",
    "- Click on the files icon in the left pane\n",
    "- Click the three dots that appear after hovering over the file\n",
    "- Download the file to your local machine\n",
    "\n",
    "and you finished the notebook."
   ],
   "metadata": {
    "collapsed": false,
    "pycharm": {
     "name": "#%% md\n"
    }
   }
  }
 ],
 "metadata": {
  "kernelspec": {
   "display_name": "Python 3",
   "language": "python",
   "name": "python3"
  },
  "language_info": {
   "codemirror_mode": {
    "name": "ipython",
    "version": 2
   },
   "file_extension": ".py",
   "mimetype": "text/x-python",
   "name": "python",
   "nbconvert_exporter": "python",
   "pygments_lexer": "ipython2",
   "version": "2.7.6"
  }
 },
 "nbformat": 4,
 "nbformat_minor": 0
}