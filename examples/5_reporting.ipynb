{
 "cells": [
  {
   "cell_type": "markdown",
   "metadata": {},
   "source": [
    "# SBTi-Finance Tool - Target Reporting\n",
    "This notebook is an example of how to use the tool to calculate your portfolio's temperature scores and to save results to be submitted to SBTi's Target Validation Team (TVT) for validation and approval of your own Science Based Target.\n",
    "\n",
    "Please see the [methodology](https://sciencebasedtargets.org/wp-content/uploads/2020/07/Temperature-Scoring-Beta-Methodology.pdf), [guidance](https://sciencebasedtargets.org/financial-institutions) and the [technical documentation](http://getting-started.sbti-tool.org/) for more details on how to calculate portfolio temperature scores and how to submit targets to the SBTi for validation and approval. \n",
    "\n",
    "See 1_analysis_example for more in depth example of how to work with Jupyter Notebooks in general and SBTi notebooks in particular. "
   ]
  },
  {
   "cell_type": "markdown",
   "metadata": {},
   "source": [
    "## Setting up\n",
    "This section imports SBTi tools, import data providers, and load the portfolio."
   ]
  },
  {
   "cell_type": "code",
   "execution_count": 1,
   "metadata": {
    "pycharm": {
     "name": "#%%\n"
    }
   },
   "outputs": [
    {
     "name": "stdout",
     "output_type": "stream",
     "text": [
      "Requirement already satisfied: SBTi in c:\\sources\\sbti\\venv\\lib\\site-packages (0.5)\n",
      "Requirement already satisfied: pandas in c:\\sources\\sbti\\venv\\lib\\site-packages (from SBTi) (1.0.3)\n",
      "Requirement already satisfied: xlrd in c:\\sources\\sbti\\venv\\lib\\site-packages (from SBTi) (1.2.0)\n",
      "Requirement already satisfied: pydantic in c:\\sources\\sbti\\venv\\lib\\site-packages (from SBTi) (1.6.1)\n",
      "Requirement already satisfied: pytz>=2017.2 in c:\\sources\\sbti\\venv\\lib\\site-packages (from pandas->SBTi) (2020.1)\n",
      "Requirement already satisfied: python-dateutil>=2.6.1 in c:\\sources\\sbti\\venv\\lib\\site-packages (from pandas->SBTi) (2.8.1)\n",
      "Requirement already satisfied: numpy>=1.13.3 in c:\\sources\\sbti\\venv\\lib\\site-packages (from pandas->SBTi) (1.19.1)\n",
      "Requirement already satisfied: dataclasses>=0.6; python_version < \"3.7\" in c:\\sources\\sbti\\venv\\lib\\site-packages (from pydantic->SBTi) (0.7)\n",
      "Requirement already satisfied: six>=1.5 in c:\\sources\\sbti\\venv\\lib\\site-packages (from python-dateutil>=2.6.1->pandas->SBTi) (1.15.0)\n"
     ]
    }
   ],
   "source": [
    "!pip install SBTi"
   ]
  },
  {
   "cell_type": "code",
   "execution_count": 2,
   "metadata": {
    "pycharm": {
     "name": "#%%\n"
    }
   },
   "outputs": [],
   "source": [
    "%load_ext autoreload\n",
    "%autoreload 2\n",
    "import SBTi\n",
    "from SBTi.data.excel import ExcelProvider\n",
    "from SBTi.portfolio_aggregation import PortfolioAggregationMethod\n",
    "from SBTi.portfolio_coverage_tvp import PortfolioCoverageTVP\n",
    "from SBTi.temperature_score import TemperatureScore\n",
    "from SBTi.interfaces import ETimeFrames, EScope\n",
    "import pandas as pd"
   ]
  },
  {
   "cell_type": "markdown",
   "metadata": {},
   "source": [
    "### Download resources for Google Colab environment\n"
   ]
  },
  {
   "cell_type": "code",
   "execution_count": 3,
   "metadata": {
    "pycharm": {
     "name": "#%%\n"
    }
   },
   "outputs": [],
   "source": [
    "# Download the dummy data\n",
    "import urllib.request\n",
    "import os\n",
    "\n",
    "if not os.path.isdir(\"data\"):\n",
    "    os.mkdir(\"data\")\n",
    "if not os.path.isfile(\"data/data_provider_example.xlsx\"):\n",
    "    urllib.request.urlretrieve(\"https://github.com/OFBDABV/SBTi/raw/master/examples/data/data_provider_example.xlsx\", \"data/data_provider_example.xlsx\")\n",
    "if not os.path.isfile(\"data/example_portfolio.csv\"):\n",
    "    urllib.request.urlretrieve(\"https://github.com/OFBDABV/SBTi/raw/master/examples/data/example_portfolio.csv\", \"data/example_portfolio.csv\")\n",
    "if not os.path.isfile(\"utils.py\"):\n",
    "    urllib.request.urlretrieve(\"https://github.com/OFBDABV/SBTi/raw/master/examples/utils.py\", \"utils.py\")\n",
    "\n",
    "try:  # Import statement when run in Google Colabs\n",
    "    from utils import  print_aggregations, print_grouped_scores, anonymize, print_percentage_default_scores\n",
    "except:  # Import statement when run locally\n",
    "    from examples.utils import print_aggregations, print_grouped_scores, anonymize, print_percentage_default_scores"
   ]
  },
  {
   "cell_type": "markdown",
   "metadata": {},
   "source": [
    "Specify the data files to use (portfolio and company data). In this example we are using dummy data. \n",
    "\n",
    "To change the files, first upload (when using Google Colab) or place the files to the data map (when running locally).\n",
    "Next, change the file locations between the quotes below."
   ]
  },
  {
   "cell_type": "code",
   "execution_count": 4,
   "metadata": {
    "pycharm": {
     "name": "#%%\n"
    }
   },
   "outputs": [
    {
     "data": {
      "text/plain": "   company_name    company_id  company_isin weights  investment_value  \\\n0    Company AG  US0079031078  US0079031078   6.36%          35000000   \n1    Company AH  US00724F1012  US00724F1012   1.82%          10000000   \n2    Company AI  FR0000125338  FR0000125338   1.82%          10000000   \n3    Company AJ  US17275R1023  US17275R1023   1.82%          10000000   \n4    Company AK  CH0198251305  CH0198251305   1.82%          10000000   \n5    Company AL  US1266501006  US1266501006   1.82%          10000000   \n6    Company AM  FR0000120644  FR0000120644   1.82%          10000000   \n7    Company AN  US24703L1035  US24703L1035   1.82%          10000000   \n8    Company AO  TW0002308004  TW0002308004   1.82%          10000000   \n9    Company AP  FR0000120321  FR0000120321   1.82%          10000000   \n10   Company AQ  CH0038863350  CH0038863350   1.82%          10000000   \n11   Company AR  US8356993076  US8356993076   1.82%          10000000   \n12   Company AS  JP3401400001  JP3401400001   1.82%          10000000   \n13   Company AT  US6541061031  US6541061031   1.82%          10000000   \n14   Company AU  GB0031274896  GB0031274896   1.82%          10000000   \n15   Company AV  US6293775085  US6293775085   1.82%          10000000   \n16   Company AW  US7134481081  US7134481081   1.82%          10000000   \n17    Company A  JP0000000001  JP0000000001   1.82%          10000000   \n18    Company B  NL0000000002  NL0000000002   1.82%          10000000   \n19    Company C  IT0000000003  IT0000000003   1.82%          10000000   \n20    Company D  SE0000000004  SE0000000004   1.82%          10000000   \n21    Company E  SE0000000005  SE0000000005   1.82%          10000000   \n22    Company F  NL0000000006  NL0000000006   1.82%          10000000   \n23    Company G  CN0000000007  CN0000000007   1.82%          10000000   \n24    Company H  CN0000000008  CN0000000008   1.82%          10000000   \n25    Company I  CN0000000009  CN0000000009   1.82%          10000000   \n26    Company J  BR0000000010  BR0000000010   1.82%          10000000   \n27    Company K  BR0000000011  BR0000000011   1.82%          10000000   \n28    Company L  BR0000000012  BR0000000012   1.82%          10000000   \n29    Company M  AR0000000013  AR0000000013   1.82%          10000000   \n30    Company N  FR0000000014  FR0000000014   7.82%          43000000   \n31    Company O  FR0000000015  FR0000000015   1.82%          10000000   \n32    Company P  FR0000000016  FR0000000016   1.82%          10000000   \n33    Company Q  CA0000000017  CA0000000017   2.18%          12000000   \n34    Company R  CA0000000018  CA0000000018   1.82%          10000000   \n35    Company S  CA0000000019  CA0000000019   1.82%          10000000   \n36    Company T  CA0000000020  CA0000000020   1.82%          10000000   \n37    Company U  US0000000021  US0000000021   1.82%          10000000   \n38    Company V  US0000000022  US0000000022   1.82%          10000000   \n39    Company W  US0000000023  US0000000023   1.82%          10000000   \n40    Company X  FI0000000024  FI0000000024   1.82%          10000000   \n41    Company Y  DK0000000025  DK0000000025   1.82%          10000000   \n42    Company Z  JP0000000026  JP0000000026   1.82%          10000000   \n43   Company AA  SP0000000027  SP0000000027   1.82%          10000000   \n44   Company AB  RU0000000028  RU0000000028   1.82%          10000000   \n45   Company AC  ZA0000000029  ZA0000000029   1.82%          10000000   \n46   Company AD  KE0000000030  KE0000000030   1.82%          10000000   \n47   Company AE  TH0000000031  TH0000000031   1.82%          10000000   \n48   Company AF  ID0000000032  ID0000000032   1.82%          10000000   \n\n    engagement_target  \n0                True  \n1               False  \n2               False  \n3               False  \n4               False  \n5               False  \n6               False  \n7               False  \n8               False  \n9               False  \n10              False  \n11              False  \n12              False  \n13              False  \n14              False  \n15              False  \n16              False  \n17               True  \n18              False  \n19              False  \n20              False  \n21              False  \n22               True  \n23              False  \n24              False  \n25              False  \n26              False  \n27               True  \n28              False  \n29              False  \n30              False  \n31              False  \n32              False  \n33              False  \n34              False  \n35              False  \n36              False  \n37               True  \n38              False  \n39              False  \n40              False  \n41              False  \n42              False  \n43               True  \n44              False  \n45              False  \n46              False  \n47              False  \n48              False  ",
      "text/html": "<div>\n<style scoped>\n    .dataframe tbody tr th:only-of-type {\n        vertical-align: middle;\n    }\n\n    .dataframe tbody tr th {\n        vertical-align: top;\n    }\n\n    .dataframe thead th {\n        text-align: right;\n    }\n</style>\n<table border=\"1\" class=\"dataframe\">\n  <thead>\n    <tr style=\"text-align: right;\">\n      <th></th>\n      <th>company_name</th>\n      <th>company_id</th>\n      <th>company_isin</th>\n      <th>weights</th>\n      <th>investment_value</th>\n      <th>engagement_target</th>\n    </tr>\n  </thead>\n  <tbody>\n    <tr>\n      <th>0</th>\n      <td>Company AG</td>\n      <td>US0079031078</td>\n      <td>US0079031078</td>\n      <td>6.36%</td>\n      <td>35000000</td>\n      <td>True</td>\n    </tr>\n    <tr>\n      <th>1</th>\n      <td>Company AH</td>\n      <td>US00724F1012</td>\n      <td>US00724F1012</td>\n      <td>1.82%</td>\n      <td>10000000</td>\n      <td>False</td>\n    </tr>\n    <tr>\n      <th>2</th>\n      <td>Company AI</td>\n      <td>FR0000125338</td>\n      <td>FR0000125338</td>\n      <td>1.82%</td>\n      <td>10000000</td>\n      <td>False</td>\n    </tr>\n    <tr>\n      <th>3</th>\n      <td>Company AJ</td>\n      <td>US17275R1023</td>\n      <td>US17275R1023</td>\n      <td>1.82%</td>\n      <td>10000000</td>\n      <td>False</td>\n    </tr>\n    <tr>\n      <th>4</th>\n      <td>Company AK</td>\n      <td>CH0198251305</td>\n      <td>CH0198251305</td>\n      <td>1.82%</td>\n      <td>10000000</td>\n      <td>False</td>\n    </tr>\n    <tr>\n      <th>5</th>\n      <td>Company AL</td>\n      <td>US1266501006</td>\n      <td>US1266501006</td>\n      <td>1.82%</td>\n      <td>10000000</td>\n      <td>False</td>\n    </tr>\n    <tr>\n      <th>6</th>\n      <td>Company AM</td>\n      <td>FR0000120644</td>\n      <td>FR0000120644</td>\n      <td>1.82%</td>\n      <td>10000000</td>\n      <td>False</td>\n    </tr>\n    <tr>\n      <th>7</th>\n      <td>Company AN</td>\n      <td>US24703L1035</td>\n      <td>US24703L1035</td>\n      <td>1.82%</td>\n      <td>10000000</td>\n      <td>False</td>\n    </tr>\n    <tr>\n      <th>8</th>\n      <td>Company AO</td>\n      <td>TW0002308004</td>\n      <td>TW0002308004</td>\n      <td>1.82%</td>\n      <td>10000000</td>\n      <td>False</td>\n    </tr>\n    <tr>\n      <th>9</th>\n      <td>Company AP</td>\n      <td>FR0000120321</td>\n      <td>FR0000120321</td>\n      <td>1.82%</td>\n      <td>10000000</td>\n      <td>False</td>\n    </tr>\n    <tr>\n      <th>10</th>\n      <td>Company AQ</td>\n      <td>CH0038863350</td>\n      <td>CH0038863350</td>\n      <td>1.82%</td>\n      <td>10000000</td>\n      <td>False</td>\n    </tr>\n    <tr>\n      <th>11</th>\n      <td>Company AR</td>\n      <td>US8356993076</td>\n      <td>US8356993076</td>\n      <td>1.82%</td>\n      <td>10000000</td>\n      <td>False</td>\n    </tr>\n    <tr>\n      <th>12</th>\n      <td>Company AS</td>\n      <td>JP3401400001</td>\n      <td>JP3401400001</td>\n      <td>1.82%</td>\n      <td>10000000</td>\n      <td>False</td>\n    </tr>\n    <tr>\n      <th>13</th>\n      <td>Company AT</td>\n      <td>US6541061031</td>\n      <td>US6541061031</td>\n      <td>1.82%</td>\n      <td>10000000</td>\n      <td>False</td>\n    </tr>\n    <tr>\n      <th>14</th>\n      <td>Company AU</td>\n      <td>GB0031274896</td>\n      <td>GB0031274896</td>\n      <td>1.82%</td>\n      <td>10000000</td>\n      <td>False</td>\n    </tr>\n    <tr>\n      <th>15</th>\n      <td>Company AV</td>\n      <td>US6293775085</td>\n      <td>US6293775085</td>\n      <td>1.82%</td>\n      <td>10000000</td>\n      <td>False</td>\n    </tr>\n    <tr>\n      <th>16</th>\n      <td>Company AW</td>\n      <td>US7134481081</td>\n      <td>US7134481081</td>\n      <td>1.82%</td>\n      <td>10000000</td>\n      <td>False</td>\n    </tr>\n    <tr>\n      <th>17</th>\n      <td>Company A</td>\n      <td>JP0000000001</td>\n      <td>JP0000000001</td>\n      <td>1.82%</td>\n      <td>10000000</td>\n      <td>True</td>\n    </tr>\n    <tr>\n      <th>18</th>\n      <td>Company B</td>\n      <td>NL0000000002</td>\n      <td>NL0000000002</td>\n      <td>1.82%</td>\n      <td>10000000</td>\n      <td>False</td>\n    </tr>\n    <tr>\n      <th>19</th>\n      <td>Company C</td>\n      <td>IT0000000003</td>\n      <td>IT0000000003</td>\n      <td>1.82%</td>\n      <td>10000000</td>\n      <td>False</td>\n    </tr>\n    <tr>\n      <th>20</th>\n      <td>Company D</td>\n      <td>SE0000000004</td>\n      <td>SE0000000004</td>\n      <td>1.82%</td>\n      <td>10000000</td>\n      <td>False</td>\n    </tr>\n    <tr>\n      <th>21</th>\n      <td>Company E</td>\n      <td>SE0000000005</td>\n      <td>SE0000000005</td>\n      <td>1.82%</td>\n      <td>10000000</td>\n      <td>False</td>\n    </tr>\n    <tr>\n      <th>22</th>\n      <td>Company F</td>\n      <td>NL0000000006</td>\n      <td>NL0000000006</td>\n      <td>1.82%</td>\n      <td>10000000</td>\n      <td>True</td>\n    </tr>\n    <tr>\n      <th>23</th>\n      <td>Company G</td>\n      <td>CN0000000007</td>\n      <td>CN0000000007</td>\n      <td>1.82%</td>\n      <td>10000000</td>\n      <td>False</td>\n    </tr>\n    <tr>\n      <th>24</th>\n      <td>Company H</td>\n      <td>CN0000000008</td>\n      <td>CN0000000008</td>\n      <td>1.82%</td>\n      <td>10000000</td>\n      <td>False</td>\n    </tr>\n    <tr>\n      <th>25</th>\n      <td>Company I</td>\n      <td>CN0000000009</td>\n      <td>CN0000000009</td>\n      <td>1.82%</td>\n      <td>10000000</td>\n      <td>False</td>\n    </tr>\n    <tr>\n      <th>26</th>\n      <td>Company J</td>\n      <td>BR0000000010</td>\n      <td>BR0000000010</td>\n      <td>1.82%</td>\n      <td>10000000</td>\n      <td>False</td>\n    </tr>\n    <tr>\n      <th>27</th>\n      <td>Company K</td>\n      <td>BR0000000011</td>\n      <td>BR0000000011</td>\n      <td>1.82%</td>\n      <td>10000000</td>\n      <td>True</td>\n    </tr>\n    <tr>\n      <th>28</th>\n      <td>Company L</td>\n      <td>BR0000000012</td>\n      <td>BR0000000012</td>\n      <td>1.82%</td>\n      <td>10000000</td>\n      <td>False</td>\n    </tr>\n    <tr>\n      <th>29</th>\n      <td>Company M</td>\n      <td>AR0000000013</td>\n      <td>AR0000000013</td>\n      <td>1.82%</td>\n      <td>10000000</td>\n      <td>False</td>\n    </tr>\n    <tr>\n      <th>30</th>\n      <td>Company N</td>\n      <td>FR0000000014</td>\n      <td>FR0000000014</td>\n      <td>7.82%</td>\n      <td>43000000</td>\n      <td>False</td>\n    </tr>\n    <tr>\n      <th>31</th>\n      <td>Company O</td>\n      <td>FR0000000015</td>\n      <td>FR0000000015</td>\n      <td>1.82%</td>\n      <td>10000000</td>\n      <td>False</td>\n    </tr>\n    <tr>\n      <th>32</th>\n      <td>Company P</td>\n      <td>FR0000000016</td>\n      <td>FR0000000016</td>\n      <td>1.82%</td>\n      <td>10000000</td>\n      <td>False</td>\n    </tr>\n    <tr>\n      <th>33</th>\n      <td>Company Q</td>\n      <td>CA0000000017</td>\n      <td>CA0000000017</td>\n      <td>2.18%</td>\n      <td>12000000</td>\n      <td>False</td>\n    </tr>\n    <tr>\n      <th>34</th>\n      <td>Company R</td>\n      <td>CA0000000018</td>\n      <td>CA0000000018</td>\n      <td>1.82%</td>\n      <td>10000000</td>\n      <td>False</td>\n    </tr>\n    <tr>\n      <th>35</th>\n      <td>Company S</td>\n      <td>CA0000000019</td>\n      <td>CA0000000019</td>\n      <td>1.82%</td>\n      <td>10000000</td>\n      <td>False</td>\n    </tr>\n    <tr>\n      <th>36</th>\n      <td>Company T</td>\n      <td>CA0000000020</td>\n      <td>CA0000000020</td>\n      <td>1.82%</td>\n      <td>10000000</td>\n      <td>False</td>\n    </tr>\n    <tr>\n      <th>37</th>\n      <td>Company U</td>\n      <td>US0000000021</td>\n      <td>US0000000021</td>\n      <td>1.82%</td>\n      <td>10000000</td>\n      <td>True</td>\n    </tr>\n    <tr>\n      <th>38</th>\n      <td>Company V</td>\n      <td>US0000000022</td>\n      <td>US0000000022</td>\n      <td>1.82%</td>\n      <td>10000000</td>\n      <td>False</td>\n    </tr>\n    <tr>\n      <th>39</th>\n      <td>Company W</td>\n      <td>US0000000023</td>\n      <td>US0000000023</td>\n      <td>1.82%</td>\n      <td>10000000</td>\n      <td>False</td>\n    </tr>\n    <tr>\n      <th>40</th>\n      <td>Company X</td>\n      <td>FI0000000024</td>\n      <td>FI0000000024</td>\n      <td>1.82%</td>\n      <td>10000000</td>\n      <td>False</td>\n    </tr>\n    <tr>\n      <th>41</th>\n      <td>Company Y</td>\n      <td>DK0000000025</td>\n      <td>DK0000000025</td>\n      <td>1.82%</td>\n      <td>10000000</td>\n      <td>False</td>\n    </tr>\n    <tr>\n      <th>42</th>\n      <td>Company Z</td>\n      <td>JP0000000026</td>\n      <td>JP0000000026</td>\n      <td>1.82%</td>\n      <td>10000000</td>\n      <td>False</td>\n    </tr>\n    <tr>\n      <th>43</th>\n      <td>Company AA</td>\n      <td>SP0000000027</td>\n      <td>SP0000000027</td>\n      <td>1.82%</td>\n      <td>10000000</td>\n      <td>True</td>\n    </tr>\n    <tr>\n      <th>44</th>\n      <td>Company AB</td>\n      <td>RU0000000028</td>\n      <td>RU0000000028</td>\n      <td>1.82%</td>\n      <td>10000000</td>\n      <td>False</td>\n    </tr>\n    <tr>\n      <th>45</th>\n      <td>Company AC</td>\n      <td>ZA0000000029</td>\n      <td>ZA0000000029</td>\n      <td>1.82%</td>\n      <td>10000000</td>\n      <td>False</td>\n    </tr>\n    <tr>\n      <th>46</th>\n      <td>Company AD</td>\n      <td>KE0000000030</td>\n      <td>KE0000000030</td>\n      <td>1.82%</td>\n      <td>10000000</td>\n      <td>False</td>\n    </tr>\n    <tr>\n      <th>47</th>\n      <td>Company AE</td>\n      <td>TH0000000031</td>\n      <td>TH0000000031</td>\n      <td>1.82%</td>\n      <td>10000000</td>\n      <td>False</td>\n    </tr>\n    <tr>\n      <th>48</th>\n      <td>Company AF</td>\n      <td>ID0000000032</td>\n      <td>ID0000000032</td>\n      <td>1.82%</td>\n      <td>10000000</td>\n      <td>False</td>\n    </tr>\n  </tbody>\n</table>\n</div>"
     },
     "execution_count": 4,
     "metadata": {},
     "output_type": "execute_result"
    }
   ],
   "source": [
    "provider = ExcelProvider(path=\"data/data_provider_example.xlsx\")             # adjust the path according to your data\n",
    "portfolio = pd.read_csv(\"data/example_portfolio.csv\", encoding=\"iso-8859-1\") # adjust the path according to your data\n",
    "companies = SBTi.utils.dataframe_to_portfolio(portfolio)\n",
    "portfolio"
   ]
  },
  {
   "cell_type": "markdown",
   "metadata": {},
   "source": [
    "## Select calculation options\n",
    "Configure computational settings for the temperature score. Below an example configuration with other options displayed in the comments"
   ]
  },
  {
   "cell_type": "code",
   "execution_count": 5,
   "metadata": {
    "pycharm": {
     "name": "#%%\n"
    }
   },
   "outputs": [],
   "source": [
    "# Settings                                              # Other Options: \n",
    "time_frames = [SBTi.interfaces.ETimeFrames.MID]         # ETimeFrames: SHORT MID and LONG\n",
    "scopes = [EScope.S1S2, EScope.S1S2S3]                   # EScopes: S1, S2, S3, S1S2 and S1S2S3\n",
    "fallback_score = 3.2                                    # The options of the default score are 3.2, 3.9 or 4.5\n",
    "aggregation_method = PortfolioAggregationMethod.WATS    # Options for the aggregation method are WATS, TETS, AOTS, MOTS, EOTS, ECOTS, and ROTS.\n",
    "grouping = ['sector']                                   # Any column available on company level"
   ]
  },
  {
   "cell_type": "code",
   "execution_count": 6,
   "metadata": {
    "pycharm": {
     "name": "#%%\n"
    }
   },
   "outputs": [],
   "source": [
    "temperature_score = TemperatureScore(\n",
    "    time_frames=time_frames,\n",
    "    scopes=scopes,\n",
    "    fallback_score=fallback_score,\n",
    "    aggregation_method=aggregation_method,\n",
    "    grouping=grouping\n",
    ")"
   ]
  },
  {
   "cell_type": "markdown",
   "metadata": {},
   "source": [
    "## Calculate company and portfolio temperature scores"
   ]
  },
  {
   "cell_type": "code",
   "execution_count": 7,
   "metadata": {
    "pycharm": {
     "name": "#%%\n"
    }
   },
   "outputs": [],
   "source": [
    "amended_portfolio = temperature_score.calculate(data_providers=[provider], portfolio=companies)\n",
    "aggregated_scores = temperature_score.aggregate_scores(amended_portfolio)"
   ]
  },
  {
   "cell_type": "markdown",
   "metadata": {},
   "source": [
    "## Checks\n",
    "In this example, the following scores are calculated:\n",
    "- Portfolio temperature score\n",
    "- Score for each sector\n",
    "- Percentage covered by targets vs. default scores\n",
    "- Portfolio coverage"
   ]
  },
  {
   "cell_type": "code",
   "execution_count": 8,
   "metadata": {
    "pycharm": {
     "name": "#%%\n"
    }
   },
   "outputs": [
    {
     "name": "stdout",
     "output_type": "stream",
     "text": [
      "Timeframe  Scope      Temp score\n",
      "mid        S1S2       2.63\n",
      "mid        S1S2S3     2.88\n"
     ]
    }
   ],
   "source": [
    "# Portfolio temperature score\n",
    "print_aggregations(aggregated_scores)"
   ]
  },
  {
   "cell_type": "code",
   "execution_count": 9,
   "metadata": {
    "pycharm": {
     "name": "#%%\n"
    }
   },
   "outputs": [
    {
     "name": "stdout",
     "output_type": "stream",
     "text": [
      "\n",
      "                         Temp score\n",
      "mid - S1S2\n",
      "Communication Services   3.20\n",
      "Consumer Discretionary   2.44\n",
      "Consumer Staples         3.20\n",
      "Energy                   3.20\n",
      "Financials               3.20\n",
      "Health Care              2.70\n",
      "Industrials              2.36\n",
      "Information Technology   1.32\n",
      "Materials                3.20\n",
      "Real Estate              3.28\n",
      "Utilities                2.58\n",
      "\n",
      "                         Temp score\n",
      "mid - S1S2S3\n",
      "Communication Services   3.20\n",
      "Consumer Discretionary   3.08\n",
      "Consumer Staples         3.20\n",
      "Energy                   3.20\n",
      "Financials               3.11\n",
      "Health Care              3.05\n",
      "Industrials              2.72\n",
      "Information Technology   2.15\n",
      "Materials                3.20\n",
      "Real Estate              3.21\n",
      "Utilities                2.73\n"
     ]
    }
   ],
   "source": [
    "# Score per sector\n",
    "print_grouped_scores(aggregated_scores)"
   ]
  },
  {
   "cell_type": "code",
   "execution_count": 9,
   "metadata": {
    "pycharm": {
     "name": "#%%\n"
    }
   },
   "outputs": [
    {
     "data": {
      "text/html": [
       "<div>\n",
       "<style scoped>\n",
       "    .dataframe tbody tr th:only-of-type {\n",
       "        vertical-align: middle;\n",
       "    }\n",
       "\n",
       "    .dataframe tbody tr th {\n",
       "        vertical-align: top;\n",
       "    }\n",
       "\n",
       "    .dataframe thead th {\n",
       "        text-align: right;\n",
       "    }\n",
       "</style>\n",
       "<table border=\"1\" class=\"dataframe\">\n",
       "  <thead>\n",
       "    <tr style=\"text-align: right;\">\n",
       "      <th></th>\n",
       "      <th>company_name</th>\n",
       "      <th>scope</th>\n",
       "      <th>company_id</th>\n",
       "      <th>temperature_results</th>\n",
       "    </tr>\n",
       "  </thead>\n",
       "  <tbody>\n",
       "    <tr>\n",
       "      <th>0</th>\n",
       "      <td>Advanced Micro Devices, Inc</td>\n",
       "      <td>S1S2</td>\n",
       "      <td>US0079031078</td>\n",
       "      <td>0.000000</td>\n",
       "    </tr>\n",
       "    <tr>\n",
       "      <th>2</th>\n",
       "      <td>Advanced Micro Devices, Inc</td>\n",
       "      <td>S1S2S3</td>\n",
       "      <td>US0079031078</td>\n",
       "      <td>0.727326</td>\n",
       "    </tr>\n",
       "    <tr>\n",
       "      <th>3</th>\n",
       "      <td>Adobe Systems Inc.</td>\n",
       "      <td>S1S2</td>\n",
       "      <td>US00724F1012</td>\n",
       "      <td>0.000000</td>\n",
       "    </tr>\n",
       "    <tr>\n",
       "      <th>5</th>\n",
       "      <td>Adobe Systems Inc.</td>\n",
       "      <td>S1S2S3</td>\n",
       "      <td>US00724F1012</td>\n",
       "      <td>0.000000</td>\n",
       "    </tr>\n",
       "    <tr>\n",
       "      <th>6</th>\n",
       "      <td>Capgemini Group</td>\n",
       "      <td>S1S2</td>\n",
       "      <td>FR0000125338</td>\n",
       "      <td>1.000000</td>\n",
       "    </tr>\n",
       "    <tr>\n",
       "      <th>...</th>\n",
       "      <td>...</td>\n",
       "      <td>...</td>\n",
       "      <td>...</td>\n",
       "      <td>...</td>\n",
       "    </tr>\n",
       "    <tr>\n",
       "      <th>140</th>\n",
       "      <td>Company AD</td>\n",
       "      <td>S1S2S3</td>\n",
       "      <td>KE0000000030</td>\n",
       "      <td>1.000000</td>\n",
       "    </tr>\n",
       "    <tr>\n",
       "      <th>141</th>\n",
       "      <td>Company AE</td>\n",
       "      <td>S1S2</td>\n",
       "      <td>TH0000000031</td>\n",
       "      <td>1.000000</td>\n",
       "    </tr>\n",
       "    <tr>\n",
       "      <th>143</th>\n",
       "      <td>Company AE</td>\n",
       "      <td>S1S2S3</td>\n",
       "      <td>TH0000000031</td>\n",
       "      <td>1.000000</td>\n",
       "    </tr>\n",
       "    <tr>\n",
       "      <th>144</th>\n",
       "      <td>Company AF</td>\n",
       "      <td>S1S2</td>\n",
       "      <td>ID0000000032</td>\n",
       "      <td>1.000000</td>\n",
       "    </tr>\n",
       "    <tr>\n",
       "      <th>146</th>\n",
       "      <td>Company AF</td>\n",
       "      <td>S1S2S3</td>\n",
       "      <td>ID0000000032</td>\n",
       "      <td>1.000000</td>\n",
       "    </tr>\n",
       "  </tbody>\n",
       "</table>\n",
       "<p>98 rows × 4 columns</p>\n",
       "</div>"
      ],
      "text/plain": [
       "                    company_name   scope    company_id  temperature_results\n",
       "0    Advanced Micro Devices, Inc    S1S2  US0079031078             0.000000\n",
       "2    Advanced Micro Devices, Inc  S1S2S3  US0079031078             0.727326\n",
       "3             Adobe Systems Inc.    S1S2  US00724F1012             0.000000\n",
       "5             Adobe Systems Inc.  S1S2S3  US00724F1012             0.000000\n",
       "6                Capgemini Group    S1S2  FR0000125338             1.000000\n",
       "..                           ...     ...           ...                  ...\n",
       "140                   Company AD  S1S2S3  KE0000000030             1.000000\n",
       "141                   Company AE    S1S2  TH0000000031             1.000000\n",
       "143                   Company AE  S1S2S3  TH0000000031             1.000000\n",
       "144                   Company AF    S1S2  ID0000000032             1.000000\n",
       "146                   Company AF  S1S2S3  ID0000000032             1.000000\n",
       "\n",
       "[98 rows x 4 columns]"
      ]
     },
     "execution_count": 9,
     "metadata": {},
     "output_type": "execute_result"
    }
   ],
   "source": [
    "# Percentage of score based on default score\n",
    "print_percentage_default_scores(aggregated_scores)"
   ]
  },
  {
   "cell_type": "code",
   "execution_count": 10,
   "metadata": {
    "pycharm": {
     "name": "#%%\n"
    }
   },
   "outputs": [
    {
     "name": "stdout",
     "output_type": "stream",
     "text": [
      "Part of portfolio with SBTi approved targets is 35.45%\n"
     ]
    }
   ],
   "source": [
    "# Portfolio coverage: Percentage of SBTs in portfolio\n",
    "portfolio_coverage_tvp = PortfolioCoverageTVP()\n",
    "coverage = portfolio_coverage_tvp.get_portfolio_coverage(amended_portfolio.copy(), PortfolioAggregationMethod.WATS)\n",
    "print(\"Portfolio coverage is {c:.2f}%\".format(c=coverage))"
   ]
  },
  {
   "cell_type": "markdown",
   "metadata": {},
   "source": [
    "## Save anonymized data for SBTi target validation\n",
    "In order for the targets to be validated by SBTi, you can save your data locally. By running the anonymize function, you can replace company identifiers with meaningless substitutes."
   ]
  },
  {
   "cell_type": "code",
   "execution_count": 11,
   "metadata": {
    "pycharm": {
     "name": "#%%\n"
    }
   },
   "outputs": [],
   "source": [
    "portfolio, provider = anonymize(portfolio, provider)"
   ]
  },
  {
   "cell_type": "markdown",
   "metadata": {},
   "source": [
    "In order to store the portfolio and provider data locally, two options apply:\n",
    "1. You are running the SBTi tool locally or from Google Colab\n",
    "2. You are running the SBTi tool from a Docker container"
   ]
  },
  {
   "cell_type": "markdown",
   "metadata": {},
   "source": [
    "If you run the SBTi tool locally or from Google Colab, you:\n",
    "- Specify and filenames in the cell below\n",
    "- Run the cell below"
   ]
  },
  {
   "cell_type": "code",
   "execution_count": 12,
   "metadata": {
    "pycharm": {
     "name": "#%%\n"
    }
   },
   "outputs": [],
   "source": [
    "portfolio_filename = 'portfolio.xlsx'\n",
    "provider_filename = 'provider.xlsx'\n",
    "portfolio.to_excel(portfolio_filename, index=False)\n",
    "\n",
    "writer = pd.ExcelWriter(provider_filename, engine='openpyxl')\n",
    "provider.data['fundamental_data'].to_excel(writer, sheet_name='fundamental_data')\n",
    "provider.data['target_data'].to_excel(writer, sheet_name='target_data')\n",
    "writer.save()"
   ]
  },
  {
   "cell_type": "markdown",
   "metadata": {},
   "source": [
    "If you run the SBTi tool locally, you find the output files in the root folder of this notebook\n",
    "\n",
    "If you run the SBTi tool from Google Colab, you:\n",
    "- Click on the files icon in the left pane\n",
    "- Click the three dots that appear after hovering over the file\n",
    "- Download the file to your local machine"
   ]
  }
 ],
 "metadata": {
  "kernelspec": {
   "display_name": "Python 3",
   "language": "python",
   "name": "python3"
  },
  "language_info": {
   "codemirror_mode": {
    "name": "ipython",
    "version": 3
   },
   "file_extension": ".py",
   "mimetype": "text/x-python",
   "name": "python",
   "nbconvert_exporter": "python",
   "pygments_lexer": "ipython3",
   "version": "3.7.8"
  }
 },
 "nbformat": 4,
 "nbformat_minor": 1
}