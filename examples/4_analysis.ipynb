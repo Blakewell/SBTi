{
 "cells": [
  {
   "cell_type": "markdown",
   "source": [
    "# SBTi-Finance Tool for Temperature Scoring & Portfolio Coverage\n",
    "## Do you want to understand what drives the temperature score of your portfolio to make better engagement and investment decisions?\n",
    "\n",
    "![ExampleGraphs](https://github.com/OFBDABV/SBTi/raw/master/examples/images/JN_HeroImage.jpg)"
   ],
   "metadata": {
    "collapsed": false
   }
  },
  {
   "cell_type": "markdown",
   "source": [
    "This notebook provides some examples of how to use the SBTi-Finance Tool to analyse portfolios' and companies' GHG emissions\n",
    "reduction targets.\n",
    "\n",
    "The notebook is not intended as a production tool, but for you to be able to evaluate if this tool can fit with your objectives\n",
    " and workflow. The open source code for the tool is available at https://github.com/OFBDABV/SBTi, which should allow you\n",
    " to integrate it into your environment and then use as a production tool. A number of commercial data and services providers,\n",
    " such as CDP, Bloomberg, ISS, MSCI, TruCost, Urgentem and Ortec Finance are buidling or are considering providing solutions\n",
    " based on the open-source code or the methodology.\n",
    "\n",
    "This notebook combines text and code to provide a testing environment for your research, to give you and understanding of\n",
    "how the tool can help you analyse companies' and portfolios' temperature scores, to aid your engagement and investment decisions.\n",
    "\n",
    "The notebook is loaded with example data, but you can also use your own data. For your first test, you can simply run the\n",
    "code cells one by one in the current sequence, to get an understanding of how it works.\n",
    "\n",
    "To run the code in a notebook, simply click on a cell and press SHIFT+ENTER or click the black \"Play/Run cell\" button in\n",
    "between the brackets [ ] (hover over it with your mouse) in the upper left hand corner of each code cell.\n",
    "\n",
    "Beware of the order in which you run the cells - if you do not follow the order below, you may run into errors. In that\n",
    "case, start again from the top.\n",
    "\n",
    "If you are not familiar with Notebooks, please refer to [this introduction](https://colab.research.google.com/notebooks/basic_features_overview.ipynb)."
   ],
   "metadata": {
    "collapsed": false,
    "pycharm": {
     "name": "#%% md\n"
    }
   }
  },
  {
   "cell_type": "markdown",
   "source": [
    "# Introduction to temperature scoring and portfolio coverage methods\n",
    "\n",
    "Three methods are currently supported by the [SBTi](https://sciencebasedtargets.org/financial-institutions) for setting\n",
    "targets on scope 3 portfolio emissions: the Sectoral Decarbonization Approach (SDA), the SBT Portfolio Coverage, and the\n",
    "SBT Temperature Scoring. The latter two methods, Portfolio Coverage and Temperature Scoring, require assessing the targets\n",
    "disclosed by the companies within a financial institution's portfolio.\n",
    "\n",
    "Financial institutions may use the portfolio coverage and/or [temperature scoring methods](https://sciencebasedtargets.org/wp-content/uploads/2020/07/Temperature-Scoring-Beta-Methodology.pdf)\n",
    "to set targets for their corporate instruments, including corporate debt, listed equity and bonds, and private equity and\n",
    "debt (See relevant “Required Activities” in Table 5-2 of the [SBTi guidance](https://sciencebasedtargets.org/wp-content/uploads/2020/07/Temperature-Scoring-Beta-Methodology.pdf)\n",
    "to drive adoption of science-based targets).\n",
    "\n",
    "To use the *portfolio coverage method*, financial institutions commit to engaging with their investees to set their own\n",
    "approved science-based targets, such that the financial institution is on a linear path to 100% SBT portfolio coverage by\n",
    "2040. As the fulfillment of portfolio coverage targets mean that investees’ SBTs have been approved by SBTi, the 2040 timeline\n",
    "has been determined to allow companies enough time to implement their target to ultimately achieve an economy-wide transition\n",
    "to net zero by 2050.\n",
    "\n",
    "To use the *temperature scoring method*, financial iinstitutions determine the current temperature score of their portfolio\n",
    "based on the public GHG emission reduction targets of their investees (these targets include SBTs and any other valid public\n",
    "GHG targets that meet the method criteria). Financial institutions set targets to align their base year portfolio temperature\n",
    "score to a long-term temperature goal (e.g. 2°C, well-below 2°C, 1.5°C).\n",
    "The temperature scoring method is an open source framework to enable the translation of corporate GHG emission reduction\n",
    "targets into temperature scores at a target, company, and a portfolio level. The method provides a protocol to enable the\n",
    "aggregation of target level scores to generate a temperature rating for a company based on the ambition of its targets.\n",
    "Finally, the method defines a series of weighting options that can enable financial institutions and others to produce\n",
    "portfolio level temperature ratings."
   ],
   "metadata": {
    "collapsed": false,
    "pycharm": {
     "name": "#%% md\n"
    }
   }
  },
  {
   "cell_type": "markdown",
   "source": [
    "# Why has SBTi built this tool?\n",
    "The SBTi has developed a codebase to function as a calculator for the portfolio coverage and temperature scoring methods.\n",
    "This tool is fed with the necessary data to generate temperature scores at the company and portfolio level, in addition\n",
    "to providing analytics on target setting . The code reflects the logical steps that are outlined in the publicly available\n",
    "[temperature scoring methodology](https://sciencebasedtargets.org/wp-content/uploads/2020/07/Temperature-Scoring-Beta-Methodology.pdf),\n",
    "develped by [CDP](https://www.cdp.net/) and [WWF](https://wwf.panda.org/).\n",
    "\n",
    "The tool was created to enable the widespread implementation of the method by data providers and financial institutions,\n",
    "to work with any data source and in most IT environments. For each method, the tool provides the following outputs:\n",
    "* Portfolio coverage: generate the % of the portfolio currently covered by approved science based targets.\n",
    "* Temperature scoring: generate the base year temperature score of the portfolio (in addition to the individual temperature\n",
    "scores of the portfolio companies). It also enables the generation of a series of what-if scenarios to showcase how this\n",
    "temperature score could be reduced."
   ],
   "metadata": {
    "collapsed": false,
    "pycharm": {
     "name": "#%% md\n"
    }
   }
  },
  {
   "cell_type": "markdown",
   "source": [
    "# What can you use the SBTi-Finance Tool for?\n",
    "\n",
    "As a portfolio manager or analyst, you can use the SBTi-Finance Temperature Scoring and Portfolio Coverage tool for analysing\n",
    "companies, sectors, countries, investment strategies and portfolios to understand how they contribute to climate change.\n",
    "You can for example:\n",
    "* Measure your portfolio's current temperature score\n",
    "* Identify the biggest contributors on an individual company, country and sector basis\n",
    "* Use the tool as an aid for strategic allocation and securities selection\n",
    "* Analyse what effect changes in your portfolio might have on the portfolio  temperature score\n",
    "* Model impact of engagement on your temperature score, that is, how your score could improve if you were able to convince\n",
    "an investee company to participate in setting GHG reduction targets\n",
    "* Identify which company engagements would have the biggest impact on your portfolio's temperature score\n",
    "* Plan engagement strategies based on your modelling\n",
    "* Help you create an action plan for reaching your emission reduction target"
   ],
   "metadata": {
    "collapsed": false,
    "pycharm": {
     "name": "#%% md\n"
    }
   }
  },
  {
   "cell_type": "markdown",
   "source": [
    "# What data do I need to use the tool?\n",
    "The tool itself is data agnostic, and has no built in databases. This means that users must import all needed data to perform\n",
    "the analysis. This can come from a variety of sources, but must be inputted in the required formats. Four types of data are\n",
    "needed to run the calculator. These are described in the table below.\n",
    "\n",
    "## Company identifiers\n",
    "Company name, ISIC (International Standard Industrial Classification) sector classification, and ISIN (if relevant) or other\n",
    "company identifier are required to be fed into the tool.\n",
    "\n",
    "## Corporate GHG targets\n",
    "This refers to the data required to analyse a corporate GHG reduction target, including:\n",
    "* Target types (absolute/intensity)\n",
    "* Base year\n",
    "* Target year\n",
    "* Scope coverage\n",
    "* Boundary coverage within scope\n",
    "* % achieved\n",
    "* Intensity activity (if appliable)\n",
    "\n",
    "## GHG Emission Data\n",
    "Both scope 1+2 and scope 3 emissions data, either reported or modelled.\n",
    "\n",
    "## Portfolio financial data\n",
    "Seven weighting option are currently available to aggregate company scores to produce portfolio scores.\n",
    "Depending on the option chosen, the following data may be required:\n",
    "\n",
    "a. Invested value (holdings)\n",
    "\n",
    "b. Market capitalisation\n",
    "\n",
    "c. Enterprise value\n",
    "\n",
    "d. Enterprise value + cash\n",
    "\n",
    "e. Total assets\n",
    "\n",
    "f. Revenue\n",
    "\n",
    "Refer to the \"data requirements\" at http://getting-started.sbti-tool.org/ for full documentation.\n",
    "Also refer to the full methodology for [temperature scoring](https://sciencebasedtargets.org/wp-content/uploads/2020/07/Temperature-Scoring-Beta-Methodology.pdf)."
   ],
   "metadata": {
    "collapsed": false,
    "pycharm": {
     "name": "#%% md\n"
    }
   }
  },
  {
   "cell_type": "markdown",
   "source": [
    "## Where do I get the data?\n",
    "Commercial data providers such as\n",
    "* Bloomberg\n",
    "* CDP\n",
    "* ISS\n",
    "* MSCI\n",
    "* TrueCost and\n",
    "* Urgentem\n",
    "\n",
    "can provide some or all of the data needed for the SBTi-Finance Tool.\n",
    "\n",
    "There is also a free data set available with target data on SBTi's website. This includes data of all the companies that have set\n",
    "emissions reduction targets that have been approved by SBTi and is updated on a weekly basis. You can download an Excel-file with\n",
    "the data here: https://sciencebasedtargets.org/companies-taking-action/.\n",
    "\n",
    "However, the tool does allow you to also calculate temperature scores for companies that have publicly announced emission reduction\n",
    "targets but that have not had them approved by the SBTi. Commercial data providers such as those mentioned above can provide target\n",
    "data for these companies."
   ],
   "metadata": {
    "collapsed": false,
    "pycharm": {
     "name": "#%% md\n"
    }
   }
  },
  {
   "cell_type": "markdown",
   "source": [
    "# How are temperature scores produced?\n",
    "The methodology consists of four key steps, each requiring specific data points that are inputted at the beginning of the process. These\n",
    "data points are then used to convert the corporate targets into temperature scores at the company and the portfolio level.\n",
    "\n",
    "**Step 1:** The targets are first filtered and if valid are each translated to a specific temperature, based on the relevant regression\n",
    "model. The sector classification of the company is used to ensure that the target is correctly mapped to the appropriate model e.g. a\n",
    "target for power generation must be mapped to the power sector pathway. This process enables the translation of target ambition over a\n",
    "certain target time period into a temperature score. For example, a 30% absolute reduction target over 10 years will be converted into\n",
    "a temperature score of 1.98°C.\n",
    "\n",
    "**Step 2:** GHG emission data is employed to aggregate and target scores to produce a score at the company level.\n",
    "\n",
    "**Step 3:** The company scores are combined with portfolio financial data to generate scores at the portfolio level.\n",
    "\n",
    "**Step 4:** After the initial score calculations, a scenario generator can be used to determine how certain actions can change the\n",
    "temperature score. This can be done by changing your exposure to your holdings in the portfolio import file or by rerunning the\n",
    "calculations using hypothetical scenarios.\n",
    "\n",
    "![TSWorkflow](https://github.com/OFBDABV/SBTi/raw/master/examples/images/JN_DataFlow.png)"
   ],
   "metadata": {
    "collapsed": false,
    "pycharm": {
     "name": "#%% md\n"
    }
   }
  },
  {
   "cell_type": "markdown",
   "source": [
    "# Start your analysis here\n",
    "To start using the tool, run the below cells in order by clicking the \"play\" buttons when you hover over the space in between the\n",
    "brackets [  ] for each cell, as below. We'll show you how to select the various options and to use your own data through this notebook.\n",
    "\n",
    "![PlayButton](https://github.com/OFBDABV/SBTi/raw/master/examples/images/JN_Play.png)\n",
    "\n",
    "Be aware that the session in this notebook is temporary. When you close it or leave it unused for a long period, you need to restart\n",
    "the notebook from the beginning."
   ],
   "metadata": {
    "collapsed": false,
    "pycharm": {
     "name": "#%% md\n"
    }
   }
  },
  {
   "cell_type": "markdown",
   "source": [
    "### Install the SBTi Python module\n",
    "This is only required if you haven't already installed the SBTi module. The next two cells load the required Python packages to use the SBTi tool."
   ],
   "metadata": {
    "collapsed": false
   }
  },
  {
   "cell_type": "code",
   "execution_count": null,
   "outputs": [],
   "source": [
    "# !pip install SBTi\n",
    "!pip install git+git://github.com/OFBDABV/SBTi"
   ],
   "metadata": {
    "collapsed": false,
    "pycharm": {
     "name": "#%%\n"
    }
   }
  },
  {
   "cell_type": "code",
   "execution_count": 1,
   "outputs": [],
   "source": [
    "import SBTi\n",
    "from SBTi.data.excel import ExcelProvider\n",
    "from SBTi.portfolio_aggregation import PortfolioAggregationMethod\n",
    "from SBTi.portfolio_coverage_tvp import PortfolioCoverageTVP\n",
    "from SBTi.temperature_score import TemperatureScore, Scenario, ScenarioType, EngagementType\n",
    "from SBTi.interfaces import ETimeFrames, EScope\n",
    "import pandas as pd\n",
    "%matplotlib inline"
   ],
   "metadata": {
    "collapsed": false,
    "pycharm": {
     "name": "#%%\n"
    }
   }
  },
  {
   "cell_type": "markdown",
   "source": [
    "### Download resources for Google Colab environment\n",
    "This is only required if you are using Google Colab. Otherwise, just skip this section.\n",
    "The following cell retrieves the example data and plotting functionality and places it in this Google Colab environment, so that it\n",
    "can be used further on to show the tool's options.\n",
    "The data_provider_example contains the fundamental (emissions and financial) and target data, while the example_portfolio contains\n",
    "the list of companies with identifiers and investment values. Later on you can choose to use your own data instead."
   ],
   "metadata": {
    "collapsed": false
   }
  },
  {
   "cell_type": "code",
   "execution_count": 2,
   "outputs": [],
   "source": [
    "import urllib.request\n",
    "import os\n",
    "\n",
    "if not os.path.isdir(\"data\"):\n",
    "    os.mkdir(\"data\")\n",
    "if not os.path.isfile(\"data/data_provider_example.xlsx\"):\n",
    "    urllib.request.urlretrieve(\"https://github.com/OFBDABV/SBTi/raw/master/examples/data/data_provider_example.xlsx\", \"data/data_provider_example.xlsx\")\n",
    "if not os.path.isfile(\"data/example_portfolio.csv\"):\n",
    "    urllib.request.urlretrieve(\"https://github.com/OFBDABV/SBTi/raw/master/examples/example_portfolio.csv\", \"data/example_portfolio.csv\")\n",
    "if not os.path.isfile(\"utils.py\"):\n",
    "    urllib.request.urlretrieve(\"https://github.com/OFBDABV/SBTi/raw/master/examples/utils.py\", \"utils.py\")\n",
    "try:  # Import statement when run in Google Colabs\n",
    "    from utils import collect_company_contributions, plot_grouped_statistics, anonymize, print_aggregations, \\\n",
    "        plot_grouped_heatmap, print_scenario_gain, print_grouped_scores, get_contributions_per_group\n",
    "except:  # Import statement when run locally\n",
    "    from examples.utils import collect_company_contributions, plot_grouped_statistics, anonymize, print_aggregations, \\\n",
    "        plot_grouped_heatmap, print_scenario_gain, print_grouped_scores, get_contributions_per_group"
   ],
   "metadata": {
    "collapsed": false,
    "pycharm": {
     "name": "#%%\n"
    }
   }
  },
  {
   "cell_type": "markdown",
   "source": [
    "#### Logging\n",
    "The following cell initialises the Python standard library logging utilities. The SBTi module makes use of these utilities\n",
    "to send log messages on warnings or errors that can arise during use of the module, which help the user to pinpoint\n",
    "potential mistakes. The log level can be changed according to the users needs."
   ],
   "metadata": {
    "collapsed": false,
    "pycharm": {
     "name": "#%% md\n"
    }
   }
  },
  {
   "cell_type": "code",
   "execution_count": 3,
   "outputs": [],
   "source": [
    "import logging\n",
    "root_logger = logging.getLogger()\n",
    "root_logger.setLevel(\"INFO\")"
   ],
   "metadata": {
    "collapsed": false,
    "pycharm": {
     "name": "#%%\n"
    }
   }
  },
  {
   "cell_type": "markdown",
   "source": [
    "### Create a data provider\n",
    "By running the following cell, you load our example data. If you want to score your own portfolio, this is where you can upload data\n",
    "from your data provider or your own data lake. Please refer to the \"Data requirements\" at http://getting-started.sbti-tool.org/ for a\n",
    "full description of the data and formats needed.\n",
    "\n",
    "By specifying a data provider, you can connect to the data source of your choice, e.g. CDP, Urgentem, your own data lake, etc. In this\n",
    "example, the provider data is located in an Excel file.\n",
    "Per default we use the example data downloaded in the previous step.\n",
    "To replace the example data with your own data, first place your file in the data folder:\n",
    "- When using Google Colab: click the folder logo in the left pane; hover your mouse of the 'data' folder; click the three dots; click upload; select your file.\n",
    "- When running this notebook locally: place your file in the 'data' folder that is located in the same directory as this notebook.\n",
    "\n",
    "Next, change the file location between the quotes below: replace 'data_provider_example' with your_filename (don't remove the double quotes in the cell below)."
   ],
   "metadata": {
    "collapsed": false
   }
  },
  {
   "cell_type": "code",
   "execution_count": 4,
   "outputs": [],
   "source": [
    "provider = ExcelProvider(path=\"data/data_provider_example.xlsx\")"
   ],
   "metadata": {
    "collapsed": false,
    "pycharm": {
     "name": "#%%\n"
    }
   }
  },
  {
   "cell_type": "markdown",
   "source": [
    "### Load your portfolio\n",
    "In this example, the portfolio data is stored as a CSV file. If you wish to replace the portfolio file with your own portfolio file,\n",
    "your CSV file should at least have a \"company_id\" column (the identifier of the company) and a \"investment value\" column (the amount\n",
    "of money invested in each of the companies in your portfolio e.g. the value of the shares you hold). Please refer to the\n",
    "\"Data requirements\" at http://getting-started.sbti-tool.org/ for a full description of the data and formats needed.\n",
    "To change the portfolio file, follow the same steps as for the data provider, described above.\n",
    "Next, change the file location between the quotes below: replace '`example_portfolio`' with your_filename (don't remove the double quotes in the cell below)."
   ],
   "metadata": {
    "collapsed": false
   }
  },
  {
   "cell_type": "code",
   "execution_count": 5,
   "outputs": [],
   "source": [
    "portfolio = pd.read_csv(\"example_portfolio.csv\", encoding=\"iso-8859-1\")"
   ],
   "metadata": {
    "collapsed": false,
    "pycharm": {
     "name": "#%%\n"
    }
   }
  },
  {
   "cell_type": "markdown",
   "source": [
    "The next cell displays the first 5 rows of data in your file."
   ],
   "metadata": {
    "collapsed": false,
    "pycharm": {
     "name": "#%% md\n"
    }
   }
  },
  {
   "cell_type": "code",
   "execution_count": 6,
   "outputs": [
    {
     "data": {
      "text/plain": "                  company_name    company_id  company_isin weights  \\\n0  Advanced Micro Devices, Inc  US0079031078  US0079031078   6.36%   \n1           Adobe Systems Inc.  US00724F1012  US00724F1012   1.82%   \n2              Capgemini Group  FR0000125338  FR0000125338   1.82%   \n3          Cisco Systems, Inc.  US17275R1023  US17275R1023   1.82%   \n4             Coca-Cola HBC AG  CH0198251305  CH0198251305   1.82%   \n\n   investment_value  engagement_target  \n0          35000000                1.0  \n1          10000000                NaN  \n2          10000000                NaN  \n3          10000000                NaN  \n4          10000000                NaN  ",
      "text/html": "<div>\n<style scoped>\n    .dataframe tbody tr th:only-of-type {\n        vertical-align: middle;\n    }\n\n    .dataframe tbody tr th {\n        vertical-align: top;\n    }\n\n    .dataframe thead th {\n        text-align: right;\n    }\n</style>\n<table border=\"1\" class=\"dataframe\">\n  <thead>\n    <tr style=\"text-align: right;\">\n      <th></th>\n      <th>company_name</th>\n      <th>company_id</th>\n      <th>company_isin</th>\n      <th>weights</th>\n      <th>investment_value</th>\n      <th>engagement_target</th>\n    </tr>\n  </thead>\n  <tbody>\n    <tr>\n      <th>0</th>\n      <td>Advanced Micro Devices, Inc</td>\n      <td>US0079031078</td>\n      <td>US0079031078</td>\n      <td>6.36%</td>\n      <td>35000000</td>\n      <td>1.0</td>\n    </tr>\n    <tr>\n      <th>1</th>\n      <td>Adobe Systems Inc.</td>\n      <td>US00724F1012</td>\n      <td>US00724F1012</td>\n      <td>1.82%</td>\n      <td>10000000</td>\n      <td>NaN</td>\n    </tr>\n    <tr>\n      <th>2</th>\n      <td>Capgemini Group</td>\n      <td>FR0000125338</td>\n      <td>FR0000125338</td>\n      <td>1.82%</td>\n      <td>10000000</td>\n      <td>NaN</td>\n    </tr>\n    <tr>\n      <th>3</th>\n      <td>Cisco Systems, Inc.</td>\n      <td>US17275R1023</td>\n      <td>US17275R1023</td>\n      <td>1.82%</td>\n      <td>10000000</td>\n      <td>NaN</td>\n    </tr>\n    <tr>\n      <th>4</th>\n      <td>Coca-Cola HBC AG</td>\n      <td>CH0198251305</td>\n      <td>CH0198251305</td>\n      <td>1.82%</td>\n      <td>10000000</td>\n      <td>NaN</td>\n    </tr>\n  </tbody>\n</table>\n</div>"
     },
     "execution_count": 6,
     "metadata": {},
     "output_type": "execute_result"
    }
   ],
   "source": [
    "portfolio.head(5)"
   ],
   "metadata": {
    "collapsed": false,
    "pycharm": {
     "name": "#%%\n"
    }
   }
  },
  {
   "cell_type": "markdown",
   "source": [
    "To load the data from the data provider, we need to convert the data of the portfolio."
   ],
   "metadata": {
    "collapsed": false
   }
  },
  {
   "cell_type": "code",
   "execution_count": 6,
   "outputs": [],
   "source": [
    "companies = SBTi.utils.dataframe_to_portfolio(portfolio)"
   ],
   "metadata": {
    "collapsed": false,
    "pycharm": {
     "name": "#%%\n"
    }
   }
  },
  {
   "cell_type": "markdown",
   "source": [
    "# How to convert a target to a temperature?\n",
    "The target protocol represents the first step of the process, which is to convert individual targets of various formats into temperature scores.\n",
    "This is achieved by generating simple regression models for estimated warming in 2100 from climate scenarios with short, medium, and long-term\n",
    "trends in metrics like absolute emissions or emissions intensities. Regression models are generated based on scenarios in the IPCC Special\n",
    "Report on 1.5°C scenario database **(link to the report)**. In addition to defining methods for disclosed targets, this step outlines the\n",
    "methodology used to define a default score to be applied to all non-disclosing companies.\n",
    "\n",
    "This stage will map the targets to the existing regression models, which uses the ISIC sector classification to link to target to the\n",
    "appropriate regression model. For example, a company in the power sector with an intensity target using a per MWh activity would be\n",
    "mapped to the power generation temperature pathway. The table below summarises the ISIC classifications and how the targets are mapped\n",
    "to regression models.\n",
    "**[Insert final regression table]**"
   ],
   "metadata": {
    "collapsed": false
   }
  },
  {
   "cell_type": "markdown",
   "source": [
    "# Step 1 & 2: Aggregate multiple company targets to produce company score\n",
    "Since companies often have multiple climate targets, covering different scopes and timeframes, a protocol is then used to\n",
    "aggregate all target data into scores at a company level. This protocol defines the minimum quality criteria for determining\n",
    "the acceptability of a target to be scored and the steps required to identify and aggregate multiple targets to produce an\n",
    "overall company score. Scores are produced for both scope 1+2 and for scope 3, over 3 timeframes (short, mid, long-term).\n",
    "Hence the scope coverage and the target year of the targets is necessary to accurately classify these targets. The below\n",
    "figure shows how targets are currently split by scope and timeframe.\n",
    "\n",
    "![ScopesTimeframes](https://github.com/OFBDABV/SBTi/raw/master/examples/images/JN_CompanyAggregation.png)"
   ],
   "metadata": {
    "collapsed": false,
    "pycharm": {
     "name": "#%% md\n"
    }
   }
  },
  {
   "cell_type": "markdown",
   "source": [
    "# Scope Classification\n",
    "The targets are first sorted by scope. The table below provides examples of how these targets are classified into either\n",
    "scope 1+2 or scope 3. For combined targets (scope 1+2+3) where the underlying composition is not clear (i.e. the % scope\n",
    "coverage), the ambition is applied only to the scope 1+2 portion, and the if no details on scope 3 coverage are provided,\n",
    "the scope 3 portion would receive the default score.\n",
    "\n",
    "![ScopeClassification](https://github.com/OFBDABV/SBTi/raw/master/examples/images/JN_Scopes.png)"
   ],
   "metadata": {
    "collapsed": false,
    "pycharm": {
     "name": "#%% md\n"
    }
   }
  },
  {
   "cell_type": "markdown",
   "source": [
    "## Timeframe\n",
    "The targets are the sorted by timeframe.\n",
    "\n",
    "* SHORT: targets shorter than 5 years\n",
    "* MID: targets between 5 and 15 years\n",
    "* LONG: targets longer than 15 years"
   ],
   "metadata": {
    "collapsed": false,
    "pycharm": {
     "name": "#%% md\n"
    }
   }
  },
  {
   "cell_type": "markdown",
   "source": [
    "## Scope Coverage\n",
    "The scope coverage determines the amount of emissions in the scope that are covered by the target. For scope 1+2 targets, all targets that are greater than 95% coverage are valid, no further revision needs to be undertaken. The ambition of the target is however, normalised to the relative boundary coverage of the target. For all scope 1+2 targets under 95% coverage, and scope 3 targets under 67% coverage, the ambition of the target is therefore linked to the coverage. This means an ambitious target covering only a small portion of the scope emissions would be weighted lower as a result of the reduced coverage. The temperature score for the scope is computed using the following equation, where TS is temperature score:\n",
    "\n",
    "`Scope TS = (% emissions in scope covered by target) x (target TS)`"
   ],
   "metadata": {
    "collapsed": false,
    "pycharm": {
     "name": "#%% md\n"
    }
   }
  },
  {
   "cell_type": "markdown",
   "source": [
    "## Company Temperature Scores\n",
    "One representative score is produced for each of the following six options, displayed in the table below.\n",
    "\n",
    "In cases where more than one target is disclosed for a given scope, or timeframe e.g. two midterm targets covering scope 1+2, multiple scores per category would be produced. To generate just one representative score per category, a series of filtering steps is performed:\n",
    "\n",
    "For all companies with one valid target in each scope and timeframe, generate the 6 scores per company. For companies who do not report, for example a scope 3 target, they receive a default score. For companies with no valid targets, all 6 entries would receive default score (see below). The 6 entries are combined to produce an overall scope 1+2+3 score using the most recent reported GHG weighting of the company.\n",
    "\n",
    "![ScopeTimeframeTable](https://github.com/OFBDABV/SBTi/raw/master/examples/images/JN_CompanyTS.PNG)"
   ],
   "metadata": {
    "collapsed": false,
    "pycharm": {
     "name": "#%% md\n"
    }
   }
  },
  {
   "cell_type": "markdown",
   "source": [
    "## Default Score\n",
    "For companies who do not have valid targets, or if they do not have sufficient information covering a particular scope or timeframe, a default score is applied. The temperature rating methodology will use a 3.2°C value as an interim solution to derive temperature scores for companies with no forward-looking targets. This implies that these companies are expected to decarbonise along a 3.2°C pathway, consistent with global policies implemented to ensure reduction of emissions at this rate. The tool enables users to choose their own default score at the following temperatures: 3.2°C, 3.9°C or 4.5°C."
   ],
   "metadata": {
    "collapsed": false,
    "pycharm": {
     "name": "#%% md\n"
    }
   }
  },
  {
   "cell_type": "markdown",
   "source": [
    "### Calculate the company temperature scores\n",
    "The temperature score is calculated via the following steps:\n",
    "* Target validation protocol: Here all targets are sorted by time frame and scope per company. For each combination a 'best' target is chosen.\n",
    "* Mapping: Each target is mapped to a regression model based on the type of target (absolute vs. intensity), the company ISIC, the intensity metric (for intensity based targets) and the scope.\n",
    "* Calculation: The mapped regression model returns a linear function to calculate the temperature score based on the linear annual reduction (LAR) of the ambition. TS = intersect + slope * LAR.\n",
    "For example, the formula of the Kyoto Gases regression is TS = 2.7 + (-0.31) * LAR.\n",
    "\n",
    "In the amended portfolio you'll find your original portfolio, amended with the emissions and the temperature score.\n",
    "\n",
    "The temperature scores can be computed for different scopes and different timeframes.\n",
    "More information on scopes and timeframes can be found on the SBTi website.\n",
    "\n",
    "The timeframe options are SHORT, MID and LONG-term and can be implemented through the ETimeFrames object, in the code below. For example, you can add the SHORT timeframe by replacing the first line of the following cell by:\n",
    "`time_frames = [ETimeFrames.SHORT, ETimeFrames.MID]`\n",
    "\n",
    "The scope options are S1, S2, S1S2, S3 and S1S2S3 and can be implemented using the EScope object. For example, you can add the S3 scope by replacing the second line of the following cell by:\n",
    "`scopes = [EScope.S1S2, EScope.S3, EScope.S1S2S3]`\n",
    "\n",
    "* S1: scope 1\n",
    "* S2: scope 2\n",
    "* S2: scope 3\n",
    "\n",
    "Finally, the default temperature score can be specified by assigning the value 3.2, 3.9 or 4.5 on the third line in the following cell.\n",
    "\n",
    "In this example, we use the mid-term timeframe and the S1S2 & S1S2S3 scopes to calculate the aggregated company temperature scores. The default temperature score is 3.2.\n",
    "\n",
    "For more information about all fields shown in the output, please refer to the Legend at http://getting-started.sbti-tool.org."
   ],
   "metadata": {
    "collapsed": false,
    "pycharm": {
     "name": "#%% md\n"
    }
   }
  },
  {
   "cell_type": "code",
   "execution_count": 7,
   "outputs": [
    {
     "data": {
      "text/plain": "   achieved_reduction  base_year  base_year_ghg_s1  base_year_ghg_s2  \\\n0                0.74     2013.0               0.0               0.0   \n2                 NaN        NaN               NaN               NaN   \n3                0.50     2015.0            1558.0           13333.0   \n5                 NaN        NaN               NaN               NaN   \n6                 NaN        NaN               NaN               NaN   \n\n   base_year_ghg_s3    company_id  coverage_s1  coverage_s2  coverage_s3  \\\n0               NaN  US0079031078     0.860000     0.860000          NaN   \n2               NaN  US0079031078          NaN          NaN          NaN   \n3            1350.0  US00724F1012     0.895373     0.895373          NaN   \n5               NaN  US00724F1012          NaN          NaN          NaN   \n6               NaN  FR0000125338          NaN          NaN          NaN   \n\n   end_year  ... annual_reduction_rate    slope samplesize  model  \\\n0    2030.0  ...              0.027785  slope15        128      4   \n2       NaN  ...                   NaN  slope15        128      4   \n3    2030.0  ...              0.032559  slope15        128      4   \n5       NaN  ...                   NaN  slope15        128      4   \n6       NaN  ...                   NaN  slope15        128      4   \n\n                variable     param intercept        r2  temperature_score  \\\n0  Emissions|Kyoto Gases -0.312329  2.697261  0.829523               1.83   \n2  Emissions|Kyoto Gases -0.312329  2.697261  0.829523               2.83   \n3        INT.emKyoto_gdp -0.533878  4.107377  0.826692               2.37   \n5  Emissions|Kyoto Gases -0.312329  2.697261  0.829523               2.20   \n6  Emissions|Kyoto Gases -0.312329  2.697261  0.829523               3.20   \n\n   temperature_results  \n0             0.000000  \n2             0.727326  \n3             0.000000  \n5             0.000000  \n6             1.000000  \n\n[5 rows x 47 columns]",
      "text/html": "<div>\n<style scoped>\n    .dataframe tbody tr th:only-of-type {\n        vertical-align: middle;\n    }\n\n    .dataframe tbody tr th {\n        vertical-align: top;\n    }\n\n    .dataframe thead th {\n        text-align: right;\n    }\n</style>\n<table border=\"1\" class=\"dataframe\">\n  <thead>\n    <tr style=\"text-align: right;\">\n      <th></th>\n      <th>achieved_reduction</th>\n      <th>base_year</th>\n      <th>base_year_ghg_s1</th>\n      <th>base_year_ghg_s2</th>\n      <th>base_year_ghg_s3</th>\n      <th>company_id</th>\n      <th>coverage_s1</th>\n      <th>coverage_s2</th>\n      <th>coverage_s3</th>\n      <th>end_year</th>\n      <th>...</th>\n      <th>annual_reduction_rate</th>\n      <th>slope</th>\n      <th>samplesize</th>\n      <th>model</th>\n      <th>variable</th>\n      <th>param</th>\n      <th>intercept</th>\n      <th>r2</th>\n      <th>temperature_score</th>\n      <th>temperature_results</th>\n    </tr>\n  </thead>\n  <tbody>\n    <tr>\n      <th>0</th>\n      <td>0.74</td>\n      <td>2013.0</td>\n      <td>0.0</td>\n      <td>0.0</td>\n      <td>NaN</td>\n      <td>US0079031078</td>\n      <td>0.860000</td>\n      <td>0.860000</td>\n      <td>NaN</td>\n      <td>2030.0</td>\n      <td>...</td>\n      <td>0.027785</td>\n      <td>slope15</td>\n      <td>128</td>\n      <td>4</td>\n      <td>Emissions|Kyoto Gases</td>\n      <td>-0.312329</td>\n      <td>2.697261</td>\n      <td>0.829523</td>\n      <td>1.83</td>\n      <td>0.000000</td>\n    </tr>\n    <tr>\n      <th>2</th>\n      <td>NaN</td>\n      <td>NaN</td>\n      <td>NaN</td>\n      <td>NaN</td>\n      <td>NaN</td>\n      <td>US0079031078</td>\n      <td>NaN</td>\n      <td>NaN</td>\n      <td>NaN</td>\n      <td>NaN</td>\n      <td>...</td>\n      <td>NaN</td>\n      <td>slope15</td>\n      <td>128</td>\n      <td>4</td>\n      <td>Emissions|Kyoto Gases</td>\n      <td>-0.312329</td>\n      <td>2.697261</td>\n      <td>0.829523</td>\n      <td>2.83</td>\n      <td>0.727326</td>\n    </tr>\n    <tr>\n      <th>3</th>\n      <td>0.50</td>\n      <td>2015.0</td>\n      <td>1558.0</td>\n      <td>13333.0</td>\n      <td>1350.0</td>\n      <td>US00724F1012</td>\n      <td>0.895373</td>\n      <td>0.895373</td>\n      <td>NaN</td>\n      <td>2030.0</td>\n      <td>...</td>\n      <td>0.032559</td>\n      <td>slope15</td>\n      <td>128</td>\n      <td>4</td>\n      <td>INT.emKyoto_gdp</td>\n      <td>-0.533878</td>\n      <td>4.107377</td>\n      <td>0.826692</td>\n      <td>2.37</td>\n      <td>0.000000</td>\n    </tr>\n    <tr>\n      <th>5</th>\n      <td>NaN</td>\n      <td>NaN</td>\n      <td>NaN</td>\n      <td>NaN</td>\n      <td>NaN</td>\n      <td>US00724F1012</td>\n      <td>NaN</td>\n      <td>NaN</td>\n      <td>NaN</td>\n      <td>NaN</td>\n      <td>...</td>\n      <td>NaN</td>\n      <td>slope15</td>\n      <td>128</td>\n      <td>4</td>\n      <td>Emissions|Kyoto Gases</td>\n      <td>-0.312329</td>\n      <td>2.697261</td>\n      <td>0.829523</td>\n      <td>2.20</td>\n      <td>0.000000</td>\n    </tr>\n    <tr>\n      <th>6</th>\n      <td>NaN</td>\n      <td>NaN</td>\n      <td>NaN</td>\n      <td>NaN</td>\n      <td>NaN</td>\n      <td>FR0000125338</td>\n      <td>NaN</td>\n      <td>NaN</td>\n      <td>NaN</td>\n      <td>NaN</td>\n      <td>...</td>\n      <td>NaN</td>\n      <td>slope15</td>\n      <td>128</td>\n      <td>4</td>\n      <td>Emissions|Kyoto Gases</td>\n      <td>-0.312329</td>\n      <td>2.697261</td>\n      <td>0.829523</td>\n      <td>3.20</td>\n      <td>1.000000</td>\n    </tr>\n  </tbody>\n</table>\n<p>5 rows × 47 columns</p>\n</div>"
     },
     "execution_count": 7,
     "metadata": {},
     "output_type": "execute_result"
    }
   ],
   "source": [
    "time_frames = [ETimeFrames.MID]\n",
    "scopes = [EScope.S1S2, EScope.S1S2S3]\n",
    "fallback_score = 3.2\n",
    "\n",
    "temperature_score = TemperatureScore(\n",
    "    time_frames=time_frames,\n",
    "    scopes=scopes,\n",
    "    fallback_score=fallback_score\n",
    ")\n",
    "amended_portfolio = temperature_score.calculate(data_providers=[provider], portfolio=companies)\n",
    "amended_portfolio.head()"
   ],
   "metadata": {
    "collapsed": false,
    "pycharm": {
     "name": "#%%\n"
    }
   }
  },
  {
   "cell_type": "markdown",
   "source": [
    "# Step 3: Calculate a portfolio level temperature score\n",
    "This step generates the results at the portfolio level for both the portfolio coverage and the temperature scoring method. Seven portfolio weighting options currently exist:\n",
    "\n",
    "* Option 1: Weighted average temperature score (WATS)\n",
    "* Option 2: Total emissions weighted temperature score (TETS)\n",
    "* Option 3: Market Owned emissions weighted temperature score (MOTS)\n",
    "* Option 4: Enterprise Owned emissions weighted temperature score (EOTS).\n",
    "* Option 5: EV + Cash emissions weighted temperature score (ECOTS)\n",
    "* Option 6: Total Assets emissions weighted temperature score (AOTS)\n",
    "* Option 7: Revenue owned emissions weighted temperature score (ROTS)\n",
    "\n",
    "Please see Section 3 of the [temperature scoring methodology](https://sciencebasedtargets.org/wp-content/uploads/2020/07/Temperature-Scoring-Beta-Methodology.pdf) for further details of the weighting calculation steps.\n",
    "\n",
    "The financial information imported through the in the data_provider_example.xlxs at the start of this process is used to weight the individual companies in a portfolio. For example, the EOTS, uses the portfolio invested value as a portion of the company’s enterprise value to weight the company’s temperature score. The scores at the company level are aggregated for both scope 1+2, and for scope 1+2+3, generating two portfolio scores for the selected time period.\n",
    "\n",
    "For analysing SBT Portfolio Coverage, the tool also displays the percentage of SBTi approved companies on the portfolio based on the same weighting approach.\n",
    "\n",
    "In this example we use the \"Weighted Average Temperature Score\". For more details on how to use the various weighting options in the notebook, have a look at notebook 3 (\"3_portfolio_aggregations.ipynb\" in the examples folder in [GitHub](https://github.com/OFBDABV/SBTi)). The temperature scores are calculated per time-frame/scope combination.\n",
    "\n",
    "To change the aggregation method, replace the extension \"`WATS`\" in `PortfolioAggregationMethod.WATS` (the first line) with the abbreviation of the desired aggregation method, e.g. ECOTS, from the list of aggregation options above.\n",
    "The output displays the portfolio temperature score for the time frame and the scopes you have selected."
   ],
   "metadata": {
    "collapsed": false
   }
  },
  {
   "cell_type": "code",
   "execution_count": 8,
   "outputs": [
    {
     "name": "stdout",
     "output_type": "stream",
     "text": [
      "mid - S1S2: 2.55 degrees Celcius\n",
      "mid - S1S2S3: 2.82 degrees Celcius\n"
     ]
    }
   ],
   "source": [
    "temperature_score.aggregation_method = PortfolioAggregationMethod.WATS\n",
    "aggregated_portfolio = temperature_score.aggregate_scores(amended_portfolio)\n",
    "print_aggregations(aggregated_portfolio)"
   ],
   "metadata": {
    "collapsed": false,
    "pycharm": {
     "name": "#%%\n"
    }
   }
  },
  {
   "cell_type": "markdown",
   "source": [
    "# Portfolio coverage\n",
    "\n",
    "The portfolio coverage gives insights in the coverage of portfolio entities that have set GHG emissions reduction targets, STBi-validated or otherwise. Companies with SBTi status Approved have a score of 100%, all others have a score of 0%.\n",
    "The aggregation method used for the portfolio coverage is the same as for the temperature score. If you want to change that you can do so in the previous section."
   ],
   "metadata": {
    "collapsed": false,
    "pycharm": {
     "name": "#%% md\n"
    }
   }
  },
  {
   "cell_type": "code",
   "execution_count": null,
   "outputs": [],
   "source": [
    "portfolio_coverage_tvp = PortfolioCoverageTVP()\n",
    "coverage = portfolio_coverage_tvp.get_portfolio_coverage(amended_portfolio.copy(), temperature_score.aggregation_method)\n",
    "print(\"Part of portfolio with climate targets is {c:.2f}%\".format(c=coverage))"
   ],
   "metadata": {
    "collapsed": false,
    "pycharm": {
     "name": "#%%\n"
    }
   }
  },
  {
   "cell_type": "markdown",
   "source": [
    "# Step 4: How can I improve my portfolio's temperature score?\n",
    "\n",
    "The final step can be used to get insight into the effect your action can have on your temperature score. This can be done by first analysing for example the current hotspots and contributors to the portfolio and sector TS (temperature score).\n",
    "\n",
    "Finally you can also model changes the impact of changes in exposure of your holdings in the portfolio by rerunning the calculations using various scenarios. These scenarios give you an insight to how your score will be affected by certain engagement actions.\n",
    "\n",
    "A total of 6 ready made scenarios can be employed to test strategies for reducing the current temperature score in the last example of this section."
   ],
   "metadata": {
    "collapsed": false,
    "pycharm": {
     "name": "#%% md\n"
    }
   }
  },
  {
   "cell_type": "markdown",
   "source": [
    "## Analysing hotspots\n",
    "The first analysis of your portfolio could be to understand if you have any particular hotspots in your portfolio. We can do that by analysing different groupings of companies.\n",
    "\n",
    "The tool allows you to calculate temperature scores for _groups_ of companies. In this example we group the scores by sector and region, and leave the timeframe and scope unchanged. Any categorical variable in the data provided by you or your data provider (in the `Data_Provider_Example.xlsx` imported above) can be used as grouping variable, e.g. sectors, industries, regions, countries, market cap buckets, as well as the additional fields you imported via the portfolio data.\n",
    "\n",
    "You can change the variable by which the data is grouped by replacing the fourth line in the following cell. For example, replacing \"grouping=['sector', 'region']\" by \"grouping=['sector', 'country']\" would result in temperature scores per sector per country."
   ],
   "metadata": {
    "collapsed": false,
    "pycharm": {
     "name": "#%% md\n"
    }
   }
  },
  {
   "cell_type": "code",
   "execution_count": 9,
   "outputs": [],
   "source": [
    "grouping = ['sector', 'region']\n",
    "temperature_score = TemperatureScore(\n",
    "    time_frames=time_frames,\n",
    "    scopes=scopes,\n",
    "    grouping=grouping\n",
    ")\n",
    "grouped_portfolio = temperature_score.calculate(data_providers=[provider], portfolio=companies)\n",
    "grouped_aggregations = temperature_score.aggregate_scores(grouped_portfolio)"
   ],
   "metadata": {
    "collapsed": false,
    "pycharm": {
     "name": "#%%\n"
    }
   }
  },
  {
   "cell_type": "markdown",
   "source": [
    "The aggregated scores can then be used, for example, to show the relation between sectors and regions with respect to temperature score.\n",
    "A visualization of this relation is shown in the heatmap below. The grey fields indicate that the portfolio contains no assest for those combinations.\n",
    "\n",
    "### Quick analysis\n",
    "We can see here that our North American (NA) Health Care, Asian Consumer discretionary, and NA and European IT are in reasonable shape,\n",
    "but that we have many sectors across the globe that have a large number of companies with default scores, where we need to engage\n",
    "and influence these companies to set targets. We need to run some more detailed analysis to identify which sectors and companies\n",
    "are the best candidates for our engagement."
   ],
   "metadata": {
    "collapsed": false,
    "pycharm": {
     "name": "#%% md\n"
    }
   }
  },
  {
   "cell_type": "code",
   "execution_count": 10,
   "outputs": [
    {
     "data": {
      "text/plain": "<Figure size 712.8x288 with 2 Axes>",
      "image/png": "[encoded data removed]"
     },
     "metadata": {
      "needs_background": "light"
     },
     "output_type": "display_data"
    }
   ],
   "source": [
    "analysis_parameters = ([ETimeFrames.MID], [EScope.S1S2], grouping)\n",
    "plot_grouped_heatmap(grouped_aggregations, analysis_parameters)"
   ],
   "metadata": {
    "collapsed": false,
    "pycharm": {
     "name": "#%%\n"
    }
   }
  },
  {
   "cell_type": "markdown",
   "source": [
    "For example, we see that the Industrials in Asia perform worse than their counterparts in North America and Europe. We can zoom\n",
    "in on the companies in this group and their relative contributions to the group's temperature score."
   ],
   "metadata": {
    "collapsed": false,
    "pycharm": {
     "name": "#%% md\n"
    }
   }
  },
  {
   "cell_type": "code",
   "execution_count": 53,
   "outputs": [
    {
     "data": {
      "text/plain": "<pandas.io.formats.style.Styler at 0x26fd45a39e8>",
      "text/html": "<style  type=\"text/css\" >\n</style><table id=\"T_9aff72de_f762_11ea_a3fb_f48c504402bf\" ><thead>    <tr>        <th class=\"col_heading level0 col0\" >group</th>        <th class=\"col_heading level0 col1\" >company_name</th>        <th class=\"col_heading level0 col2\" >company_id</th>        <th class=\"col_heading level0 col3\" >temperature_score</th>        <th class=\"col_heading level0 col4\" >contribution_relative</th>    </tr></thead><tbody>\n                <tr>\n                                <td id=\"T_9aff72de_f762_11ea_a3fb_f48c504402bfrow0_col0\" class=\"data row0 col0\" >Industrials-Asia</td>\n                        <td id=\"T_9aff72de_f762_11ea_a3fb_f48c504402bfrow0_col1\" class=\"data row0 col1\" >SUMITOMO CHEMICAL Co., Ltd.</td>\n                        <td id=\"T_9aff72de_f762_11ea_a3fb_f48c504402bfrow0_col2\" class=\"data row0 col2\" >JP3401400001</td>\n                        <td id=\"T_9aff72de_f762_11ea_a3fb_f48c504402bfrow0_col3\" class=\"data row0 col3\" >3.200000</td>\n                        <td id=\"T_9aff72de_f762_11ea_a3fb_f48c504402bfrow0_col4\" class=\"data row0 col4\" >33.333333</td>\n            </tr>\n            <tr>\n                                <td id=\"T_9aff72de_f762_11ea_a3fb_f48c504402bfrow1_col0\" class=\"data row1 col0\" >Industrials-Asia</td>\n                        <td id=\"T_9aff72de_f762_11ea_a3fb_f48c504402bfrow1_col1\" class=\"data row1 col1\" >Company G</td>\n                        <td id=\"T_9aff72de_f762_11ea_a3fb_f48c504402bfrow1_col2\" class=\"data row1 col2\" >CN0000000007</td>\n                        <td id=\"T_9aff72de_f762_11ea_a3fb_f48c504402bfrow1_col3\" class=\"data row1 col3\" >3.200000</td>\n                        <td id=\"T_9aff72de_f762_11ea_a3fb_f48c504402bfrow1_col4\" class=\"data row1 col4\" >33.333333</td>\n            </tr>\n            <tr>\n                                <td id=\"T_9aff72de_f762_11ea_a3fb_f48c504402bfrow2_col0\" class=\"data row2 col0\" >Industrials-Asia</td>\n                        <td id=\"T_9aff72de_f762_11ea_a3fb_f48c504402bfrow2_col1\" class=\"data row2 col1\" >Company AE</td>\n                        <td id=\"T_9aff72de_f762_11ea_a3fb_f48c504402bfrow2_col2\" class=\"data row2 col2\" >TH0000000031</td>\n                        <td id=\"T_9aff72de_f762_11ea_a3fb_f48c504402bfrow2_col3\" class=\"data row2 col3\" >3.200000</td>\n                        <td id=\"T_9aff72de_f762_11ea_a3fb_f48c504402bfrow2_col4\" class=\"data row2 col4\" >33.333333</td>\n            </tr>\n    </tbody></table>"
     },
     "execution_count": 53,
     "metadata": {},
     "output_type": "execute_result"
    }
   ],
   "source": [
    "region =  'Asia'\n",
    "sector = 'Industrials'\n",
    "group = sector + '-' + region\n",
    "group_contributions = get_contributions_per_group(grouped_aggregations, analysis_parameters, group)\n",
    "group_contributions.style.hide_index()"
   ],
   "metadata": {
    "collapsed": false,
    "pycharm": {
     "name": "#%%\n"
    }
   }
  },
  {
   "cell_type": "markdown",
   "source": [
    "## Sector analysis\n",
    "Sector analysis may help us with bringing some clarity into our analysis from the heatmap above. In order to identify the companies that your portfolio would most benefit from engaging with, we can start with identifying the biggest contributing sectors to the portfolio's temperature score, as in our example below.\n",
    "\n",
    "Contributions can be identified on an individual company level, as well as contributions from companies grouped by one of their characteristics, e.g. sector or region. The exact definitions of companies' contributions to the portfolio temperature scores depend on the selected aggregation method.\n",
    "\n",
    "You can group companies on any categorical variable (e.g. sectors, countries, market cap buckets, investment strategies, etc)  you provide through your dataprovider, in this example in the Data_Provider_Example.xlsx imported above.\n",
    "\n",
    "For our analysis we select one time-frame (MID) and one scope (S1+S2) and group the outcomes on sector and compare AUM to temperature score contribution. We also then display the sector temperature scores.\n",
    "\n",
    "To change the time frame, replace the extension \"MID\" in ETimeFrames.MID (the first line) to SHORT or LONG.\n",
    "To change the time frame, replace the extension \"S1S2\" in EScope.S1S2 (the second line) to S3 or S1S2S3.\n",
    "To change the grouping, replace 'sector' (the third line) to the category variable you are interested in.\n",
    "\n",
    "### Quick analysis\n",
    "In this example we can see that Materials, Financials, Energy, Consumer Staples and the Communication sectors are all scoring above 3.0C. From the pie charts we can also see that Materials, Financials and Consumer Staples are contributing more to the temperature score than their weight in the portfolio."
   ],
   "metadata": {
    "collapsed": false
   }
  },
  {
   "cell_type": "code",
   "execution_count": 12,
   "outputs": [],
   "source": [
    "time_frames = [ETimeFrames.MID]\n",
    "scopes = [EScope.S1S2]\n",
    "grouping = ['sector']\n",
    "analysis_parameters = (time_frames, scopes, grouping)\n",
    "\n",
    "temperature_score = TemperatureScore(time_frames=time_frames,\n",
    "                                     scopes=scopes,\n",
    "                                     grouping=grouping)\n",
    "amended_portfolio = temperature_score.calculate(data_providers=[provider], portfolio=companies)\n",
    "aggregated_portfolio = temperature_score.aggregate_scores(amended_portfolio)\n",
    "company_contributions = collect_company_contributions(aggregated_portfolio, amended_portfolio, analysis_parameters)"
   ],
   "metadata": {
    "collapsed": false,
    "pycharm": {
     "name": "#%%\n"
    }
   }
  },
  {
   "cell_type": "code",
   "execution_count": 13,
   "outputs": [
    {
     "data": {
      "text/plain": "<Figure size 720x540 with 3 Axes>",
      "image/png": "[encoded data removed]"
     },
     "metadata": {
      "needs_background": "light"
     },
     "output_type": "display_data"
    }
   ],
   "source": [
    "plot_grouped_statistics(aggregated_portfolio, company_contributions, analysis_parameters)"
   ],
   "metadata": {
    "collapsed": false,
    "pycharm": {
     "name": "#%%\n"
    }
   }
  },
  {
   "cell_type": "markdown",
   "source": [
    "We can use what we learned from this analysis to drill into a few of the highest contributing scoring sectors to see which\n",
    "companies are the biggest contributors on the sector level. Considering the health care sector, for instance, we see in the\n",
    "table below that Company N is by far the largest contributor, and might therefore be a candidate to engage with."
   ],
   "metadata": {
    "collapsed": false,
    "pycharm": {
     "name": "#%% md\n"
    }
   }
  },
  {
   "cell_type": "code",
   "execution_count": 55,
   "outputs": [
    {
     "data": {
      "text/plain": "<pandas.io.formats.style.Styler at 0x26fd3d7e198>",
      "text/html": "<style  type=\"text/css\" >\n</style><table id=\"T_c75b815e_f764_11ea_a3f1_f48c504402bf\" ><thead>    <tr>        <th class=\"col_heading level0 col0\" >company_name</th>        <th class=\"col_heading level0 col1\" >company_id</th>        <th class=\"col_heading level0 col2\" >sector</th>        <th class=\"col_heading level0 col3\" >contribution</th>        <th class=\"col_heading level0 col4\" >temperature_score</th>        <th class=\"col_heading level0 col5\" >ownership_percentage</th>        <th class=\"col_heading level0 col6\" >portfolio_percentage</th>    </tr></thead><tbody>\n                <tr>\n                                <td id=\"T_c75b815e_f764_11ea_a3f1_f48c504402bfrow0_col0\" class=\"data row0 col0\" >Company N</td>\n                        <td id=\"T_c75b815e_f764_11ea_a3f1_f48c504402bfrow0_col1\" class=\"data row0 col1\" >FR0000000014</td>\n                        <td id=\"T_c75b815e_f764_11ea_a3f1_f48c504402bfrow0_col2\" class=\"data row0 col2\" >Health Care</td>\n                        <td id=\"T_c75b815e_f764_11ea_a3f1_f48c504402bfrow0_col3\" class=\"data row0 col3\" >9.830000</td>\n                        <td id=\"T_c75b815e_f764_11ea_a3f1_f48c504402bfrow0_col4\" class=\"data row0 col4\" >3.200000</td>\n                        <td id=\"T_c75b815e_f764_11ea_a3f1_f48c504402bfrow0_col5\" class=\"data row0 col5\" >0.190000</td>\n                        <td id=\"T_c75b815e_f764_11ea_a3f1_f48c504402bfrow0_col6\" class=\"data row0 col6\" >7.820000</td>\n            </tr>\n            <tr>\n                                <td id=\"T_c75b815e_f764_11ea_a3f1_f48c504402bfrow1_col0\" class=\"data row1 col0\" >Company AD</td>\n                        <td id=\"T_c75b815e_f764_11ea_a3f1_f48c504402bfrow1_col1\" class=\"data row1 col1\" >KE0000000030</td>\n                        <td id=\"T_c75b815e_f764_11ea_a3f1_f48c504402bfrow1_col2\" class=\"data row1 col2\" >Health Care</td>\n                        <td id=\"T_c75b815e_f764_11ea_a3f1_f48c504402bfrow1_col3\" class=\"data row1 col3\" >2.290000</td>\n                        <td id=\"T_c75b815e_f764_11ea_a3f1_f48c504402bfrow1_col4\" class=\"data row1 col4\" >3.200000</td>\n                        <td id=\"T_c75b815e_f764_11ea_a3f1_f48c504402bfrow1_col5\" class=\"data row1 col5\" >0.010000</td>\n                        <td id=\"T_c75b815e_f764_11ea_a3f1_f48c504402bfrow1_col6\" class=\"data row1 col6\" >1.820000</td>\n            </tr>\n            <tr>\n                                <td id=\"T_c75b815e_f764_11ea_a3f1_f48c504402bfrow2_col0\" class=\"data row2 col0\" >CVS Health</td>\n                        <td id=\"T_c75b815e_f764_11ea_a3f1_f48c504402bfrow2_col1\" class=\"data row2 col1\" >US1266501006</td>\n                        <td id=\"T_c75b815e_f764_11ea_a3f1_f48c504402bfrow2_col2\" class=\"data row2 col2\" >Health Care</td>\n                        <td id=\"T_c75b815e_f764_11ea_a3f1_f48c504402bfrow2_col3\" class=\"data row2 col3\" >0.040000</td>\n                        <td id=\"T_c75b815e_f764_11ea_a3f1_f48c504402bfrow2_col4\" class=\"data row2 col4\" >0.050000</td>\n                        <td id=\"T_c75b815e_f764_11ea_a3f1_f48c504402bfrow2_col5\" class=\"data row2 col5\" >0.010000</td>\n                        <td id=\"T_c75b815e_f764_11ea_a3f1_f48c504402bfrow2_col6\" class=\"data row2 col6\" >1.820000</td>\n            </tr>\n    </tbody></table>"
     },
     "execution_count": 55,
     "metadata": {},
     "output_type": "execute_result"
    }
   ],
   "source": [
    "sector_contributions = company_contributions[['company_name', 'company_id', 'sector', 'contribution', 'temperature_score', 'ownership_percentage', 'portfolio_percentage']]\n",
    "sector_contributions.loc[sector_contributions['sector'] == 'Health Care'][:10].round(2).style.hide_index()"
   ],
   "metadata": {
    "collapsed": false,
    "pycharm": {
     "name": "#%%\n"
    }
   }
  },
  {
   "cell_type": "markdown",
   "source": [
    "## Companies to engage with\n",
    "In addition to statistics of the companies grouped by a given category, as we did with the sector analysis above, you can analyse the companies' individual contributions to the portfolio temperature score across the whole portfolio, as we have done below. Alternatively we can use the information we gathered above to do the below analysis for one of the identified sectors. To reiterate, the contribution column shows the contribution of a specific company to the overall portfolio temperature score. The computation of these contributions differs, in accordance with the aggregation methods explained above.\n",
    "\n",
    "In this analysis we are also choosing to display temperature score, ownership and portfolio weight. Therefore, we can use this table to analyse which companies we may have a better chance of having a successful engagement with.\n",
    "We show the top 10 contributing companies. To see more or fewer companies change the '10' near the end of the line in \"[:10]\".\n",
    "\n",
    "### Quick analysis\n",
    "In this case we are primarily looking at our ownership of the company in relation to the contribution to find companies which we may be able to influence and where our work will have an impact on our portfolio TS.\n",
    "\n",
    "Company N has the biggest contribution to our TS, and even if we have a substantial position in our portfolio, we own a very small part of the company, so any engagement effort by just us may not be that successsful.\n",
    "\n",
    "We may have better luck with Comapny Q where we own close to 5% of the company, and it is still a reasonably large position in our portfolio and if we are successful, it may have a bigger impact on our portfolio score than with for example company N.\n",
    "\n",
    "Naturally, we can join other investors to influence Company N to convince them to set emission reduction targets. This contribution table gives you some of the information you need to make these decisions."
   ],
   "metadata": {
    "collapsed": false,
    "pycharm": {
     "name": "#%% md\n"
    }
   }
  },
  {
   "cell_type": "code",
   "execution_count": 25,
   "outputs": [
    {
     "data": {
      "text/plain": "<pandas.io.formats.style.Styler at 0x26fd4116588>",
      "text/html": "<style  type=\"text/css\" >\n</style><table id=\"T_c215c35a_f754_11ea_9775_f48c504402bf\" ><thead>    <tr>        <th class=\"col_heading level0 col0\" >company_name</th>        <th class=\"col_heading level0 col1\" >contribution</th>        <th class=\"col_heading level0 col2\" >temperature_score</th>        <th class=\"col_heading level0 col3\" >ownership_percentage</th>        <th class=\"col_heading level0 col4\" >portfolio_percentage</th>    </tr></thead><tbody>\n                <tr>\n                                <td id=\"T_c215c35a_f754_11ea_9775_f48c504402bfrow0_col0\" class=\"data row0 col0\" >Company N</td>\n                        <td id=\"T_c215c35a_f754_11ea_9775_f48c504402bfrow0_col1\" class=\"data row0 col1\" >9.830000</td>\n                        <td id=\"T_c215c35a_f754_11ea_9775_f48c504402bfrow0_col2\" class=\"data row0 col2\" >3.200000</td>\n                        <td id=\"T_c215c35a_f754_11ea_9775_f48c504402bfrow0_col3\" class=\"data row0 col3\" >0.190000</td>\n                        <td id=\"T_c215c35a_f754_11ea_9775_f48c504402bfrow0_col4\" class=\"data row0 col4\" >7.820000</td>\n            </tr>\n            <tr>\n                                <td id=\"T_c215c35a_f754_11ea_9775_f48c504402bfrow1_col0\" class=\"data row1 col0\" >Advanced Micro Devices, Inc</td>\n                        <td id=\"T_c215c35a_f754_11ea_9775_f48c504402bfrow1_col1\" class=\"data row1 col1\" >4.580000</td>\n                        <td id=\"T_c215c35a_f754_11ea_9775_f48c504402bfrow1_col2\" class=\"data row1 col2\" >1.830000</td>\n                        <td id=\"T_c215c35a_f754_11ea_9775_f48c504402bfrow1_col3\" class=\"data row1 col3\" >0.330000</td>\n                        <td id=\"T_c215c35a_f754_11ea_9775_f48c504402bfrow1_col4\" class=\"data row1 col4\" >6.360000</td>\n            </tr>\n            <tr>\n                                <td id=\"T_c215c35a_f754_11ea_9775_f48c504402bfrow2_col0\" class=\"data row2 col0\" >Company Q</td>\n                        <td id=\"T_c215c35a_f754_11ea_9775_f48c504402bfrow2_col1\" class=\"data row2 col1\" >2.740000</td>\n                        <td id=\"T_c215c35a_f754_11ea_9775_f48c504402bfrow2_col2\" class=\"data row2 col2\" >3.200000</td>\n                        <td id=\"T_c215c35a_f754_11ea_9775_f48c504402bfrow2_col3\" class=\"data row2 col3\" >4.810000</td>\n                        <td id=\"T_c215c35a_f754_11ea_9775_f48c504402bfrow2_col4\" class=\"data row2 col4\" >2.180000</td>\n            </tr>\n            <tr>\n                                <td id=\"T_c215c35a_f754_11ea_9775_f48c504402bfrow3_col0\" class=\"data row3 col0\" >Dell Technologies</td>\n                        <td id=\"T_c215c35a_f754_11ea_9775_f48c504402bfrow3_col1\" class=\"data row3 col1\" >2.290000</td>\n                        <td id=\"T_c215c35a_f754_11ea_9775_f48c504402bfrow3_col2\" class=\"data row3 col2\" >3.200000</td>\n                        <td id=\"T_c215c35a_f754_11ea_9775_f48c504402bfrow3_col3\" class=\"data row3 col3\" >0.290000</td>\n                        <td id=\"T_c215c35a_f754_11ea_9775_f48c504402bfrow3_col4\" class=\"data row3 col4\" >1.820000</td>\n            </tr>\n            <tr>\n                                <td id=\"T_c215c35a_f754_11ea_9775_f48c504402bfrow4_col0\" class=\"data row4 col0\" >Company AE</td>\n                        <td id=\"T_c215c35a_f754_11ea_9775_f48c504402bfrow4_col1\" class=\"data row4 col1\" >2.290000</td>\n                        <td id=\"T_c215c35a_f754_11ea_9775_f48c504402bfrow4_col2\" class=\"data row4 col2\" >3.200000</td>\n                        <td id=\"T_c215c35a_f754_11ea_9775_f48c504402bfrow4_col3\" class=\"data row4 col3\" >0.210000</td>\n                        <td id=\"T_c215c35a_f754_11ea_9775_f48c504402bfrow4_col4\" class=\"data row4 col4\" >1.820000</td>\n            </tr>\n            <tr>\n                                <td id=\"T_c215c35a_f754_11ea_9775_f48c504402bfrow5_col0\" class=\"data row5 col0\" >Company I</td>\n                        <td id=\"T_c215c35a_f754_11ea_9775_f48c504402bfrow5_col1\" class=\"data row5 col1\" >2.290000</td>\n                        <td id=\"T_c215c35a_f754_11ea_9775_f48c504402bfrow5_col2\" class=\"data row5 col2\" >3.200000</td>\n                        <td id=\"T_c215c35a_f754_11ea_9775_f48c504402bfrow5_col3\" class=\"data row5 col3\" >0.330000</td>\n                        <td id=\"T_c215c35a_f754_11ea_9775_f48c504402bfrow5_col4\" class=\"data row5 col4\" >1.820000</td>\n            </tr>\n            <tr>\n                                <td id=\"T_c215c35a_f754_11ea_9775_f48c504402bfrow6_col0\" class=\"data row6 col0\" >Company AF</td>\n                        <td id=\"T_c215c35a_f754_11ea_9775_f48c504402bfrow6_col1\" class=\"data row6 col1\" >2.290000</td>\n                        <td id=\"T_c215c35a_f754_11ea_9775_f48c504402bfrow6_col2\" class=\"data row6 col2\" >3.200000</td>\n                        <td id=\"T_c215c35a_f754_11ea_9775_f48c504402bfrow6_col3\" class=\"data row6 col3\" >0.970000</td>\n                        <td id=\"T_c215c35a_f754_11ea_9775_f48c504402bfrow6_col4\" class=\"data row6 col4\" >1.820000</td>\n            </tr>\n            <tr>\n                                <td id=\"T_c215c35a_f754_11ea_9775_f48c504402bfrow7_col0\" class=\"data row7 col0\" >Company F</td>\n                        <td id=\"T_c215c35a_f754_11ea_9775_f48c504402bfrow7_col1\" class=\"data row7 col1\" >2.290000</td>\n                        <td id=\"T_c215c35a_f754_11ea_9775_f48c504402bfrow7_col2\" class=\"data row7 col2\" >3.200000</td>\n                        <td id=\"T_c215c35a_f754_11ea_9775_f48c504402bfrow7_col3\" class=\"data row7 col3\" >0.110000</td>\n                        <td id=\"T_c215c35a_f754_11ea_9775_f48c504402bfrow7_col4\" class=\"data row7 col4\" >1.820000</td>\n            </tr>\n            <tr>\n                                <td id=\"T_c215c35a_f754_11ea_9775_f48c504402bfrow8_col0\" class=\"data row8 col0\" >Capgemini Group</td>\n                        <td id=\"T_c215c35a_f754_11ea_9775_f48c504402bfrow8_col1\" class=\"data row8 col1\" >2.290000</td>\n                        <td id=\"T_c215c35a_f754_11ea_9775_f48c504402bfrow8_col2\" class=\"data row8 col2\" >3.200000</td>\n                        <td id=\"T_c215c35a_f754_11ea_9775_f48c504402bfrow8_col3\" class=\"data row8 col3\" >0.320000</td>\n                        <td id=\"T_c215c35a_f754_11ea_9775_f48c504402bfrow8_col4\" class=\"data row8 col4\" >1.820000</td>\n            </tr>\n            <tr>\n                                <td id=\"T_c215c35a_f754_11ea_9775_f48c504402bfrow9_col0\" class=\"data row9 col0\" >L'Oréal</td>\n                        <td id=\"T_c215c35a_f754_11ea_9775_f48c504402bfrow9_col1\" class=\"data row9 col1\" >2.290000</td>\n                        <td id=\"T_c215c35a_f754_11ea_9775_f48c504402bfrow9_col2\" class=\"data row9 col2\" >3.200000</td>\n                        <td id=\"T_c215c35a_f754_11ea_9775_f48c504402bfrow9_col3\" class=\"data row9 col3\" >0.400000</td>\n                        <td id=\"T_c215c35a_f754_11ea_9775_f48c504402bfrow9_col4\" class=\"data row9 col4\" >1.820000</td>\n            </tr>\n    </tbody></table>"
     },
     "execution_count": 25,
     "metadata": {},
     "output_type": "execute_result"
    }
   ],
   "source": [
    "company_contributions[['company_name', 'company_id', 'contribution', 'temperature_score', 'ownership_percentage', 'portfolio_percentage']][:10].round(2).style.hide_index()"
   ],
   "metadata": {
    "collapsed": false,
    "pycharm": {
     "name": "#%%\n"
    }
   }
  },
  {
   "cell_type": "markdown",
   "source": [
    "## What-if analysis\n",
    "To determine the effect of engaging (part of) your portfolio, you can run a number of scenarios:\n",
    " - 1: Engage companies to set 2 degree targets. This means that the score of all companies that didn't yet set a target will be set to 2 degrees celcius.\n",
    " - 2: Engage companies to set well below 2 degree targets. The maximum score for all companies that have set targets will be capped at 1.75 degrees celcius.\n",
    " - 3a: Engage the top 10 contributors to set 2 degree targets.\n",
    " - 3b: Engage the top 10 contributors to have set well below 2 degree targets. This means that the maximum score for all the targets of these companies will be capped at 1.75 degrees celcius.\n",
    " - 4a: Engage the predefined companies to set 2 degree targets.\n",
    " - 4b: Engage the predefined companies to set well below 2 degree targets. This means that the maximum score for all the targets of these companies will be capped at 1.75 degrees celcius.\n",
    "\n",
    "In this example, we identified a couple of companies above where we think we can have some success in our engagement efforts. Next, we will therefore investigate the effect of engaging Company Q and Company AF in setting targets."
   ],
   "metadata": {
    "collapsed": false,
    "pycharm": {
     "name": "#%% md\n"
    }
   }
  },
  {
   "cell_type": "markdown",
   "source": [
    "The cell below defines scenario 4a, which means that we manage to get the companies we engage with, to set GHG emission reduction targets that give them both a score of 2.0C. We will define the companies in the next cell below.\n",
    "To change the scenario, replace the extension \"HIGHEST_CONTRIBUTORS_APPROVED\" in ScenarioType.HIGHEST_CONTRIBUTORS_APPROVED (the second line) to TARGETS (for scenario 1), APPROVED_TARGETS (scenario 2) or HIGHEST_CONTRIBUTORS (scenario 3). To differentiate between options a and b in scenario 3 and 4, change the extension \"SET_TARGETS\" in EngagementType.SET_TARGETS. Use \"SET_TARGETS\" for option a and \"SET_SBTI_TARGETS\" for option b. For scenarios 1 and 2 the choice here does not matter.\n",
    "In the fourth and fifth lines the aggregation method and grouping are specified. You can change these the same way as in the previous sections."
   ],
   "metadata": {
    "collapsed": false,
    "pycharm": {
     "name": "#%% md\n"
    }
   }
  },
  {
   "cell_type": "code",
   "execution_count": 26,
   "outputs": [],
   "source": [
    "scenario = Scenario()\n",
    "scenario.scenario_type = ScenarioType.HIGHEST_CONTRIBUTORS_APPROVED\n",
    "scenario.engagement_type = EngagementType.SET_TARGETS\n",
    "scenario.aggregation_method = PortfolioAggregationMethod.WATS\n",
    "scenario.grouping = 'sector'"
   ],
   "metadata": {
    "collapsed": false,
    "pycharm": {
     "name": "#%%\n"
    }
   }
  },
  {
   "cell_type": "markdown",
   "source": [
    "### Portfolio temperature score impact\n",
    "In our what-if analysis, we can now add Company Q and Company AF with company IDs CA0000000017 and ID0000000032 to to the companies which have set a target. Please note that our example portfolio file contains a column named \"engagement_target\". The companies with values of 1.0 in this column are included in this scenario. The cell below adds Company Q and Company AF to these other predefined companies in the portfolio, which were already marked for engagement.\n",
    "\n",
    "You can add more companies to target by copying line 2 or 3 of the following cell and replacing the company ID by the ID of your selected company.\n",
    "\n",
    "#### Quick analysis\n",
    "As we can see below, the impact on our portfolio TS of engaging with the companies selected for engagement reduces our portfolio temperatures score from 2.55C to 2.41C."
   ],
   "metadata": {
    "collapsed": false,
    "pycharm": {
     "name": "#%% md\n"
    }
   }
  },
  {
   "cell_type": "code",
   "execution_count": 27,
   "outputs": [],
   "source": [
    "scenario_portfolio = portfolio.copy()\n",
    "scenario_portfolio['engagement_target'] = False\n",
    "scenario_portfolio.loc[scenario_portfolio['company_id'] == 'CA0000000017', 'engagement_target'] = True\n",
    "scenario_portfolio.loc[scenario_portfolio['company_id'] == 'ID0000000032', 'engagement_target'] = True"
   ],
   "metadata": {
    "collapsed": false,
    "pycharm": {
     "name": "#%%\n"
    }
   }
  },
  {
   "cell_type": "code",
   "execution_count": 19,
   "outputs": [
    {
     "name": "stdout",
     "output_type": "stream",
     "text": [
      "Actual portfolio temperature score\n",
      "mid - S1S2: 2.55 degrees Celcius\n",
      "\n",
      "Scenario portfolio temperature score\n",
      "mid - S1S2: 2.41 degrees Celcius\n"
     ]
    }
   ],
   "source": [
    "scenario_companies = [SBTi.interfaces.PortfolioCompany.parse_obj(company) for company in scenario_portfolio.to_dict(orient=\"records\")]\n",
    "scenario_data = SBTi.utils.get_data([provider], scenario_companies)\n",
    "\n",
    "temperature_score.scenario = scenario\n",
    "scenario_companies = SBTi.utils.dataframe_to_portfolio(scenario_portfolio)\n",
    "scenario_scores = temperature_score.calculate(data_providers=[provider], portfolio=scenario_companies)\n",
    "scenario_aggregated = temperature_score.aggregate_scores(scenario_scores)\n",
    "print_scenario_gain(aggregated_portfolio, scenario_aggregated)"
   ],
   "metadata": {
    "collapsed": false,
    "pycharm": {
     "name": "#%%\n"
    }
   }
  },
  {
   "cell_type": "markdown",
   "source": [
    "### Sector temperature score impact\n",
    "We can dig in a bit deeper into our analysis to identify changes in sector temperature scores.\n",
    "\n",
    "In the two cell below we print the scenario effects on temperature score per sector and then display this data with pie charts and and a histogram.\n",
    "The first block shows the scope 1 and 2 mid-term temperature scores per sector calculated with the current temperature scores. The second block shows the temperature scores of the same categories, but now based on the what-if scenario where the chosen companies have set 2 degree targets.\n",
    "\n",
    "#### Quick analysis\n",
    "The Energy, Consumer Staples and Communication sectors are no longer scoring above 3.0C. We still need to do some work in the Materials and Financials sector, to reduce these sector scores."
   ],
   "metadata": {
    "collapsed": false,
    "pycharm": {
     "name": "#%% md\n"
    }
   }
  },
  {
   "cell_type": "code",
   "execution_count": 20,
   "outputs": [
    {
     "name": "stdout",
     "output_type": "stream",
     "text": [
      "Actual temperature scores\n",
      "\n",
      "mid - S1S2\n",
      "Communication Services: 3.20 degrees Celcius\n",
      "Consumer Discretionary: 2.00 degrees Celcius\n",
      "Consumer Staples: 3.20 degrees Celcius\n",
      "Energy: 3.20 degrees Celcius\n",
      "Financials: 3.20 degrees Celcius\n",
      "Health Care: 2.70 degrees Celcius\n",
      "Industrials: 2.33 degrees Celcius\n",
      "Information Technology: 1.20 degrees Celcius\n",
      "Materials: 3.20 degrees Celcius\n",
      "Real Estate: 2.59 degrees Celcius\n",
      "Utilities: 2.44 degrees Celcius\n",
      "\n",
      "\n",
      "Scenario temperature scores\n",
      "\n",
      "mid - S1S2\n",
      "Communication Services: 2.00 degrees Celcius\n",
      "Consumer Discretionary: 2.00 degrees Celcius\n",
      "Consumer Staples: 2.80 degrees Celcius\n",
      "Energy: 2.00 degrees Celcius\n",
      "Financials: 3.20 degrees Celcius\n",
      "Health Care: 2.70 degrees Celcius\n",
      "Industrials: 2.25 degrees Celcius\n",
      "Information Technology: 1.20 degrees Celcius\n",
      "Materials: 3.20 degrees Celcius\n",
      "Real Estate: 2.59 degrees Celcius\n",
      "Utilities: 2.17 degrees Celcius\n"
     ]
    }
   ],
   "source": [
    "print(\"Actual temperature scores\")\n",
    "print_grouped_scores(aggregated_portfolio)\n",
    "print(\"\\n\\nScenario temperature scores\")\n",
    "print_grouped_scores(scenario_aggregated)"
   ],
   "metadata": {
    "collapsed": false,
    "pycharm": {
     "name": "#%%\n"
    }
   }
  },
  {
   "cell_type": "code",
   "execution_count": 21,
   "outputs": [
    {
     "data": {
      "text/plain": "<Figure size 720x540 with 3 Axes>",
      "image/png": "[encoded data removed]"
     },
     "metadata": {
      "needs_background": "light"
     },
     "output_type": "display_data"
    }
   ],
   "source": [
    "scenario_contributions = collect_company_contributions(scenario_aggregated, scenario_scores, analysis_parameters)\n",
    "plot_grouped_statistics(scenario_aggregated, scenario_contributions, analysis_parameters)"
   ],
   "metadata": {
    "collapsed": false,
    "pycharm": {
     "name": "#%%\n"
    }
   }
  },
  {
   "cell_type": "markdown",
   "source": [
    "## Company temperature score contribution impact\n",
    "If our engagement is successful we can see that both Company Q and Company AF would disappear from from the list of biggest contributing companies to our TS."
   ],
   "metadata": {
    "collapsed": false,
    "pycharm": {
     "name": "#%% md\n"
    }
   }
  },
  {
   "cell_type": "code",
   "execution_count": 29,
   "outputs": [
    {
     "data": {
      "text/plain": "                   company_name  contribution  contribution_change  \\\n0                     Company N         10.38                 0.55   \n1   Advanced Micro Devices, Inc          4.83                 0.26   \n15                PepsiCo, Inc.          2.41                 0.13   \n27                   Company AD          2.41                 0.13   \n26            Dell Technologies          2.41                 0.13   \n25                   Company AE          2.41                 0.13   \n23                      L'Oréal          2.41                 0.13   \n22                   Company AB          2.41                 0.13   \n21              Capgemini Group          2.41                 0.13   \n20  SUMITOMO CHEMICAL Co., Ltd.          2.41                 0.13   \n28                    Company Q          1.81                -0.48   \n29           Adobe Systems Inc.          1.79                -0.50   \n30            Delta Electronics          1.77                -0.52   \n31                       Danone          1.65                -0.63   \n35                    Company F          1.51                -0.16   \n36                    Company A          1.51                -0.06   \n32                   Company AA          1.51                -0.78   \n34                    Company K          1.51                -0.18   \n33                   Company AF          1.51                -0.78   \n\n    temperature_score  temperature_score_change  ownership_percentage  \\\n0                3.20                      0.00                  0.19   \n1                1.83                      0.00                  0.33   \n15               3.20                      0.00                  0.10   \n27               3.20                      0.00                  0.01   \n26               3.20                      0.00                  0.29   \n25               3.20                      0.00                  0.21   \n23               3.20                      0.00                  0.40   \n22               3.20                      0.00                  0.14   \n21               3.20                      0.00                  0.32   \n20               3.20                      0.00                  0.27   \n28               2.00                     -1.20                  4.81   \n29               2.37                     -0.83                  5.87   \n30               2.34                     -0.86                  0.01   \n31               2.19                     -1.01                 12.25   \n35               2.00                     -0.34                  0.11   \n36               2.00                     -0.19                  1.07   \n32               2.00                     -1.20                  0.07   \n34               2.00                     -0.37                  1.01   \n33               2.00                     -1.20                  0.97   \n\n    portfolio_percentage  \n0                   7.82  \n1                   6.36  \n15                  1.82  \n27                  1.82  \n26                  1.82  \n25                  1.82  \n23                  1.82  \n22                  1.82  \n21                  1.82  \n20                  1.82  \n28                  2.18  \n29                  1.82  \n30                  1.82  \n31                  1.82  \n35                  1.82  \n36                  1.82  \n32                  1.82  \n34                  1.82  \n33                  1.82  ",
      "text/html": "<div>\n<style scoped>\n    .dataframe tbody tr th:only-of-type {\n        vertical-align: middle;\n    }\n\n    .dataframe tbody tr th {\n        vertical-align: top;\n    }\n\n    .dataframe thead th {\n        text-align: right;\n    }\n</style>\n<table border=\"1\" class=\"dataframe\">\n  <thead>\n    <tr style=\"text-align: right;\">\n      <th></th>\n      <th>company_name</th>\n      <th>contribution</th>\n      <th>contribution_change</th>\n      <th>temperature_score</th>\n      <th>temperature_score_change</th>\n      <th>ownership_percentage</th>\n      <th>portfolio_percentage</th>\n    </tr>\n  </thead>\n  <tbody>\n    <tr>\n      <th>0</th>\n      <td>Company N</td>\n      <td>10.38</td>\n      <td>0.55</td>\n      <td>3.20</td>\n      <td>0.00</td>\n      <td>0.19</td>\n      <td>7.82</td>\n    </tr>\n    <tr>\n      <th>1</th>\n      <td>Advanced Micro Devices, Inc</td>\n      <td>4.83</td>\n      <td>0.26</td>\n      <td>1.83</td>\n      <td>0.00</td>\n      <td>0.33</td>\n      <td>6.36</td>\n    </tr>\n    <tr>\n      <th>15</th>\n      <td>PepsiCo, Inc.</td>\n      <td>2.41</td>\n      <td>0.13</td>\n      <td>3.20</td>\n      <td>0.00</td>\n      <td>0.10</td>\n      <td>1.82</td>\n    </tr>\n    <tr>\n      <th>27</th>\n      <td>Company AD</td>\n      <td>2.41</td>\n      <td>0.13</td>\n      <td>3.20</td>\n      <td>0.00</td>\n      <td>0.01</td>\n      <td>1.82</td>\n    </tr>\n    <tr>\n      <th>26</th>\n      <td>Dell Technologies</td>\n      <td>2.41</td>\n      <td>0.13</td>\n      <td>3.20</td>\n      <td>0.00</td>\n      <td>0.29</td>\n      <td>1.82</td>\n    </tr>\n    <tr>\n      <th>25</th>\n      <td>Company AE</td>\n      <td>2.41</td>\n      <td>0.13</td>\n      <td>3.20</td>\n      <td>0.00</td>\n      <td>0.21</td>\n      <td>1.82</td>\n    </tr>\n    <tr>\n      <th>23</th>\n      <td>L'Oréal</td>\n      <td>2.41</td>\n      <td>0.13</td>\n      <td>3.20</td>\n      <td>0.00</td>\n      <td>0.40</td>\n      <td>1.82</td>\n    </tr>\n    <tr>\n      <th>22</th>\n      <td>Company AB</td>\n      <td>2.41</td>\n      <td>0.13</td>\n      <td>3.20</td>\n      <td>0.00</td>\n      <td>0.14</td>\n      <td>1.82</td>\n    </tr>\n    <tr>\n      <th>21</th>\n      <td>Capgemini Group</td>\n      <td>2.41</td>\n      <td>0.13</td>\n      <td>3.20</td>\n      <td>0.00</td>\n      <td>0.32</td>\n      <td>1.82</td>\n    </tr>\n    <tr>\n      <th>20</th>\n      <td>SUMITOMO CHEMICAL Co., Ltd.</td>\n      <td>2.41</td>\n      <td>0.13</td>\n      <td>3.20</td>\n      <td>0.00</td>\n      <td>0.27</td>\n      <td>1.82</td>\n    </tr>\n    <tr>\n      <th>28</th>\n      <td>Company Q</td>\n      <td>1.81</td>\n      <td>-0.48</td>\n      <td>2.00</td>\n      <td>-1.20</td>\n      <td>4.81</td>\n      <td>2.18</td>\n    </tr>\n    <tr>\n      <th>29</th>\n      <td>Adobe Systems Inc.</td>\n      <td>1.79</td>\n      <td>-0.50</td>\n      <td>2.37</td>\n      <td>-0.83</td>\n      <td>5.87</td>\n      <td>1.82</td>\n    </tr>\n    <tr>\n      <th>30</th>\n      <td>Delta Electronics</td>\n      <td>1.77</td>\n      <td>-0.52</td>\n      <td>2.34</td>\n      <td>-0.86</td>\n      <td>0.01</td>\n      <td>1.82</td>\n    </tr>\n    <tr>\n      <th>31</th>\n      <td>Danone</td>\n      <td>1.65</td>\n      <td>-0.63</td>\n      <td>2.19</td>\n      <td>-1.01</td>\n      <td>12.25</td>\n      <td>1.82</td>\n    </tr>\n    <tr>\n      <th>35</th>\n      <td>Company F</td>\n      <td>1.51</td>\n      <td>-0.16</td>\n      <td>2.00</td>\n      <td>-0.34</td>\n      <td>0.11</td>\n      <td>1.82</td>\n    </tr>\n    <tr>\n      <th>36</th>\n      <td>Company A</td>\n      <td>1.51</td>\n      <td>-0.06</td>\n      <td>2.00</td>\n      <td>-0.19</td>\n      <td>1.07</td>\n      <td>1.82</td>\n    </tr>\n    <tr>\n      <th>32</th>\n      <td>Company AA</td>\n      <td>1.51</td>\n      <td>-0.78</td>\n      <td>2.00</td>\n      <td>-1.20</td>\n      <td>0.07</td>\n      <td>1.82</td>\n    </tr>\n    <tr>\n      <th>34</th>\n      <td>Company K</td>\n      <td>1.51</td>\n      <td>-0.18</td>\n      <td>2.00</td>\n      <td>-0.37</td>\n      <td>1.01</td>\n      <td>1.82</td>\n    </tr>\n    <tr>\n      <th>33</th>\n      <td>Company AF</td>\n      <td>1.51</td>\n      <td>-0.78</td>\n      <td>2.00</td>\n      <td>-1.20</td>\n      <td>0.97</td>\n      <td>1.82</td>\n    </tr>\n  </tbody>\n</table>\n</div>"
     },
     "execution_count": 29,
     "metadata": {},
     "output_type": "execute_result"
    }
   ],
   "source": [
    "scenario_contributions['temperature_score_change'] = scenario_contributions['temperature_score'] - company_contributions['temperature_score']\n",
    "scenario_contributions['contribution_change'] = scenario_contributions['contribution'] - company_contributions['contribution']\n",
    "largest_reductions = scenario_contributions[scenario_contributions['temperature_score_change'] != 0.0]\n",
    "pd.concat([\n",
    "    scenario_contributions[['company_name', 'contribution', 'contribution_change', 'temperature_score', 'temperature_score_change', 'ownership_percentage', 'portfolio_percentage']][:10],\n",
    "    largest_reductions[['company_name', 'contribution', 'contribution_change', 'temperature_score', 'temperature_score_change', 'ownership_percentage', 'portfolio_percentage']]\n",
    "]).round(2).style.hide_index()"
   ],
   "metadata": {
    "collapsed": false,
    "pycharm": {
     "name": "#%%\n"
    }
   }
  },
  {
   "cell_type": "markdown",
   "source": [
    "# Save your data for further analysis\n",
    "To take your analysis outside of this notebook and for example for internal and client reporting, you can export all data to Excel and the clipboard for pasting into and analysing in other applications."
   ],
   "metadata": {
    "collapsed": false,
    "pycharm": {
     "name": "#%% md\n"
    }
   }
  },
  {
   "cell_type": "markdown",
   "source": [
    "In order to store the portfolio and provider data locally, two options apply:\n",
    "1. You are running the SBTi tool locally or from Google Colab\n",
    "2. You are running the SBTi tool from a Docker container"
   ],
   "metadata": {
    "collapsed": false,
    "pycharm": {
     "name": "#%% md\n"
    }
   }
  },
  {
   "cell_type": "markdown",
   "source": [
    "If you run the SBTi tool locally or from Google Colab, you:\n",
    "- Specify and filenames of the output files in the cell below\n",
    "- Run the cell below"
   ],
   "metadata": {
    "collapsed": false,
    "pycharm": {
     "name": "#%% md\n"
    }
   }
  },
  {
   "cell_type": "code",
   "execution_count": 20,
   "outputs": [],
   "source": [
    "data_dump_filename = 'data_dump.xlsx'\n",
    "amended_portfolio.to_excel(data_dump_filename, index=False)"
   ],
   "metadata": {
    "collapsed": false,
    "pycharm": {
     "name": "#%%\n"
    }
   }
  },
  {
   "cell_type": "markdown",
   "source": [
    "If you run the SBTi tool locally, you finished the notebook at this point. If you run the SBTi tool from Google Colab, you:\n",
    "- Click on the files icon in the left pane\n",
    "- Click the three dots that appear after hovering over the file\n",
    "- Download the file to your local machine\n",
    "\n",
    "and you finished the notebook."
   ],
   "metadata": {
    "collapsed": false,
    "pycharm": {
     "name": "#%% md\n"
    }
   }
  },
  {
   "cell_type": "markdown",
   "source": [
    "If you use the SBTi tool from a docker container:\n",
    "- Run the cell below\n",
    "- Open an Excel file\n",
    "- Right-click an Excel cell and click 'paste' or select an Excel cell and press Ctrl+v\n",
    "- Save the Excel file\n",
    "\n",
    "You have then finished the notebook."
   ],
   "metadata": {
    "collapsed": false,
    "pycharm": {
     "name": "#%% md\n"
    }
   }
  },
  {
   "cell_type": "code",
   "execution_count": null,
   "outputs": [],
   "source": [
    "amended_portfolio.to_clipboard(excel=True, index=False)"
   ],
   "metadata": {
    "collapsed": false,
    "pycharm": {
     "name": "#%%\n"
    }
   }
  }
 ],
 "metadata": {
  "kernelspec": {
   "display_name": "Python 3",
   "language": "python",
   "name": "python3"
  },
  "language_info": {
   "codemirror_mode": {
    "name": "ipython",
    "version": 2
   },
   "file_extension": ".py",
   "mimetype": "text/x-python",
   "name": "python",
   "nbconvert_exporter": "python",
   "pygments_lexer": "ipython2",
   "version": "2.7.6"
  }
 },
 "nbformat": 4,
 "nbformat_minor": 0
}