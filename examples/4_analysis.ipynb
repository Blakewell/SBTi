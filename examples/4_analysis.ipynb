{
 "cells": [
  {
   "cell_type": "markdown",
   "source": [
    "# SBTi Temperature Alignment tool examples\n",
    "This notebook provides some examples on how to use the SBTi Temperature Alignment tool."
   ],
   "metadata": {
    "collapsed": false
   }
  },
  {
   "cell_type": "markdown",
   "source": [
    "### Install the SBTi Python module\n",
    "This is only required if you didn't already instally the module."
   ],
   "metadata": {
    "collapsed": false
   }
  },
  {
   "cell_type": "code",
   "execution_count": null,
   "outputs": [],
   "source": [
    "!pip install SBTi"
   ],
   "metadata": {
    "collapsed": false,
    "pycharm": {
     "name": "#%%\n"
    }
   }
  },
  {
   "cell_type": "code",
   "execution_count": 1,
   "outputs": [],
   "source": [
    "import SBTi\n",
    "from SBTi.data.excel import ExcelProvider\n",
    "from SBTi.portfolio_aggregation import PortfolioAggregationMethod\n",
    "from SBTi.portfolio_coverage_tvp import PortfolioCoverageTVP\n",
    "from SBTi.temperature_score import TemperatureScore, Scenario, ScenarioType\n",
    "from SBTi.target_validation import TargetProtocol\n",
    "from SBTi.interfaces import ETimeFrames, EScope\n",
    "import pandas as pd"
   ],
   "metadata": {
    "collapsed": false,
    "pycharm": {
     "name": "#%%\n"
    }
   }
  },
  {
   "cell_type": "markdown",
   "source": [
    "### Download the dummy data provider"
   ],
   "metadata": {
    "collapsed": false,
    "pycharm": {
     "name": "#%% md\n"
    }
   }
  },
  {
   "cell_type": "code",
   "execution_count": 2,
   "outputs": [],
   "source": [
    "import urllib.request\n",
    "import os\n",
    "\n",
    "if not os.path.isdir(\"data\"):\n",
    "    os.mkdir(\"data\")\n",
    "if not os.path.isfile(\"data/data_provider_example.xlsx\"):\n",
    "    urllib.request.urlretrieve(\"https://github.com/OFBDABV/SBTi/raw/master/examples/data/data_provider_example.xlsx\", \"data/data_provider_example.xlsx\")\n",
    "if not os.path.isfile(\"example_portfolio.csv\"):\n",
    "    urllib.request.urlretrieve(\"https://github.com/OFBDABV/SBTi/raw/master/examples/example_portfolio.csv\", \"example_portfolio.csv\")"
   ],
   "metadata": {
    "collapsed": false,
    "pycharm": {
     "name": "#%%\n"
    }
   }
  },
  {
   "cell_type": "markdown",
   "source": [
    "#### Logging\n",
    "The SBTi module uses the Python standard library logging utilities to send log messages. The log level can be changed according to the user's needs."
   ],
   "metadata": {
    "collapsed": false,
    "pycharm": {
     "name": "#%% md\n"
    }
   }
  },
  {
   "cell_type": "code",
   "execution_count": 3,
   "outputs": [],
   "source": [
    "import logging\n",
    "root_logger = logging.getLogger()\n",
    "root_logger.setLevel(\"INFO\")"
   ],
   "metadata": {
    "collapsed": false,
    "pycharm": {
     "name": "#%%\n"
    }
   }
  },
  {
   "cell_type": "markdown",
   "source": [
    "### Create a data provider\n",
    "Data providers let you connect to the data source of your choice."
   ],
   "metadata": {
    "collapsed": false
   }
  },
  {
   "cell_type": "code",
   "execution_count": 4,
   "outputs": [],
   "source": [
    "provider = ExcelProvider(path=\"data/data_provider_example.xlsx\")"
   ],
   "metadata": {
    "collapsed": false,
    "pycharm": {
     "name": "#%%\n"
    }
   }
  },
  {
   "cell_type": "markdown",
   "source": [
    "### Load your portfolio\n",
    "In our case the portfolio is stored as a CSV file. The portfolio should at least have an \"id\" (the identifier of the company) and a \"proportion\" (the weight of the company in your portfolio e.g. the value of the shares you hold) column."
   ],
   "metadata": {
    "collapsed": false
   }
  },
  {
   "cell_type": "code",
   "execution_count": 5,
   "outputs": [],
   "source": [
    "portfolio = pd.read_csv(\"example_portfolio.csv\", encoding=\"iso-8859-1\")"
   ],
   "metadata": {
    "collapsed": false,
    "pycharm": {
     "name": "#%%\n"
    }
   }
  },
  {
   "cell_type": "code",
   "execution_count": 6,
   "outputs": [
    {
     "data": {
      "text/plain": "                  company_name    company_id          ISIN weights  \\\n0  Advanced Micro Devices, Inc  US0079031078  US0079031078   6.36%   \n1           Adobe Systems Inc.  US00724F1012  US00724F1012   1.82%   \n2              Capgemini Group  FR0000125338  FR0000125338   1.82%   \n3          Cisco Systems, Inc.  US17275R1023  US17275R1023   1.82%   \n4             Coca-Cola HBC AG  CH0198251305  CH0198251305   1.82%   \n\n   investment_value  engagement_target  \n0          35000000                1.0  \n1          10000000                NaN  \n2          10000000                NaN  \n3          10000000                NaN  \n4          10000000                NaN  ",
      "text/html": "<div>\n<style scoped>\n    .dataframe tbody tr th:only-of-type {\n        vertical-align: middle;\n    }\n\n    .dataframe tbody tr th {\n        vertical-align: top;\n    }\n\n    .dataframe thead th {\n        text-align: right;\n    }\n</style>\n<table border=\"1\" class=\"dataframe\">\n  <thead>\n    <tr style=\"text-align: right;\">\n      <th></th>\n      <th>company_name</th>\n      <th>company_id</th>\n      <th>ISIN</th>\n      <th>weights</th>\n      <th>investment_value</th>\n      <th>engagement_target</th>\n    </tr>\n  </thead>\n  <tbody>\n    <tr>\n      <th>0</th>\n      <td>Advanced Micro Devices, Inc</td>\n      <td>US0079031078</td>\n      <td>US0079031078</td>\n      <td>6.36%</td>\n      <td>35000000</td>\n      <td>1.0</td>\n    </tr>\n    <tr>\n      <th>1</th>\n      <td>Adobe Systems Inc.</td>\n      <td>US00724F1012</td>\n      <td>US00724F1012</td>\n      <td>1.82%</td>\n      <td>10000000</td>\n      <td>NaN</td>\n    </tr>\n    <tr>\n      <th>2</th>\n      <td>Capgemini Group</td>\n      <td>FR0000125338</td>\n      <td>FR0000125338</td>\n      <td>1.82%</td>\n      <td>10000000</td>\n      <td>NaN</td>\n    </tr>\n    <tr>\n      <th>3</th>\n      <td>Cisco Systems, Inc.</td>\n      <td>US17275R1023</td>\n      <td>US17275R1023</td>\n      <td>1.82%</td>\n      <td>10000000</td>\n      <td>NaN</td>\n    </tr>\n    <tr>\n      <th>4</th>\n      <td>Coca-Cola HBC AG</td>\n      <td>CH0198251305</td>\n      <td>CH0198251305</td>\n      <td>1.82%</td>\n      <td>10000000</td>\n      <td>NaN</td>\n    </tr>\n  </tbody>\n</table>\n</div>"
     },
     "execution_count": 6,
     "metadata": {},
     "output_type": "execute_result"
    }
   ],
   "source": [
    "portfolio.head(5)"
   ],
   "metadata": {
    "collapsed": false,
    "pycharm": {
     "name": "#%%\n"
    }
   }
  },
  {
   "cell_type": "markdown",
   "source": [
    "To load the data from the data provider, we have to pass a list of dictionaries, containing a \"company_name\" and \"company_id\"."
   ],
   "metadata": {
    "collapsed": false
   }
  },
  {
   "cell_type": "code",
   "execution_count": 7,
   "outputs": [
    {
     "name": "stdout",
     "output_type": "stream",
     "text": [
      "[{'company_name': 'Advanced Micro Devices, Inc', 'company_id': 'US0079031078', 'ISIN': 'US0079031078', 'weights': '6.36%', 'investment_value': 35000000, 'engagement_target': 1.0, 'company_isin': 'US0079031078'}, {'company_name': 'Adobe Systems Inc.', 'company_id': 'US00724F1012', 'ISIN': 'US00724F1012', 'weights': '1.82%', 'investment_value': 10000000, 'engagement_target': nan, 'company_isin': 'US00724F1012'}, {'company_name': 'Capgemini Group', 'company_id': 'FR0000125338', 'ISIN': 'FR0000125338', 'weights': '1.82%', 'investment_value': 10000000, 'engagement_target': nan, 'company_isin': 'FR0000125338'}, {'company_name': 'Cisco Systems, Inc.', 'company_id': 'US17275R1023', 'ISIN': 'US17275R1023', 'weights': '1.82%', 'investment_value': 10000000, 'engagement_target': nan, 'company_isin': 'US17275R1023'}, {'company_name': 'Coca-Cola HBC AG', 'company_id': 'CH0198251305', 'ISIN': 'CH0198251305', 'weights': '1.82%', 'investment_value': 10000000, 'engagement_target': nan, 'company_isin': 'CH0198251305'}, {'company_name': 'CVS Health', 'company_id': 'US1266501006', 'ISIN': 'US1266501006', 'weights': '1.82%', 'investment_value': 10000000, 'engagement_target': nan, 'company_isin': 'US1266501006'}, {'company_name': 'Danone', 'company_id': 'FR0000120644', 'ISIN': 'FR0000120644', 'weights': '1.82%', 'investment_value': 10000000, 'engagement_target': nan, 'company_isin': 'FR0000120644'}, {'company_name': 'Dell Technologies', 'company_id': 'US24703L1035', 'ISIN': 'US24703L1035', 'weights': '1.82%', 'investment_value': 10000000, 'engagement_target': nan, 'company_isin': 'US24703L1035'}, {'company_name': 'Delta Electronics', 'company_id': 'TW0002308004', 'ISIN': 'TW0002308004', 'weights': '1.82%', 'investment_value': 10000000, 'engagement_target': nan, 'company_isin': 'TW0002308004'}, {'company_name': \"L'Oréal\", 'company_id': 'FR0000120321', 'ISIN': 'FR0000120321', 'weights': '1.82%', 'investment_value': 10000000, 'engagement_target': nan, 'company_isin': 'FR0000120321'}, {'company_name': 'Nestlé', 'company_id': 'CH0038863350', 'ISIN': 'CH0038863350', 'weights': '1.82%', 'investment_value': 10000000, 'engagement_target': nan, 'company_isin': 'CH0038863350'}, {'company_name': 'Sony Corporation', 'company_id': 'US8356993076', 'ISIN': 'US8356993076', 'weights': '1.82%', 'investment_value': 10000000, 'engagement_target': nan, 'company_isin': 'US8356993076'}, {'company_name': 'SUMITOMO CHEMICAL Co., Ltd.', 'company_id': 'JP3401400001', 'ISIN': 'JP3401400001', 'weights': '1.82%', 'investment_value': 10000000, 'engagement_target': nan, 'company_isin': 'JP3401400001'}, {'company_name': 'NIKE, Inc.', 'company_id': 'US6541061031', 'ISIN': 'US6541061031', 'weights': '1.82%', 'investment_value': 10000000, 'engagement_target': nan, 'company_isin': 'US6541061031'}, {'company_name': 'Marks & Spencer', 'company_id': 'GB0031274896', 'ISIN': 'GB0031274896', 'weights': '1.82%', 'investment_value': 10000000, 'engagement_target': nan, 'company_isin': 'GB0031274896'}, {'company_name': 'NRG Energy Inc', 'company_id': 'US6293775085', 'ISIN': 'US6293775085', 'weights': '1.82%', 'investment_value': 10000000, 'engagement_target': nan, 'company_isin': 'US6293775085'}, {'company_name': 'PepsiCo, Inc.', 'company_id': 'US7134481081', 'ISIN': 'US7134481081', 'weights': '1.82%', 'investment_value': 10000000, 'engagement_target': nan, 'company_isin': 'US7134481081'}, {'company_name': 'Company A', 'company_id': 'JP0000000001', 'ISIN': 'JP0000000001', 'weights': '1.82%', 'investment_value': 10000000, 'engagement_target': 1.0, 'company_isin': 'JP0000000001'}, {'company_name': 'Company B', 'company_id': 'NL0000000002', 'ISIN': 'NL0000000002', 'weights': '1.82%', 'investment_value': 10000000, 'engagement_target': nan, 'company_isin': 'NL0000000002'}, {'company_name': 'Company C', 'company_id': 'IT0000000003', 'ISIN': 'IT0000000003', 'weights': '1.82%', 'investment_value': 10000000, 'engagement_target': nan, 'company_isin': 'IT0000000003'}, {'company_name': 'Company D', 'company_id': 'SE0000000004', 'ISIN': 'SE0000000004', 'weights': '1.82%', 'investment_value': 10000000, 'engagement_target': nan, 'company_isin': 'SE0000000004'}, {'company_name': 'Company E', 'company_id': 'SE0000000005', 'ISIN': 'SE0000000005', 'weights': '1.82%', 'investment_value': 10000000, 'engagement_target': nan, 'company_isin': 'SE0000000005'}, {'company_name': 'Company F', 'company_id': 'NL0000000006', 'ISIN': 'NL0000000006', 'weights': '1.82%', 'investment_value': 10000000, 'engagement_target': 1.0, 'company_isin': 'NL0000000006'}, {'company_name': 'Company G', 'company_id': 'CN0000000007', 'ISIN': 'CN0000000007', 'weights': '1.82%', 'investment_value': 10000000, 'engagement_target': nan, 'company_isin': 'CN0000000007'}, {'company_name': 'Company H', 'company_id': 'CN0000000008', 'ISIN': 'CN0000000008', 'weights': '1.82%', 'investment_value': 10000000, 'engagement_target': nan, 'company_isin': 'CN0000000008'}, {'company_name': 'Company I', 'company_id': 'CN0000000009', 'ISIN': 'CN0000000009', 'weights': '1.82%', 'investment_value': 10000000, 'engagement_target': nan, 'company_isin': 'CN0000000009'}, {'company_name': 'Company J', 'company_id': 'BR0000000010', 'ISIN': 'BR0000000010', 'weights': '1.82%', 'investment_value': 10000000, 'engagement_target': nan, 'company_isin': 'BR0000000010'}, {'company_name': 'Company K', 'company_id': 'BR0000000011', 'ISIN': 'BR0000000011', 'weights': '1.82%', 'investment_value': 10000000, 'engagement_target': 1.0, 'company_isin': 'BR0000000011'}, {'company_name': 'Company L', 'company_id': 'BR0000000012', 'ISIN': 'BR0000000012', 'weights': '1.82%', 'investment_value': 10000000, 'engagement_target': nan, 'company_isin': 'BR0000000012'}, {'company_name': 'Company M', 'company_id': 'AR0000000013', 'ISIN': 'AR0000000013', 'weights': '1.82%', 'investment_value': 10000000, 'engagement_target': nan, 'company_isin': 'AR0000000013'}, {'company_name': 'Company N', 'company_id': 'FR0000000014', 'ISIN': 'FR0000000014', 'weights': '7.82%', 'investment_value': 43000000, 'engagement_target': nan, 'company_isin': 'FR0000000014'}, {'company_name': 'Company O', 'company_id': 'FR0000000015', 'ISIN': 'FR0000000015', 'weights': '1.82%', 'investment_value': 10000000, 'engagement_target': nan, 'company_isin': 'FR0000000015'}, {'company_name': 'Company P', 'company_id': 'FR0000000016', 'ISIN': 'FR0000000016', 'weights': '1.82%', 'investment_value': 10000000, 'engagement_target': nan, 'company_isin': 'FR0000000016'}, {'company_name': 'Company Q', 'company_id': 'CA0000000017', 'ISIN': 'CA0000000017', 'weights': '2.18%', 'investment_value': 12000000, 'engagement_target': nan, 'company_isin': 'CA0000000017'}, {'company_name': 'Company R', 'company_id': 'CA0000000018', 'ISIN': 'CA0000000018', 'weights': '1.82%', 'investment_value': 10000000, 'engagement_target': nan, 'company_isin': 'CA0000000018'}, {'company_name': 'Company S', 'company_id': 'CA0000000019', 'ISIN': 'CA0000000019', 'weights': '1.82%', 'investment_value': 10000000, 'engagement_target': nan, 'company_isin': 'CA0000000019'}, {'company_name': 'Company T', 'company_id': 'CA0000000020', 'ISIN': 'CA0000000020', 'weights': '1.82%', 'investment_value': 10000000, 'engagement_target': nan, 'company_isin': 'CA0000000020'}, {'company_name': 'Company U', 'company_id': 'US0000000021', 'ISIN': 'US0000000021', 'weights': '1.82%', 'investment_value': 10000000, 'engagement_target': 1.0, 'company_isin': 'US0000000021'}, {'company_name': 'Company V', 'company_id': 'US0000000022', 'ISIN': 'US0000000022', 'weights': '1.82%', 'investment_value': 10000000, 'engagement_target': nan, 'company_isin': 'US0000000022'}, {'company_name': 'Company W', 'company_id': 'US0000000023', 'ISIN': 'US0000000023', 'weights': '1.82%', 'investment_value': 10000000, 'engagement_target': nan, 'company_isin': 'US0000000023'}, {'company_name': 'Company X', 'company_id': 'FI0000000024', 'ISIN': 'FI0000000024', 'weights': '1.82%', 'investment_value': 10000000, 'engagement_target': nan, 'company_isin': 'FI0000000024'}, {'company_name': 'Company Y', 'company_id': 'DK0000000025', 'ISIN': 'DK0000000025', 'weights': '1.82%', 'investment_value': 10000000, 'engagement_target': nan, 'company_isin': 'DK0000000025'}, {'company_name': 'Company Z', 'company_id': 'JP0000000026', 'ISIN': 'JP0000000026', 'weights': '1.82%', 'investment_value': 10000000, 'engagement_target': nan, 'company_isin': 'JP0000000026'}, {'company_name': 'Company AA', 'company_id': 'SP0000000027', 'ISIN': 'SP0000000027', 'weights': '1.82%', 'investment_value': 10000000, 'engagement_target': 1.0, 'company_isin': 'SP0000000027'}, {'company_name': 'Company AB', 'company_id': 'RU0000000028', 'ISIN': 'RU0000000028', 'weights': '1.82%', 'investment_value': 10000000, 'engagement_target': nan, 'company_isin': 'RU0000000028'}, {'company_name': 'Company AC', 'company_id': 'ZA0000000029', 'ISIN': 'ZA0000000029', 'weights': '1.82%', 'investment_value': 10000000, 'engagement_target': nan, 'company_isin': 'ZA0000000029'}, {'company_name': 'Company AD', 'company_id': 'KE0000000030', 'ISIN': 'KE0000000030', 'weights': '1.82%', 'investment_value': 10000000, 'engagement_target': nan, 'company_isin': 'KE0000000030'}, {'company_name': 'Company AE', 'company_id': 'TH0000000031', 'ISIN': 'TH0000000031', 'weights': '1.82%', 'investment_value': 10000000, 'engagement_target': nan, 'company_isin': 'TH0000000031'}, {'company_name': 'Company AF', 'company_id': 'ID0000000032', 'ISIN': 'ID0000000032', 'weights': '1.82%', 'investment_value': 10000000, 'engagement_target': nan, 'company_isin': 'ID0000000032'}]\n"
     ]
    }
   ],
   "source": [
    "portfolio[\"company_isin\"] = portfolio.ISIN\n",
    "companies = [SBTi.interfaces.PortfolioCompany.parse_obj(company) for company in portfolio.to_dict(orient=\"records\")]\n",
    "print(portfolio.to_dict(orient=\"records\"))"
   ],
   "metadata": {
    "collapsed": false,
    "pycharm": {
     "name": "#%%\n"
    }
   }
  },
  {
   "cell_type": "markdown",
   "source": [
    "### Combine portolio and provider data\n",
    "We'll call the data provider and ask it to provide us with the targets and the company data. This will take care of all required preprocessing."
   ],
   "metadata": {
    "collapsed": false
   }
  },
  {
   "cell_type": "code",
   "execution_count": 8,
   "outputs": [],
   "source": [
    "portfolio_data = SBTi.utils.get_data([provider], companies)"
   ],
   "metadata": {
    "collapsed": false,
    "pycharm": {
     "name": "#%%\n"
    }
   }
  },
  {
   "cell_type": "markdown",
   "source": [
    "### Calculate the temperature scores\n",
    "In the amended portfolio you'll find your original portfolio, amended with the emissions and the temperature score."
   ],
   "metadata": {
    "collapsed": false
   }
  },
  {
   "cell_type": "code",
   "execution_count": 19,
   "outputs": [],
   "source": [
    "temperature_score = TemperatureScore(\n",
    "    time_frames=list(SBTi.interfaces.ETimeFrames),\n",
    "    scopes=[EScope.S1S2, EScope.S3, EScope.S1S2S3],\n",
    "    grouping='sector'\n",
    ")\n",
    "amended_portfolio = temperature_score.calculate(portfolio_data)"
   ],
   "metadata": {
    "collapsed": false,
    "pycharm": {
     "name": "#%%\n"
    }
   }
  },
  {
   "cell_type": "markdown",
   "source": [
    "### Calculate the aggregated temperature score\n",
    "Calculate an aggregated temperature score. This can be done use different aggregation methods:\n",
    "- Weighted Average Temperature Score (WATS)\n",
    "- Total emissions weighted temperature score (TETS)\n",
    "- Market Owned emissions weighted temperature score (MOTS)\n",
    "- Enterprise Owned emissions weighted temperature score (EOTS)\n",
    "- Enterprise Value + Cash emissions weighted temperature score (ECOTS)\n",
    "- Total Assets emissions weighted temperature score (AOTS)\n",
    "- Revenue owned emissions weighted temperature score (ROTS)\n",
    "\n",
    "Here we'll use the \"Weighted Average Temperature Score\". For more details, have a look at notebook 3 (\"3_portfolio_aggregations.ipynb\"). The temperature scores are calculated per time-frame/scope combination."
   ],
   "metadata": {
    "collapsed": false
   }
  },
  {
   "cell_type": "code",
   "execution_count": 11,
   "outputs": [],
   "source": [
    "def print_aggregations(aggregations):\n",
    "    aggregations = aggregations.dict()\n",
    "    for time_frame, time_frame_values in aggregations.items():\n",
    "        for scope, scope_values in time_frame_values.items():\n",
    "            print(\"{} - {}: {} degrees celcius\".format(time_frame, scope, scope_values[\"all\"][\"score\"]))"
   ],
   "metadata": {
    "collapsed": false,
    "pycharm": {
     "name": "#%%\n"
    }
   }
  },
  {
   "cell_type": "code",
   "execution_count": 15,
   "outputs": [
    {
     "name": "stdout",
     "output_type": "stream",
     "text": [
      "short - S1S2: 2.2349090909090905 degrees celcius\n",
      "short - S3: 2.8205454545454542 degrees celcius\n",
      "short - S1S2S3: 2.670272727272727 degrees celcius\n",
      "mid - S1S2: 2.7351818181818177 degrees celcius\n",
      "mid - S3: 3.0340000000000003 degrees celcius\n",
      "mid - S1S2S3: 2.9639090909090906 degrees celcius\n",
      "long - S1S2: 3.122181818181818 degrees celcius\n",
      "long - S3: 3.2258181818181817 degrees celcius\n",
      "long - S1S2S3: 3.199636363636363 degrees celcius\n"
     ]
    }
   ],
   "source": [
    "temperature_score.aggregation_method = PortfolioAggregationMethod.WATS\n",
    "aggregated_portfolio = temperature_score.aggregate_scores(amended_portfolio)\n",
    "print_aggregations(aggregated_portfolio)"
   ],
   "metadata": {
    "collapsed": false,
    "pycharm": {
     "name": "#%%\n"
    }
   }
  },
  {
   "cell_type": "markdown",
   "source": [
    "### Portfolio coverage\n",
    "\n",
    "Gives insights in the coverage of portfolio entities that have set GHG emissions reduction targets, STBi-validated or otherwise. Companies with SBTi status Approved have a score of 100%, all others have a score of 0%."
   ],
   "metadata": {
    "collapsed": false
   }
  },
  {
   "cell_type": "code",
   "execution_count": 13,
   "outputs": [
    {
     "data": {
      "text/plain": "35.45"
     },
     "execution_count": 13,
     "metadata": {},
     "output_type": "execute_result"
    }
   ],
   "source": [
    "portfolio_coverage_tvp = PortfolioCoverageTVP()\n",
    "coverage = portfolio_coverage_tvp.get_portfolio_coverage(amended_portfolio.copy(), PortfolioAggregationMethod.WATS)\n",
    "round(coverage * 100) / 100"
   ],
   "metadata": {
    "collapsed": false,
    "pycharm": {
     "name": "#%%\n"
    }
   }
  },
  {
   "cell_type": "markdown",
   "source": [
    "## Biggest contributors\n",
    "- Individual companies\n",
    "- Companies grouped by regions, countries, sectors, industries"
   ],
   "metadata": {
    "collapsed": false
   }
  },
  {
   "cell_type": "code",
   "execution_count": 16,
   "outputs": [
    {
     "data": {
      "text/plain": "<AxesSubplot:xlabel='company_name'>"
     },
     "execution_count": 16,
     "metadata": {},
     "output_type": "execute_result"
    },
    {
     "data": {
      "text/plain": "<Figure size 432x288 with 1 Axes>",
      "image/png": "[encoded data removed]"
     },
     "metadata": {
      "needs_background": "light"
     },
     "output_type": "display_data"
    }
   ],
   "source": [
    "timeframe = 'short'\n",
    "scope = 'S1S2'\n",
    "company_names = []\n",
    "relative_contributions = []\n",
    "temp_scores = []\n",
    "for aggregation_contribution in aggregated_portfolio[timeframe][scope]['all']['contributions']:\n",
    "    company_names.append(aggregation_contribution.company_name)\n",
    "    relative_contributions.append(aggregation_contribution.contribution_relative)\n",
    "    temp_scores.append(aggregation_contribution.temperature_score)\n",
    "df = pd.DataFrame(data={'company_name': company_names, 'contribution': relative_contributions, 'temperature_score': temp_scores})\n",
    "df = df.merge(right=provider.data['fundamental_data'][['company_name', 'country', 'sector', 'region', 'company_market_cap']],\n",
    "              how='left',\n",
    "              on='company_name')\n",
    "df = df.merge(right=portfolio[['company_name', 'investment_value', 'weights']],\n",
    "              how='left',\n",
    "              on='company_name')\n",
    "df.weights = df.weights.apply(lambda x: float(x[:-1]))\n",
    "df = df.sort_values(by='contribution', ascending=False)\n",
    "df[:10].plot.bar(x='company_name', y='contribution')"
   ],
   "metadata": {
    "collapsed": false,
    "pycharm": {
     "name": "#%%\n"
    }
   }
  },
  {
   "cell_type": "code",
   "execution_count": 17,
   "outputs": [
    {
     "data": {
      "text/plain": "<AxesSubplot:ylabel='weights'>"
     },
     "execution_count": 17,
     "metadata": {},
     "output_type": "execute_result"
    },
    {
     "data": {
      "text/plain": "<Figure size 432x288 with 1 Axes>",
      "image/png": "[encoded data removed]"
     },
     "metadata": {},
     "output_type": "display_data"
    },
    {
     "data": {
      "text/plain": "<Figure size 432x288 with 1 Axes>",
      "image/png": "[encoded data removed]"
     },
     "metadata": {},
     "output_type": "display_data"
    }
   ],
   "source": [
    "plt.figure()\n",
    "df.groupby('sector').contribution.sum().plot.pie()\n",
    "plt.figure()\n",
    "df.groupby('sector').weights.sum().plot.pie()\n",
    "# Write function that takes as input the grouped variable\n",
    "# As output it gives:\n",
    "# - a bar plot of the temp scores per category\n",
    "#       (with aggregated_portfolio grouped - need to extract)\n",
    "# - a pie chart of the investment values (= portfolio %)\n",
    "#       (with df.groupby)\n",
    "# - a pie chart of the contributions (with df.groupby)\n",
    "# Stats can simply be produced by changing the groupby variable"
   ],
   "metadata": {
    "collapsed": false,
    "pycharm": {
     "name": "#%%\n"
    }
   }
  },
  {
   "cell_type": "markdown",
   "source": [
    "## Companies to engage"
   ],
   "metadata": {
    "collapsed": false,
    "pycharm": {
     "name": "#%% md\n"
    }
   }
  },
  {
   "cell_type": "code",
   "execution_count": 18,
   "outputs": [
    {
     "data": {
      "text/plain": "                   company_name  contribution  temperature_score  \\\n0                     Company N     11.194273                3.2   \n1   Advanced Micro Devices, Inc      3.701595                1.3   \n2                     Company Q      3.123983                3.2   \n16                   Company AA      2.603319                3.2   \n29                   Company AF      2.603319                3.2   \n28               NRG Energy Inc      2.603319                3.2   \n27                    Company E      2.603319                3.2   \n26             Sony Corporation      2.603319                3.2   \n25                       Nestlé      2.603319                3.2   \n23                    Company F      2.603319                3.2   \n\n    ownership_percentage  weights  \n0               0.189087     7.82  \n1               0.334454     6.36  \n2               4.811121     2.18  \n16              0.073838     1.82  \n29              0.974571     1.82  \n28              0.136632     1.82  \n27              3.386608     1.82  \n26              1.504369     1.82  \n25              0.369487     1.82  \n23              0.109647     1.82  ",
      "text/html": "<div>\n<style scoped>\n    .dataframe tbody tr th:only-of-type {\n        vertical-align: middle;\n    }\n\n    .dataframe tbody tr th {\n        vertical-align: top;\n    }\n\n    .dataframe thead th {\n        text-align: right;\n    }\n</style>\n<table border=\"1\" class=\"dataframe\">\n  <thead>\n    <tr style=\"text-align: right;\">\n      <th></th>\n      <th>company_name</th>\n      <th>contribution</th>\n      <th>temperature_score</th>\n      <th>ownership_percentage</th>\n      <th>weights</th>\n    </tr>\n  </thead>\n  <tbody>\n    <tr>\n      <th>0</th>\n      <td>Company N</td>\n      <td>11.194273</td>\n      <td>3.2</td>\n      <td>0.189087</td>\n      <td>7.82</td>\n    </tr>\n    <tr>\n      <th>1</th>\n      <td>Advanced Micro Devices, Inc</td>\n      <td>3.701595</td>\n      <td>1.3</td>\n      <td>0.334454</td>\n      <td>6.36</td>\n    </tr>\n    <tr>\n      <th>2</th>\n      <td>Company Q</td>\n      <td>3.123983</td>\n      <td>3.2</td>\n      <td>4.811121</td>\n      <td>2.18</td>\n    </tr>\n    <tr>\n      <th>16</th>\n      <td>Company AA</td>\n      <td>2.603319</td>\n      <td>3.2</td>\n      <td>0.073838</td>\n      <td>1.82</td>\n    </tr>\n    <tr>\n      <th>29</th>\n      <td>Company AF</td>\n      <td>2.603319</td>\n      <td>3.2</td>\n      <td>0.974571</td>\n      <td>1.82</td>\n    </tr>\n    <tr>\n      <th>28</th>\n      <td>NRG Energy Inc</td>\n      <td>2.603319</td>\n      <td>3.2</td>\n      <td>0.136632</td>\n      <td>1.82</td>\n    </tr>\n    <tr>\n      <th>27</th>\n      <td>Company E</td>\n      <td>2.603319</td>\n      <td>3.2</td>\n      <td>3.386608</td>\n      <td>1.82</td>\n    </tr>\n    <tr>\n      <th>26</th>\n      <td>Sony Corporation</td>\n      <td>2.603319</td>\n      <td>3.2</td>\n      <td>1.504369</td>\n      <td>1.82</td>\n    </tr>\n    <tr>\n      <th>25</th>\n      <td>Nestlé</td>\n      <td>2.603319</td>\n      <td>3.2</td>\n      <td>0.369487</td>\n      <td>1.82</td>\n    </tr>\n    <tr>\n      <th>23</th>\n      <td>Company F</td>\n      <td>2.603319</td>\n      <td>3.2</td>\n      <td>0.109647</td>\n      <td>1.82</td>\n    </tr>\n  </tbody>\n</table>\n</div>"
     },
     "execution_count": 18,
     "metadata": {},
     "output_type": "execute_result"
    }
   ],
   "source": [
    "df['ownership_percentage'] = 100 * df['investment_value'] / df['company_market_cap']\n",
    "df[['company_name', 'contribution', 'temperature_score', 'ownership_percentage', 'weights']][:10]"
   ],
   "metadata": {
    "collapsed": false,
    "pycharm": {
     "name": "#%%\n"
    }
   }
  },
  {
   "cell_type": "markdown",
   "source": [
    "### Scenarios\n",
    "To determine the effect of engaging (part of) your portfolio, you can run a number of scenarios:\n",
    " - 1: Engage companies to set targets. This means that the default score (i.e. the score when a company didn't set a target) will be set to 2 degrees celcius.\n",
    " - 2: Engage companies to have their targets validated by the SBTi. This means that the maximum score for all targets will be capped at 1.75 degrees celcius.\n",
    " - 3a: engage the top 10 contributors to set targets. This means that their default score (i.e. the score when a company didn't set a target) will be set to 2 degrees celcius.\n",
    " - 3b: engage the top 10 contributors to have their targets validated by the SBTi. This means that the maximum score for all the targets of these companies will be capped at 1.75 degrees celcius.\n",
    " - 4a: engage the predefined companies to set targets. This means that their default score (i.e. the score when a company didn't set a target) will be set to 2 degrees celcius.\n",
    " - 4b: engage the predefined companies to have their targets validated by the SBTi. This means that the maximum score for all the targets of these companies will be capped at 1.75 degrees celcius.\n",
    "\n",
    "In this example, we'll determine the effect of our scenario's by looking at the aggregated temperature score for the short timeframe in the combined s1s2s3 scope. Of course you can use multiple, or different criteria."
   ],
   "metadata": {
    "collapsed": false,
    "pycharm": {
     "name": "#%% md\n"
    }
   }
  },
  {
   "cell_type": "code",
   "execution_count": null,
   "outputs": [],
   "source": [
    "# See if it's possible to do scenario 4a:\n",
    "# - Set portfolio['engagement_target'] to 1 for given companies\n",
    "# - Rerun portfolio_data creation\n",
    "# - Assign Scenario\n",
    "# - Compute temperature scores"
   ],
   "metadata": {
    "collapsed": false,
    "pycharm": {
     "name": "#%%\n"
    }
   }
  },
  {
   "cell_type": "code",
   "execution_count": null,
   "outputs": [],
   "source": [
    "scenario = Scenario()\n",
    "scenario.scenario_type = ScenarioType.TARGETS\n",
    "scenario.engagement_type = None\n",
    "scenario.aggregation_method = PortfolioAggregationMethod.WATS\n",
    "scenario.grouping = None"
   ],
   "metadata": {
    "collapsed": false,
    "pycharm": {
     "name": "#%%\n"
    }
   }
  },
  {
   "cell_type": "code",
   "execution_count": null,
   "outputs": [],
   "source": [
    "temperature_score = TemperatureScore(time_frames=time_frames, scopes=scopes, scenario=scenario, aggregation_method=PortfolioAggregationMethod.WATS)\n",
    "scenario_one = temperature_score.calculate(portfolio_data.copy())\n",
    "scenario_aggregated = temperature_score.aggregate_scores(scenario_one)\n",
    "print_aggregations(scenario_aggregated)"
   ],
   "metadata": {
    "collapsed": false,
    "pycharm": {
     "name": "#%%\n"
    }
   }
  },
  {
   "cell_type": "code",
   "execution_count": null,
   "outputs": [],
   "source": [
    "portfolio_coverage_tvp = PortfolioCoverageTVP()\n",
    "coverage = portfolio_coverage_tvp.get_portfolio_coverage(amended_portfolio.copy(), PortfolioAggregationMethod.WATS)\n",
    "round(coverage * 100) / 100"
   ],
   "metadata": {
    "collapsed": false,
    "pycharm": {
     "name": "#%%\n"
    }
   }
  },
  {
   "cell_type": "code",
   "execution_count": null,
   "outputs": [],
   "source": [
    "# Use previously defined plotting function with groupby etc.\n",
    "# to plot same graphs as before to see effect of scenario."
   ],
   "metadata": {
    "collapsed": false,
    "pycharm": {
     "name": "#%%\n"
    }
   }
  },
  {
   "cell_type": "markdown",
   "source": [
    "### Save anonymized data for SBTi target validation\n",
    "In order for the targets to be validated by SBTi, you can save your data locally. By running the anonymize function, you can replace company identifiers with meaningless substitutes."
   ],
   "metadata": {
    "collapsed": false,
    "pycharm": {
     "name": "#%% md\n"
    }
   }
  },
  {
   "cell_type": "code",
   "execution_count": null,
   "outputs": [],
   "source": [
    "def anonymize(portfolio, provider):\n",
    "    portfolio_companies = portfolio['company_name'].unique()\n",
    "    for index, company_name in enumerate(portfolio_companies):\n",
    "        portfolio.loc[portfolio['company_name'] == company_name, 'company_id'] = 'C' + str(index + 1)\n",
    "        portfolio.loc[portfolio['company_name'] == company_name, 'company_isin'] = 'C' + str(index + 1)\n",
    "        provider.data['fundamental_data'].loc[provider.data['fundamental_data']['company_name'] == company_name, 'company_id'] = 'C' + str(index + 1)\n",
    "        provider.data['fundamental_data'].loc[provider.data['fundamental_data']['company_name'] == company_name, 'company_isic'] = 'C' + str(index + 1)\n",
    "        provider.data['target_data'].loc[provider.data['target_data']['company_name'] == company_name, 'company_id'] = 'C' + str(index + 1)\n",
    "        portfolio.loc[portfolio['company_name'] == company_name, 'company_name'] = 'Company' + str(\n",
    "            index + 1)\n",
    "        provider.data['fundamental_data'].loc[provider.data['fundamental_data']['company_name'] == company_name, 'company_name'] = 'Company' + str(\n",
    "                    index + 1)\n",
    "        provider.data['target_data'].loc[provider.data['target_data']['company_name'] == company_name, 'company_name'] = 'Company' + str(\n",
    "                    index + 1)\n",
    "    for index, company_name in enumerate(provider.data['fundamental_data']['company_name'].unique()):\n",
    "        if company_name not in portfolio['company_name'].unique():\n",
    "            provider.data['fundamental_data'].loc[provider.data['fundamental_data']['company_name'] == company_name, 'company_id'] = '_' + str(index + 1)\n",
    "            provider.data['fundamental_data'].loc[provider.data['fundamental_data']['company_name'] == company_name, 'company_name'] = 'Company_' + str(\n",
    "                                index + 1)\n",
    "    return portfolio, provider"
   ],
   "metadata": {
    "collapsed": false,
    "pycharm": {
     "name": "#%%\n"
    }
   }
  },
  {
   "cell_type": "code",
   "execution_count": null,
   "outputs": [],
   "source": [
    "portfolio, provider = anonymize(portfolio, provider)"
   ],
   "metadata": {
    "collapsed": false,
    "pycharm": {
     "name": "#%%\n"
    }
   }
  },
  {
   "cell_type": "markdown",
   "source": [
    "In order to store the portfolio and provider data locally, two options apply.\n",
    "If you use the SBTi tool from a docker container, for each of the following 3 cells:\n",
    "- Run the cell\n",
    "- Open an Excel file\n",
    "- Right-click an Excel cell and click 'paste' or select an Excel cell and press Ctrl+v\n",
    "- Save the Excel file"
   ],
   "metadata": {
    "collapsed": false,
    "pycharm": {
     "name": "#%% md\n"
    }
   }
  },
  {
   "cell_type": "code",
   "execution_count": null,
   "outputs": [],
   "source": [
    "portfolio.to_clipboard(excel=True, index=False)"
   ],
   "metadata": {
    "collapsed": false,
    "pycharm": {
     "name": "#%%\n"
    }
   }
  },
  {
   "cell_type": "code",
   "execution_count": null,
   "outputs": [],
   "source": [
    "provider.data['fundamental_data'].to_clipboard(excel=True, index=False)"
   ],
   "metadata": {
    "collapsed": false,
    "pycharm": {
     "name": "#%%\n"
    }
   }
  },
  {
   "cell_type": "code",
   "execution_count": null,
   "outputs": [],
   "source": [
    "provider.data['target_data'].to_clipboard(excel=True, index=False)"
   ],
   "metadata": {
    "collapsed": false,
    "pycharm": {
     "name": "#%%\n"
    }
   }
  },
  {
   "cell_type": "markdown",
   "source": [
    "If you run the SBTi tool locally, you:\n",
    "- Specify the directory and filenames in the cell below\n",
    "- Run the cell below"
   ],
   "metadata": {
    "collapsed": false,
    "pycharm": {
     "name": "#%% md\n"
    }
   }
  },
  {
   "cell_type": "code",
   "execution_count": null,
   "outputs": [],
   "source": [
    "portfolio_filename = 'C://Users//username//Documents//portfolio.xlsx'\n",
    "provider_filename = 'C://Users//username//Documents//provider.xlsx'\n",
    "portfolio.to_excel(portfolio_filename, index=False)\n",
    "provider.data['fundamental_data'].to_excel(provider_filename, sheet_name='fundamental_data', index=False)\n",
    "provider.data['target_data'].to_excel(provider_filename, sheet_name='target_data', index=False)"
   ],
   "metadata": {
    "collapsed": false,
    "pycharm": {
     "name": "#%%\n"
    }
   }
  }
 ],
 "metadata": {
  "kernelspec": {
   "display_name": "Python 3",
   "language": "python",
   "name": "python3"
  },
  "language_info": {
   "codemirror_mode": {
    "name": "ipython",
    "version": 2
   },
   "file_extension": ".py",
   "mimetype": "text/x-python",
   "name": "python",
   "nbconvert_exporter": "python",
   "pygments_lexer": "ipython2",
   "version": "2.7.6"
  }
 },
 "nbformat": 4,
 "nbformat_minor": 0
}