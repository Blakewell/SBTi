{
 "cells": [
  {
   "cell_type": "markdown",
   "metadata": {},
   "source": [
    "# SBTi-Finance Tool - Portfolio Aggregation\n",
    "In this notebook we'll give some examples on how the portfolio aggregation methods can be used.\n",
    "\n",
    "Please see the [methodoloogy, guidance](https://sciencebasedtargets.org/wp-content/uploads/2020/07/Temperature-Scoring-Beta-Methodology.pdf) (Section 3.2) and the [technical documentation](http://getting-started.sbti-tool.org/) for more details on the different aggregation methods.\n",
    "\n",
    "See 1_analysis_example for more in depth example of how to work with Jupyter Notebooks in general and SBTi notebooks in particular. \n"
   ]
  },
  {
   "cell_type": "markdown",
   "metadata": {},
   "source": [
    "## Setting up\n",
    "First we will set up the imports, data providers, and load the portfolio. \n",
    "\n",
    "For more examples of this process, please refer to notebook 1 & 2 (analysis and quick calculation example).\n"
   ]
  },
  {
   "cell_type": "code",
   "execution_count": null,
   "metadata": {},
   "outputs": [],
   "source": [
    "!pip install SBTi"
   ]
  },
  {
   "cell_type": "code",
   "execution_count": 1,
   "metadata": {},
   "outputs": [],
   "source": [
    "%load_ext autoreload\n",
    "%autoreload 2\n",
    "import SBTi\n",
    "from SBTi.data.excel import ExcelProvider\n",
    "from SBTi.portfolio_aggregation import PortfolioAggregationMethod\n",
    "from SBTi.portfolio_coverage_tvp import PortfolioCoverageTVP\n",
    "from SBTi.temperature_score import TemperatureScore, Scenario, ScenarioType, EngagementType\n",
    "from SBTi.target_validation import TargetProtocol\n",
    "from SBTi.interfaces import ETimeFrames, EScope\n",
    "%aimport -pandas\n",
    "import pandas as pd"
   ]
  },
  {
   "cell_type": "code",
   "execution_count": 2,
   "metadata": {},
   "outputs": [],
   "source": [
    "# Download the dummy data\n",
    "import urllib.request\n",
    "import os\n",
    "\n",
    "if not os.path.isdir(\"data\"):\n",
    "    os.mkdir(\"data\")\n",
    "if not os.path.isfile(\"data/data_provider_example.xlsx\"):\n",
    "    urllib.request.urlretrieve(\"https://github.com/OFBDABV/SBTi/raw/master/examples/data/data_provider_example.xlsx\", \"data/data_provider_example.xlsx\")\n",
    "if not os.path.isfile(\"data/example_portfolio.csv\"):\n",
    "    urllib.request.urlretrieve(\"https://github.com/OFBDABV/SBTi/raw/master/examples/data/example_portfolio.csv\", \"data/example_portfolio.csv\")\n",
    "\n",
    "try:  # Import statement when run in Google Colabs\n",
    "    from utils import  print_aggregations\n",
    "except:  # Import statement when run locally\n",
    "    from examples.utils import  print_aggregations"
   ]
  },
  {
   "cell_type": "code",
   "execution_count": 3,
   "metadata": {},
   "outputs": [],
   "source": [
    "provider = ExcelProvider(path=\"data/data_provider_example.xlsx\")\n",
    "df_portfolio = pd.read_csv(\"data/example_portfolio.csv\", encoding=\"iso-8859-1\")\n",
    "companies = SBTi.utils.dataframe_to_portfolio(df_portfolio)\n",
    "scores_collection = {}"
   ]
  },
  {
   "cell_type": "code",
   "execution_count": 4,
   "metadata": {},
   "outputs": [],
   "source": [
    "temperature_score = TemperatureScore(time_frames=list(SBTi.interfaces.ETimeFrames), scopes=[EScope.S1S2, EScope.S3, EScope.S1S2S3])\n",
    "amended_portfolio = temperature_score.calculate(data_providers=[provider], portfolio=companies)"
   ]
  },
  {
   "cell_type": "markdown",
   "metadata": {},
   "source": [
    "## Calculate the aggregated temperature score\n",
    "Calculate an aggregated temperature score. This can be done using different aggregation methods. The termperature scores are calculated per time-frame/scope combination."
   ]
  },
  {
   "cell_type": "markdown",
   "metadata": {
    "pycharm": {
     "name": "#%% md\n"
    }
   },
   "source": [
    "### WATS\n",
    "Weighted Average Temperature Score (WATS): Temperature scores are allocated based on portfolio weights.\n",
    "This method uses the \"investment_value\" field to be defined in your portfolio data."
   ]
  },
  {
   "cell_type": "code",
   "execution_count": 5,
   "metadata": {
    "pycharm": {
     "name": "#%%\n"
    }
   },
   "outputs": [
    {
     "name": "stdout",
     "output_type": "stream",
     "text": [
      "Timeframe  Scope      Temp score\n",
      "short      S1S2       2.54\n",
      "short      S3         2.93\n",
      "short      S1S2S3     2.83\n",
      "mid        S1S2       2.63\n",
      "mid        S3         2.98\n",
      "mid        S1S2S3     2.88\n",
      "long       S1S2       3.16\n",
      "long       S3         3.23\n",
      "long       S1S2S3     3.21\n"
     ]
    }
   ],
   "source": [
    "temperature_score.aggregation_method = PortfolioAggregationMethod.WATS\n",
    "aggregated_scores = temperature_score.aggregate_scores(amended_portfolio)\n",
    "print_aggregations(aggregated_scores)\n",
    "scores_collection.update({'WATS': aggregated_scores.mid.S1S2.all.score})"
   ]
  },
  {
   "cell_type": "markdown",
   "metadata": {
    "pycharm": {
     "name": "#%% md\n"
    }
   },
   "source": [
    "### TETS\n",
    "Total emissions weighted temperature score (TETS): Temperature scores are allocated based on historical emission weights using total company emissions. \n",
    "In addition to the portfolios \"investment value\" the TETS method requires company emissions, please refer to [Data Legends - Fundamental Data](https://ofbdabv.github.io/SBTi/Legends.html#fundamental-data) for more details"
   ]
  },
  {
   "cell_type": "code",
   "execution_count": 6,
   "metadata": {
    "pycharm": {
     "name": "#%%\n"
    }
   },
   "outputs": [
    {
     "name": "stdout",
     "output_type": "stream",
     "text": [
      "Timeframe  Scope      Temp score\n",
      "short      S1S2       2.84\n",
      "short      S3         2.50\n",
      "short      S1S2S3     2.62\n",
      "mid        S1S2       2.92\n",
      "mid        S3         2.76\n",
      "mid        S1S2S3     2.82\n",
      "long       S1S2       2.93\n",
      "long       S3         3.21\n",
      "long       S1S2S3     3.11\n"
     ]
    }
   ],
   "source": [
    "temperature_score.aggregation_method = PortfolioAggregationMethod.TETS\n",
    "aggregated_scores = temperature_score.aggregate_scores(amended_portfolio)\n",
    "print_aggregations(aggregated_scores)\n",
    "scores_collection.update({'TEST': aggregated_scores.mid.S1S2.all.score})"
   ]
  },
  {
   "cell_type": "markdown",
   "metadata": {
    "pycharm": {
     "name": "#%% md\n"
    }
   },
   "source": [
    "### MOTS\n",
    "Market Owned emissions weighted temperature score (MOTS): Temperature scores are allocated based on an equity ownership approach.\n",
    "In addition to the portfolios \"investment value\" the MOTS method requires company emissions and market cap, please refer to  [Data Legends - Fundamental Data](https://ofbdabv.github.io/SBTi/Legends.html#fundamental-data) for more details"
   ]
  },
  {
   "cell_type": "code",
   "execution_count": 7,
   "metadata": {
    "pycharm": {
     "name": "#%%\n"
    }
   },
   "outputs": [
    {
     "name": "stdout",
     "output_type": "stream",
     "text": [
      "Timeframe  Scope      Temp score\n",
      "short      S1S2       2.95\n",
      "short      S3         2.66\n",
      "short      S1S2S3     2.76\n",
      "mid        S1S2       3.04\n",
      "mid        S3         2.47\n",
      "mid        S1S2S3     2.67\n",
      "long       S1S2       3.13\n",
      "long       S3         3.20\n",
      "long       S1S2S3     3.18\n"
     ]
    }
   ],
   "source": [
    "temperature_score.aggregation_method = PortfolioAggregationMethod.MOTS\n",
    "aggregated_scores = temperature_score.aggregate_scores(amended_portfolio)\n",
    "print_aggregations(aggregated_scores)\n",
    "scores_collection.update({'MOTS': aggregated_scores.mid.S1S2.all.score})"
   ]
  },
  {
   "cell_type": "markdown",
   "metadata": {
    "pycharm": {
     "name": "#%% md\n"
    }
   },
   "source": [
    "### EOTS\n",
    "Enterprise Owned emissions weighted temperature score (EOTS): Temperature scores are allocated based\n",
    "on an enterprise ownership approach. \n",
    "In addition to the portfolios \"investment value\" the EOTS method requires company emissions and enterprise value, please refer to  [Data Legends - Fundamental Data](https://ofbdabv.github.io/SBTi/Legends.html#fundamental-data) for more details"
   ]
  },
  {
   "cell_type": "code",
   "execution_count": 8,
   "metadata": {
    "pycharm": {
     "name": "#%%\n"
    }
   },
   "outputs": [
    {
     "name": "stdout",
     "output_type": "stream",
     "text": [
      "Timeframe  Scope      Temp score\n",
      "short      S1S2       2.99\n",
      "short      S3         2.50\n",
      "short      S1S2S3     2.69\n",
      "mid        S1S2       3.02\n",
      "mid        S3         2.20\n",
      "mid        S1S2S3     2.52\n",
      "long       S1S2       3.16\n",
      "long       S3         3.20\n",
      "long       S1S2S3     3.19\n"
     ]
    }
   ],
   "source": [
    "temperature_score.aggregation_method = PortfolioAggregationMethod.EOTS\n",
    "aggregated_scores = temperature_score.aggregate_scores(amended_portfolio)\n",
    "print_aggregations(aggregated_scores)\n",
    "scores_collection.update({'EOTS': aggregated_scores.mid.S1S2.all.score})"
   ]
  },
  {
   "cell_type": "markdown",
   "metadata": {
    "pycharm": {
     "name": "#%% md\n"
    }
   },
   "source": [
    "### ECOTS\n",
    "Enterprise Value + Cash emissions weighted temperature score (ECOTS): Temperature scores are allocated based on an enterprise value (EV) plus cash & equivalents ownership approach. \n",
    "In addition to the portfolios \"investment value\" the ECOTS method requires company emissions, company cash equivalents and enterprise value; please refer to  [Data Legends - Fundamental Data](https://ofbdabv.github.io/SBTi/Legends.html#fundamental-data) for more details"
   ]
  },
  {
   "cell_type": "code",
   "execution_count": 9,
   "metadata": {
    "pycharm": {
     "name": "#%%\n"
    }
   },
   "outputs": [
    {
     "name": "stdout",
     "output_type": "stream",
     "text": [
      "Timeframe  Scope      Temp score\n",
      "short      S1S2       2.96\n",
      "short      S3         2.51\n",
      "short      S1S2S3     2.68\n",
      "mid        S1S2       3.00\n",
      "mid        S3         2.41\n",
      "mid        S1S2S3     2.63\n",
      "long       S1S2       3.14\n",
      "long       S3         3.21\n",
      "long       S1S2S3     3.18\n"
     ]
    }
   ],
   "source": [
    "temperature_score.aggregation_method = PortfolioAggregationMethod.ECOTS\n",
    "aggregated_scores = temperature_score.aggregate_scores(amended_portfolio)\n",
    "print_aggregations(aggregated_scores)\n",
    "scores_collection.update({'ECOTS': aggregated_scores.mid.S1S2.all.score})"
   ]
  },
  {
   "cell_type": "markdown",
   "metadata": {
    "pycharm": {
     "name": "#%% md\n"
    }
   },
   "source": [
    "### AOTS\n",
    "Total Assets emissions weighted temperature score (AOTS): Temperature scores are allocated based on a total assets ownership approach. \n",
    "In addition to the portfolios \"investment value\" the AOTS method requires company emissions and company total assets; please refer to  [Data Legends - Fundamental Data](https://ofbdabv.github.io/SBTi/Legends.html#fundamental-data) for more details"
   ]
  },
  {
   "cell_type": "code",
   "execution_count": 10,
   "metadata": {
    "pycharm": {
     "name": "#%%\n"
    }
   },
   "outputs": [
    {
     "name": "stdout",
     "output_type": "stream",
     "text": [
      "Timeframe  Scope      Temp score\n",
      "short      S1S2       2.01\n",
      "short      S3         0.87\n",
      "short      S1S2S3     1.22\n",
      "mid        S1S2       2.09\n",
      "mid        S3         3.11\n",
      "mid        S1S2S3     2.80\n",
      "long       S1S2       3.19\n",
      "long       S3         3.21\n",
      "long       S1S2S3     3.21\n"
     ]
    }
   ],
   "source": [
    "temperature_score.aggregation_method = PortfolioAggregationMethod.AOTS\n",
    "aggregated_scores = temperature_score.aggregate_scores(amended_portfolio)\n",
    "print_aggregations(aggregated_scores)\n",
    "scores_collection.update({'AOTS': aggregated_scores.mid.S1S2.all.score})"
   ]
  },
  {
   "cell_type": "markdown",
   "metadata": {
    "pycharm": {
     "name": "#%% md\n"
    }
   },
   "source": [
    "See below how each aggregation method impact the scores on timeframe: MID and scope: S1S2"
   ]
  },
  {
   "cell_type": "code",
   "execution_count": 11,
   "metadata": {
    "pycharm": {
     "name": "#%%\n"
    }
   },
   "outputs": [
    {
     "name": "stdout",
     "output_type": "stream",
     "text": [
      "Aggregation overview:\n",
      "WATS \t 2.63\n",
      "TEST \t 2.92\n",
      "MOTS \t 3.04\n",
      "EOTS \t 3.02\n",
      "ECOTS \t 3.00\n",
      "AOTS \t 2.09\n"
     ]
    }
   ],
   "source": [
    "print('Aggregation overview:')\n",
    "for method, score in scores_collection.items():\n",
    "    print('{} \\t {:.2f}'.format(method, score))"
   ]
  }
 ],
 "metadata": {
  "kernelspec": {
   "display_name": "Python 3",
   "language": "python",
   "name": "python3"
  },
  "language_info": {
   "codemirror_mode": {
    "name": "ipython",
    "version": 3
   },
   "file_extension": ".py",
   "mimetype": "text/x-python",
   "name": "python",
   "nbconvert_exporter": "python",
   "pygments_lexer": "ipython3",
   "version": "3.7.8"
  },
  "pycharm": {
   "stem_cell": {
    "cell_type": "raw",
    "source": [],
    "metadata": {
     "collapsed": false
    }
   }
  }
 },
 "nbformat": 4,
 "nbformat_minor": 4
}