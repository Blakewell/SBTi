{
 "cells": [
  {
   "cell_type": "markdown",
   "metadata": {},
   "source": [
    "# Scenarios\n",
    "In this notebook we'll show how to run different scenario's on your portfolio, to see what a certain action would do to your temperature score."
   ]
  },
  {
   "cell_type": "markdown",
   "metadata": {},
   "source": [
    "### Setting up\n",
    "We'll set up the imports, data providers, and load the portfolio. For more details about this, please have a look at notebook one (getting started)."
   ]
  },
  {
   "cell_type": "code",
   "execution_count": null,
   "metadata": {},
   "outputs": [],
   "source": [
    "# Only required if you didn't install the module yet\n",
    "!pip install SBTi"
   ]
  },
  {
   "cell_type": "code",
   "execution_count": 2,
   "metadata": {},
   "outputs": [],
   "source": [
    "%load_ext autoreload\n",
    "%autoreload 2\n",
    "import SBTi\n",
    "from SBTi.data.excel import ExcelProvider\n",
    "from SBTi.portfolio_aggregation import PortfolioAggregationMethod\n",
    "from SBTi.portfolio_coverage_tvp import PortfolioCoverageTVP\n",
    "from SBTi.temperature_score import TemperatureScore, Scenario, ScenarioType, EngagementType\n",
    "from SBTi.target_validation import TargetProtocol\n",
    "from SBTi.interfaces import ETimeFrames, EScope\n",
    "%aimport -pandas\n",
    "import pandas as pd"
   ]
  },
  {
   "cell_type": "code",
   "execution_count": 3,
   "metadata": {},
   "outputs": [],
   "source": [
    "# Download the dummy data\n",
    "import urllib.request\n",
    "import os\n",
    "\n",
    "if not os.path.isdir(\"data\"):\n",
    "    os.mkdir(\"data\")\n",
    "if not os.path.isfile(\"data/data_provider_example.xlsx\"):\n",
    "    urllib.request.urlretrieve(\"https://github.com/OFBDABV/SBTi/raw/master/examples/data/data_provider_example.xlsx\", \"data/data_provider_example.xlsx\")\n",
    "if not os.path.isfile(\"example_portfolio.csv\"):\n",
    "    urllib.request.urlretrieve(\"https://github.com/OFBDABV/SBTi/raw/master/examples/example_portfolio.csv\", \"example_portfolio.csv\")"
   ]
  },
  {
   "cell_type": "code",
   "execution_count": 4,
   "metadata": {
    "scrolled": false
   },
   "outputs": [],
   "source": [
    "provider = ExcelProvider(path=\"data/data_provider_example.xlsx\")\n",
    "portfolio = pd.read_csv(\"example_portfolio.csv\", encoding=\"iso-8859-1\")\n",
    "companies = [SBTi.interfaces.PortfolioCompany.parse_obj(company) for company in portfolio.to_dict(orient=\"records\")]\n",
    "portfolio_data = SBTi.utils.get_data([provider], companies)"
   ]
  },
  {
   "cell_type": "markdown",
   "metadata": {},
   "source": [
    "## Base scenario\n",
    "To determine what the effect is of running a certain scenario, we first need a base line. To do so, we run the calculate method of the temperature score, without defining a scenario. We'll determine the effect of our scenario's by looking at the aggregated temperature score for the short timeframe in the combined s1s2s3 scope. Of course you can use multiple, or different criteria."
   ]
  },
  {
   "cell_type": "code",
   "execution_count": 6,
   "metadata": {},
   "outputs": [],
   "source": [
    "time_frames = list(SBTi.interfaces.ETimeFrames), \n",
    "scopes = [EScope.S1S2, EScope.S3, EScope.S1S2S3],"
   ]
  },
  {
   "cell_type": "code",
   "execution_count": 7,
   "metadata": {
    "scrolled": false
   },
   "outputs": [
    {
     "ename": "AttributeError",
     "evalue": "'tuple' object has no attribute 'copy'",
     "output_type": "error",
     "traceback": [
      "\u001b[1;31m---------------------------------------------------------------------------\u001b[0m",
      "\u001b[1;31mAttributeError\u001b[0m                            Traceback (most recent call last)",
      "\u001b[1;32m<ipython-input-7-5e31d35db43d>\u001b[0m in \u001b[0;36m<module>\u001b[1;34m\u001b[0m\n\u001b[0;32m      1\u001b[0m \u001b[0mtemperature_score\u001b[0m \u001b[1;33m=\u001b[0m \u001b[0mTemperatureScore\u001b[0m\u001b[1;33m(\u001b[0m\u001b[0mtime_frames\u001b[0m\u001b[1;33m=\u001b[0m\u001b[0mtime_frames\u001b[0m\u001b[1;33m,\u001b[0m \u001b[0mscopes\u001b[0m\u001b[1;33m=\u001b[0m\u001b[0mscopes\u001b[0m\u001b[1;33m)\u001b[0m\u001b[1;33m\u001b[0m\u001b[1;33m\u001b[0m\u001b[0m\n\u001b[1;32m----> 2\u001b[1;33m \u001b[0mbase_scenario\u001b[0m \u001b[1;33m=\u001b[0m \u001b[0mtemperature_score\u001b[0m\u001b[1;33m.\u001b[0m\u001b[0mcalculate\u001b[0m\u001b[1;33m(\u001b[0m\u001b[0mportfolio_data\u001b[0m\u001b[1;33m.\u001b[0m\u001b[0mcopy\u001b[0m\u001b[1;33m(\u001b[0m\u001b[1;33m)\u001b[0m\u001b[1;33m)\u001b[0m\u001b[1;33m\u001b[0m\u001b[1;33m\u001b[0m\u001b[0m\n\u001b[0m\u001b[0;32m      3\u001b[0m \u001b[0mbase_scenario_aggregated\u001b[0m \u001b[1;33m=\u001b[0m \u001b[0mtemperature_score\u001b[0m\u001b[1;33m.\u001b[0m\u001b[0maggregate_scores\u001b[0m\u001b[1;33m(\u001b[0m\u001b[0mbase_scenario\u001b[0m\u001b[1;33m)\u001b[0m\u001b[1;33m\u001b[0m\u001b[1;33m\u001b[0m\u001b[0m\n\u001b[0;32m      4\u001b[0m \u001b[0mbase_scenario_aggregated\u001b[0m\u001b[1;33m[\u001b[0m\u001b[1;34m\"short\"\u001b[0m\u001b[1;33m]\u001b[0m\u001b[1;33m[\u001b[0m\u001b[1;34m\"s1s2s3\"\u001b[0m\u001b[1;33m]\u001b[0m\u001b[1;33m[\u001b[0m\u001b[1;34m\"all\"\u001b[0m\u001b[1;33m]\u001b[0m\u001b[1;33m[\u001b[0m\u001b[1;34m\"score\"\u001b[0m\u001b[1;33m]\u001b[0m\u001b[1;33m\u001b[0m\u001b[1;33m\u001b[0m\u001b[0m\n",
      "\u001b[1;32mc:\\users\\janthiemenp\\development\\sbti\\SBTi\\temperature_score.py\u001b[0m in \u001b[0;36mcalculate\u001b[1;34m(self, data)\u001b[0m\n\u001b[0;32m    344\u001b[0m         \u001b[1;33m:\u001b[0m\u001b[1;32mreturn\u001b[0m\u001b[1;33m:\u001b[0m \u001b[0mA\u001b[0m \u001b[0mdata\u001b[0m \u001b[0mframe\u001b[0m \u001b[0mcontaining\u001b[0m \u001b[0mall\u001b[0m \u001b[0mrelevant\u001b[0m \u001b[0minformation\u001b[0m \u001b[1;32mfor\u001b[0m \u001b[0mthe\u001b[0m \u001b[0mtargets\u001b[0m \u001b[1;32mand\u001b[0m \u001b[0mcompanies\u001b[0m\u001b[1;33m\u001b[0m\u001b[1;33m\u001b[0m\u001b[0m\n\u001b[0;32m    345\u001b[0m         \"\"\"\n\u001b[1;32m--> 346\u001b[1;33m         \u001b[0mdata\u001b[0m \u001b[1;33m=\u001b[0m \u001b[0mself\u001b[0m\u001b[1;33m.\u001b[0m\u001b[0m_prepare_data\u001b[0m\u001b[1;33m(\u001b[0m\u001b[0mdata\u001b[0m\u001b[1;33m)\u001b[0m\u001b[1;33m\u001b[0m\u001b[1;33m\u001b[0m\u001b[0m\n\u001b[0m\u001b[0;32m    347\u001b[0m \u001b[1;33m\u001b[0m\u001b[0m\n\u001b[0;32m    348\u001b[0m         \u001b[1;32mif\u001b[0m \u001b[0mEScope\u001b[0m\u001b[1;33m.\u001b[0m\u001b[0mS1S2S3\u001b[0m \u001b[1;32min\u001b[0m \u001b[0mself\u001b[0m\u001b[1;33m.\u001b[0m\u001b[0mscopes\u001b[0m\u001b[1;33m:\u001b[0m\u001b[1;33m\u001b[0m\u001b[1;33m\u001b[0m\u001b[0m\n",
      "\u001b[1;32mc:\\users\\janthiemenp\\development\\sbti\\SBTi\\temperature_score.py\u001b[0m in \u001b[0;36m_prepare_data\u001b[1;34m(self, data)\u001b[0m\n\u001b[0;32m    297\u001b[0m         \"\"\"\n\u001b[0;32m    298\u001b[0m         \u001b[1;31m# If scope S1S2S3 is in the list of scopes to calculate, we need to calculate the other two as well\u001b[0m\u001b[1;33m\u001b[0m\u001b[1;33m\u001b[0m\u001b[1;33m\u001b[0m\u001b[0m\n\u001b[1;32m--> 299\u001b[1;33m         \u001b[0mscopes\u001b[0m \u001b[1;33m=\u001b[0m \u001b[0mself\u001b[0m\u001b[1;33m.\u001b[0m\u001b[0mscopes\u001b[0m\u001b[1;33m.\u001b[0m\u001b[0mcopy\u001b[0m\u001b[1;33m(\u001b[0m\u001b[1;33m)\u001b[0m\u001b[1;33m\u001b[0m\u001b[1;33m\u001b[0m\u001b[0m\n\u001b[0m\u001b[0;32m    300\u001b[0m         \u001b[1;32mif\u001b[0m \u001b[0mEScope\u001b[0m\u001b[1;33m.\u001b[0m\u001b[0mS1S2S3\u001b[0m \u001b[1;32min\u001b[0m \u001b[0mself\u001b[0m\u001b[1;33m.\u001b[0m\u001b[0mscopes\u001b[0m \u001b[1;32mand\u001b[0m \u001b[0mEScope\u001b[0m\u001b[1;33m.\u001b[0m\u001b[0mS1S2\u001b[0m \u001b[1;32mnot\u001b[0m \u001b[1;32min\u001b[0m \u001b[0mself\u001b[0m\u001b[1;33m.\u001b[0m\u001b[0mscopes\u001b[0m\u001b[1;33m:\u001b[0m\u001b[1;33m\u001b[0m\u001b[1;33m\u001b[0m\u001b[0m\n\u001b[0;32m    301\u001b[0m             \u001b[0mscopes\u001b[0m\u001b[1;33m.\u001b[0m\u001b[0mappend\u001b[0m\u001b[1;33m(\u001b[0m\u001b[0mEScope\u001b[0m\u001b[1;33m.\u001b[0m\u001b[0mS1S2\u001b[0m\u001b[1;33m)\u001b[0m\u001b[1;33m\u001b[0m\u001b[1;33m\u001b[0m\u001b[0m\n",
      "\u001b[1;31mAttributeError\u001b[0m: 'tuple' object has no attribute 'copy'"
     ]
    }
   ],
   "source": [
    "temperature_score = TemperatureScore(time_frames=time_frames, scopes=scopes)\n",
    "base_scenario = temperature_score.calculate(portfolio_data.copy())\n",
    "base_scenario_aggregated = temperature_score.aggregate_scores(base_scenario)\n",
    "base_scenario_aggregated[\"short\"][\"s1s2s3\"][\"all\"][\"score\"]"
   ]
  },
  {
   "cell_type": "markdown",
   "metadata": {},
   "source": [
    "## Scenario 1\n",
    "In scenario 1 we engage companies to set targets. This means that the default score (i.e. the score when a company didn't set a target) will be set to 2 degrees celcius."
   ]
  },
  {
   "cell_type": "code",
   "execution_count": null,
   "metadata": {},
   "outputs": [],
   "source": [
    "scenario = Scenario()\n",
    "scenario.scenario_type = ScenarioType.TARGETS\n",
    "scenario.engagement_type = None\n",
    "scenario.aggregation_method = PortfolioAggregationMethod.WATS\n",
    "scenario.grouping = None"
   ]
  },
  {
   "cell_type": "code",
   "execution_count": null,
   "metadata": {},
   "outputs": [],
   "source": [
    "temperature_score = TemperatureScore(time_frames=time_frames, scopes=scopes, aggregation_method=PortfolioAggregationMethod.WATS)\n",
    "temperature_score.set_scenario(scenario)\n",
    "scenario_one = temperature_score.calculate(portfolio_data.copy())\n",
    "base_scenario_aggregated = temperature_score.aggregate_scores(base_scenario)\n",
    "scenario_one[\"short\"][\"s1s2s3\"][\"all\"][\"score\"]"
   ]
  },
  {
   "cell_type": "markdown",
   "metadata": {},
   "source": [
    "## Scenario 2\n",
    "In scenario 2 we engage companies to have their targets validated by the SBTi. This means that the maximum score for all targets will be capped at 1.75 degrees celcius."
   ]
  },
  {
   "cell_type": "code",
   "execution_count": null,
   "metadata": {},
   "outputs": [],
   "source": [
    "scenario = Scenario()\n",
    "scenario.scenario_type = ScenarioType.APPROVED_TARGETS\n",
    "scenario.engagement_type = None\n",
    "scenario.aggregation_method = PortfolioAggregationMethod.WATS\n",
    "scenario.grouping = None"
   ]
  },
  {
   "cell_type": "code",
   "execution_count": null,
   "metadata": {},
   "outputs": [],
   "source": [
    "temperature_score = TemperatureScore(time_frames=time_frames, scopes=scopes, aggregation_method=PortfolioAggregationMethod.WATS)\n",
    "temperature_score.set_scenario(scenario)\n",
    "scenario_two = temperature_score.calculate(portfolio_data.copy())\n",
    "base_scenario_aggregated = temperature_score.aggregate_scores(base_scenario)\n",
    "scenario_two[\"short\"][\"s1s2s3\"][\"all\"][\"score\"]"
   ]
  },
  {
   "cell_type": "markdown",
   "metadata": {},
   "source": [
    "## Scenario 3a\n",
    "In scenario 3a we engage the top 10 contributors to set targets. This means that their default score (i.e. the score when a company didn't set a target) will be set to 2 degrees celcius."
   ]
  },
  {
   "cell_type": "code",
   "execution_count": null,
   "metadata": {},
   "outputs": [],
   "source": [
    "scenario = Scenario()\n",
    "scenario.scenario_type = ScenarioType.HIGHEST_CONTRIBUTORS\n",
    "scenario.engagement_type = EngagementType.SET_TARGETS\n",
    "scenario.aggregation_method = PortfolioAggregationMethod.WATS\n",
    "scenario.grouping = None"
   ]
  },
  {
   "cell_type": "code",
   "execution_count": null,
   "metadata": {},
   "outputs": [],
   "source": [
    "temperature_score = TemperatureScore(time_frames=time_frames, scopes=scopes, aggregation_method=PortfolioAggregationMethod.WATS)\n",
    "temperature_score.set_scenario(scenario)\n",
    "scenario_two = temperature_score.calculate(portfolio_data.copy())\n",
    "base_scenario_aggregated = temperature_score.aggregate_scores(base_scenario)\n",
    "scenario_two[\"short\"][\"s1s2s3\"][\"all\"][\"score\"]"
   ]
  },
  {
   "cell_type": "markdown",
   "metadata": {},
   "source": [
    "## Scenario 3b\n",
    "In scenario 3b we engage the top 10 contributors to have their targets validated by the SBTi. This means that the maximum score for all the targets of these companies will be capped at 1.75 degrees celcius."
   ]
  },
  {
   "cell_type": "code",
   "execution_count": null,
   "metadata": {},
   "outputs": [],
   "source": [
    "scenario = Scenario()\n",
    "scenario.scenario_type = ScenarioType.HIGHEST_CONTRIBUTORS\n",
    "scenario.engagement_type = EngagementType.SET_SBTI_TARGETS\n",
    "scenario.aggregation_method = PortfolioAggregationMethod.WATS\n",
    "scenario.grouping = None"
   ]
  },
  {
   "cell_type": "code",
   "execution_count": null,
   "metadata": {},
   "outputs": [],
   "source": [
    "temperature_score = TemperatureScore(time_frames=time_frames, scopes=scopes, aggregation_method=PortfolioAggregationMethod.WATS)\n",
    "temperature_score.set_scenario(scenario)\n",
    "scenario_two = temperature_score.calculate(portfolio_data.copy())\n",
    "base_scenario_aggregated = temperature_score.aggregate_scores(base_scenario)\n",
    "scenario_two[\"short\"][\"s1s2s3\"][\"all\"][\"score\"]"
   ]
  },
  {
   "cell_type": "markdown",
   "metadata": {},
   "source": [
    "## Scenario 4a\n",
    "In scenario 4a we engage the predefined companoies to set targets. This means that their default score (i.e. the score when a company didn't set a target) will be set to 2 degrees celcius."
   ]
  },
  {
   "cell_type": "code",
   "execution_count": null,
   "metadata": {},
   "outputs": [],
   "source": [
    "scenario = Scenario()\n",
    "scenario.scenario_type = ScenarioType.HIGHEST_CONTRIBUTORS_APPROVED\n",
    "scenario.engagement_type = EngagementType.SET_TARGETS\n",
    "scenario.aggregation_method = PortfolioAggregationMethod.WATS\n",
    "scenario.grouping = None"
   ]
  },
  {
   "cell_type": "code",
   "execution_count": null,
   "metadata": {},
   "outputs": [],
   "source": [
    "temperature_score = TemperatureScore(time_frames=time_frames, scopes=scopes, aggregation_method=PortfolioAggregationMethod.WATS)\n",
    "temperature_score.set_scenario(scenario)\n",
    "scenario_two = temperature_score.calculate(portfolio_data.copy())\n",
    "base_scenario_aggregated = temperature_score.aggregate_scores(base_scenario)\n",
    "scenario_two[\"short\"][\"s1s2s3\"][\"all\"][\"score\"]"
   ]
  },
  {
   "cell_type": "markdown",
   "metadata": {},
   "source": [
    "## Scenario 4b\n",
    "In scenario 4b we engage the predefined companies to have their targets validated by the SBTi. This means that the maximum score for all the targets of these companies will be capped at 1.75 degrees celcius."
   ]
  },
  {
   "cell_type": "code",
   "execution_count": null,
   "metadata": {},
   "outputs": [],
   "source": [
    "scenario = Scenario()\n",
    "scenario.scenario_type = ScenarioType.HIGHEST_CONTRIBUTORS_APPROVED\n",
    "scenario.engagement_type = EngagementType.SET_SBTI_TARGETS\n",
    "scenario.aggregation_method = PortfolioAggregationMethod.WATS\n",
    "scenario.grouping = None"
   ]
  },
  {
   "cell_type": "code",
   "execution_count": null,
   "metadata": {},
   "outputs": [],
   "source": [
    "temperature_score = TemperatureScore(time_frames=time_frames, scopes=scopes, aggregation_method=PortfolioAggregationMethod.WATS)\n",
    "temperature_score.set_scenario(scenario)\n",
    "scenario_two = temperature_score.calculate(portfolio_data.copy())\n",
    "base_scenario_aggregated = temperature_score.aggregate_scores(base_scenario)\n",
    "scenario_two[\"short\"][\"s1s2s3\"][\"all\"][\"score\"]"
   ]
  }
 ],
 "metadata": {
  "kernelspec": {
   "display_name": "Python 3",
   "language": "python",
   "name": "python3"
  },
  "language_info": {
   "codemirror_mode": {
    "name": "ipython",
    "version": 3
   },
   "file_extension": ".py",
   "mimetype": "text/x-python",
   "name": "python",
   "nbconvert_exporter": "python",
   "pygments_lexer": "ipython3",
   "version": "3.7.6"
  }
 },
 "nbformat": 4,
 "nbformat_minor": 4
}
