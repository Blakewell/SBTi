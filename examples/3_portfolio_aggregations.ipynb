{
 "cells": [
  {
   "cell_type": "markdown",
   "metadata": {},
   "source": [
    "# Portfolio aggregations\n",
    "In this notebook we'll give some examples on how the portfolio aggregation methods can be used."
   ]
  },
  {
   "cell_type": "markdown",
   "metadata": {},
   "source": [
    "### Setting up\n",
    "We'll set up the imports, data providers, and load the portfolio. For more details about this, please have a look at notebook one (getting started)."
   ]
  },
  {
   "cell_type": "code",
   "execution_count": null,
   "metadata": {},
   "outputs": [],
   "source": [
    "# Only required if you didn't install the module yet. Uncomment the second line and comment out the third line if you wish to use the official release.\n",
    "# !pip install SBTi\n",
    "!pip install git+git://github.com/OFBDABV/SBTi"
   ]
  },
  {
   "cell_type": "code",
   "execution_count": 1,
   "metadata": {},
   "outputs": [],
   "source": [
    "%load_ext autoreload\n",
    "%autoreload 2\n",
    "import SBTi\n",
    "from SBTi.data.excel import ExcelProvider\n",
    "from SBTi.portfolio_aggregation import PortfolioAggregationMethod\n",
    "from SBTi.portfolio_coverage_tvp import PortfolioCoverageTVP\n",
    "from SBTi.temperature_score import TemperatureScore, Scenario, ScenarioType, EngagementType\n",
    "from SBTi.target_validation import TargetProtocol\n",
    "from SBTi.interfaces import ETimeFrames, EScope\n",
    "%aimport -pandas\n",
    "import pandas as pd"
   ]
  },
  {
   "cell_type": "code",
   "execution_count": 2,
   "metadata": {},
   "outputs": [],
   "source": [
    "# Download the dummy data\n",
    "import urllib.request\n",
    "import os\n",
    "\n",
    "if not os.path.isdir(\"data\"):\n",
    "    os.mkdir(\"data\")\n",
    "if not os.path.isfile(\"data/data_provider_example.xlsx\"):\n",
    "    urllib.request.urlretrieve(\"https://github.com/OFBDABV/SBTi/raw/master/examples/data/data_provider_example.xlsx\", \"data/data_provider_example.xlsx\")\n",
    "if not os.path.isfile(\"example_portfolio.csv\"):\n",
    "    urllib.request.urlretrieve(\"https://github.com/OFBDABV/SBTi/raw/master/examples/example_portfolio.csv\", \"example_portfolio.csv\")"
   ]
  },
  {
   "cell_type": "code",
   "execution_count": 3,
   "metadata": {},
   "outputs": [],
   "source": [
    "provider = ExcelProvider(path=\"data/data_provider_example.xlsx\")\n",
    "df_portfolio = pd.read_csv(\"example_portfolio.csv\", encoding=\"iso-8859-1\")\n",
    "companies = SBTi.utils.dataframe_to_portfolio(df_portfolio)"
   ]
  },
  {
   "cell_type": "code",
   "execution_count": 4,
   "metadata": {},
   "outputs": [],
   "source": [
    "temperature_score = TemperatureScore(time_frames=list(SBTi.interfaces.ETimeFrames), scopes=[EScope.S1S2, EScope.S3, EScope.S1S2S3])\n",
    "amended_portfolio = temperature_score.calculate(data_providers=[provider], portfolio=companies)"
   ]
  },
  {
   "cell_type": "markdown",
   "metadata": {},
   "source": [
    "### Calculate the aggregated temperature score\n",
    "Calculate an aggregated temperature score. This can be done use different aggregation methods. The termperature scores are calculated per time-frame/scope combination."
   ]
  },
  {
   "cell_type": "code",
   "execution_count": 5,
   "metadata": {},
   "outputs": [],
   "source": [
    "def print_aggregations(aggregations):\n",
    "    aggregations = aggregations.dict()\n",
    "    for time_frame, time_frame_values in aggregations.items():\n",
    "        for scope, scope_values in time_frame_values.items():\n",
    "            print(\"{} - {}: {} degrees celcius\".format(time_frame, scope, scope_values[\"all\"][\"score\"]))"
   ]
  },
  {
   "cell_type": "markdown",
   "metadata": {},
   "source": [
    "#### WATS\n",
    "Weighted Average Temperature Score (WATS): Temperature scores are allocated based on portfolio weights.\n",
    "This requires the \"investment_value\" field to be defined in your data set."
   ]
  },
  {
   "cell_type": "code",
   "execution_count": 6,
   "metadata": {},
   "outputs": [
    {
     "name": "stdout",
     "output_type": "stream",
     "text": [
      "short - S1S2: 2.2349090909090905 degrees celcius\n",
      "short - S3: 2.8205454545454542 degrees celcius\n",
      "short - S1S2S3: 2.670272727272727 degrees celcius\n",
      "mid - S1S2: 2.7351818181818177 degrees celcius\n",
      "mid - S3: 3.0340000000000003 degrees celcius\n",
      "mid - S1S2S3: 2.9639090909090906 degrees celcius\n",
      "long - S1S2: 3.122181818181818 degrees celcius\n",
      "long - S3: 3.2258181818181817 degrees celcius\n",
      "long - S1S2S3: 3.199636363636363 degrees celcius\n"
     ]
    }
   ],
   "source": [
    "temperature_score.aggregation_method = PortfolioAggregationMethod.WATS\n",
    "print_aggregations(temperature_score.aggregate_scores(amended_portfolio))"
   ]
  },
  {
   "cell_type": "markdown",
   "metadata": {},
   "source": [
    "#### TETS\n",
    "Total emissions weighted temperature score (TETS): Temperature scores are allocated based on historical emission weights using total company emissions. "
   ]
  },
  {
   "cell_type": "code",
   "execution_count": 7,
   "metadata": {},
   "outputs": [
    {
     "name": "stdout",
     "output_type": "stream",
     "text": [
      "short - S1S2: 2.29725884873528 degrees celcius\n",
      "short - S3: 2.4599965951970884 degrees celcius\n",
      "short - S1S2S3: 2.4295171217466325 degrees celcius\n",
      "mid - S1S2: 2.8807640760480946 degrees celcius\n",
      "mid - S3: 2.7215474049114454 degrees celcius\n",
      "mid - S1S2S3: 2.8232827095737254 degrees celcius\n",
      "long - S1S2: 2.8746803286943794 degrees celcius\n",
      "long - S3: 3.2040627788950906 degrees celcius\n",
      "long - S1S2S3: 3.0651762859922154 degrees celcius\n"
     ]
    }
   ],
   "source": [
    "temperature_score.aggregation_method = PortfolioAggregationMethod.TETS\n",
    "print_aggregations(temperature_score.aggregate_scores(amended_portfolio))"
   ]
  },
  {
   "cell_type": "markdown",
   "metadata": {},
   "source": [
    "#### MOTS\n",
    "Market Owned emissions weighted temperature score (MOTS): Temperature scores are allocated based on an equity ownership approach."
   ]
  },
  {
   "cell_type": "code",
   "execution_count": 8,
   "metadata": {},
   "outputs": [
    {
     "name": "stdout",
     "output_type": "stream",
     "text": [
      "short - S1S2: 2.362759618170431 degrees celcius\n",
      "short - S3: 2.474672666371289 degrees celcius\n",
      "short - S1S2S3: 2.4726669521902704 degrees celcius\n",
      "mid - S1S2: 2.959496104650197 degrees celcius\n",
      "mid - S3: 2.3070094100485385 degrees celcius\n",
      "mid - S1S2S3: 2.5932665818284772 degrees celcius\n",
      "long - S1S2: 3.1149324732273955 degrees celcius\n",
      "long - S3: 3.202518255484732 degrees celcius\n",
      "long - S1S2S3: 3.1659784454974766 degrees celcius\n"
     ]
    }
   ],
   "source": [
    "temperature_score.aggregation_method = PortfolioAggregationMethod.MOTS\n",
    "print_aggregations(temperature_score.aggregate_scores(amended_portfolio))"
   ]
  },
  {
   "cell_type": "markdown",
   "metadata": {},
   "source": [
    "#### EOTS\n",
    "Enterprise Owned emissions weighted temperature score (EOTS): Temperature scores are allocated based\n",
    "on an enterprise ownership approach. "
   ]
  },
  {
   "cell_type": "code",
   "execution_count": 9,
   "metadata": {},
   "outputs": [
    {
     "name": "stdout",
     "output_type": "stream",
     "text": [
      "short - S1S2: 2.527586836080241 degrees celcius\n",
      "short - S3: 2.2113513927400095 degrees celcius\n",
      "short - S1S2S3: 2.3434074044386035 degrees celcius\n",
      "mid - S1S2: 2.936485164627035 degrees celcius\n",
      "mid - S3: 2.000015264219767 degrees celcius\n",
      "mid - S1S2S3: 2.426945293248226 degrees celcius\n",
      "long - S1S2: 3.145054144740994 degrees celcius\n",
      "long - S3: 3.2034859411272287 degrees celcius\n",
      "long - S1S2S3: 3.179596844185767 degrees celcius\n"
     ]
    }
   ],
   "source": [
    "temperature_score.aggregation_method = PortfolioAggregationMethod.EOTS\n",
    "print_aggregations(temperature_score.aggregate_scores(amended_portfolio))"
   ]
  },
  {
   "cell_type": "markdown",
   "metadata": {},
   "source": [
    "#### ECOTS\n",
    "Enterprise Value + Cash emissions weighted temperature score (ECOTS): Temperature scores are allocated based on an enterprise value (EV) plus cash & equivalents ownership approach. "
   ]
  },
  {
   "cell_type": "code",
   "execution_count": 10,
   "metadata": {},
   "outputs": [
    {
     "name": "stdout",
     "output_type": "stream",
     "text": [
      "short - S1S2: 2.5183561687334626 degrees celcius\n",
      "short - S3: 2.2988995021956136 degrees celcius\n",
      "short - S1S2S3: 2.3941135552165145 degrees celcius\n",
      "mid - S1S2: 2.899183172185718 degrees celcius\n",
      "mid - S3: 2.2245900661624995 degrees celcius\n",
      "mid - S1S2S3: 2.54303244408143 degrees celcius\n",
      "long - S1S2: 3.1281515835381066 degrees celcius\n",
      "long - S3: 3.203818315296011 degrees celcius\n",
      "long - S1S2S3: 3.17269502951844 degrees celcius\n"
     ]
    }
   ],
   "source": [
    "temperature_score.aggregation_method = PortfolioAggregationMethod.ECOTS\n",
    "print_aggregations(temperature_score.aggregate_scores(amended_portfolio))"
   ]
  },
  {
   "cell_type": "markdown",
   "metadata": {},
   "source": [
    "#### AOTS\n",
    "Total Assets emissions weighted temperature score (AOTS): Temperature scores are allocated based on a total assets ownership approach. "
   ]
  },
  {
   "cell_type": "code",
   "execution_count": 11,
   "metadata": {},
   "outputs": [
    {
     "name": "stdout",
     "output_type": "stream",
     "text": [
      "short - S1S2: 1.7406016806601543 degrees celcius\n",
      "short - S3: 0.9558434722812519 degrees celcius\n",
      "short - S1S2S3: 1.1726359096429364 degrees celcius\n",
      "mid - S1S2: 2.075333404902761 degrees celcius\n",
      "mid - S3: 2.8540947963478565 degrees celcius\n",
      "mid - S1S2S3: 2.665344839505484 degrees celcius\n",
      "long - S1S2: 3.185860428469222 degrees celcius\n",
      "long - S3: 3.2109632177463996 degrees celcius\n",
      "long - S1S2S3: 3.2032558320539826 degrees celcius\n"
     ]
    }
   ],
   "source": [
    "temperature_score.aggregation_method = PortfolioAggregationMethod.AOTS\n",
    "print_aggregations(temperature_score.aggregate_scores(amended_portfolio))"
   ]
  }
 ],
 "metadata": {
  "kernelspec": {
   "display_name": "Python 3",
   "language": "python",
   "name": "python3"
  },
  "language_info": {
   "codemirror_mode": {
    "name": "ipython",
    "version": 3
   },
   "file_extension": ".py",
   "mimetype": "text/x-python",
   "name": "python",
   "nbconvert_exporter": "python",
   "pygments_lexer": "ipython3",
   "version": "3.7.6"
  }
 },
 "nbformat": 4,
 "nbformat_minor": 4
}