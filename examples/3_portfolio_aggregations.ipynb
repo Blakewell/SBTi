{
 "cells": [
  {
   "cell_type": "markdown",
   "metadata": {},
   "source": [
    "# Portfolio aggregations\n",
    "In this notebook we'll give some examples on how the portfolio aggregation methods can be used."
   ]
  },
  {
   "cell_type": "markdown",
   "metadata": {},
   "source": [
    "### Setting up\n",
    "We'll set up the imports, data providers, and load the portfolio. For more details about this, please have a look at notebook one (getting started)."
   ]
  },
  {
   "cell_type": "code",
   "execution_count": null,
   "metadata": {},
   "outputs": [],
   "source": [
    "# Only required if you didn't install the module yet\n",
    "!pip install SBTi"
   ]
  },
  {
   "cell_type": "code",
   "execution_count": null,
   "metadata": {},
   "outputs": [],
   "source": [
    "%load_ext autoreload\n",
    "%autoreload 2\n",
    "import SBTi\n",
    "from SBTi.data.excel import ExcelProvider\n",
    "from SBTi.portfolio_aggregation import PortfolioAggregationMethod\n",
    "from SBTi.portfolio_coverage_tvp import PortfolioCoverageTVP\n",
    "from SBTi.temperature_score import TemperatureScore, Scenario, ScenarioType, EngagementType\n",
    "from SBTi.target_validation import TargetValidation\n",
    "%aimport -pandas\n",
    "import pandas as pd"
   ]
  },
  {
   "cell_type": "code",
   "execution_count": null,
   "metadata": {},
   "outputs": [],
   "source": [
    "# Download the dummy data\n",
    "import urllib.request\n",
    "import os\n",
    "\n",
    "if not os.path.isdir(\"data\"):\n",
    "    os.mkdir(\"data\")\n",
    "if not os.path.isfile(\"data/data_provider_example.xlsx\"):\n",
    "    urllib.request.urlretrieve(\"https://github.com/OFBDABV/SBTi/raw/master/examples/data/data_provider_example.xlsx\", \"data/data_provider_example.xlsx\")\n",
    "if not os.path.isfile(\"example_portfolio.csv\"):\n",
    "    urllib.request.urlretrieve(\"https://github.com/OFBDABV/SBTi/raw/master/examples/example_portfolio.csv\", \"example_portfolio.csv\")"
   ]
  },
  {
   "cell_type": "code",
   "execution_count": null,
   "metadata": {},
   "outputs": [],
   "source": [
    "provider = ExcelProvider(path=\"data/data_provider_example.xlsx\")\n",
    "portfolio = pd.read_csv(\"example_portfolio.csv\", encoding=\"iso-8859-1\")\n",
    "companies = portfolio[[\"company_id\", \"company_name\"]].to_dict(orient=\"records\")\n",
    "\n",
    "company_data = SBTi.data.get_company_data([provider], companies)\n",
    "target_data = SBTi.data.get_targets([provider], companies)\n",
    "company_data = pd.merge(left=company_data,\n",
    "                        right=portfolio[\n",
    "                            [column\n",
    "                                for column in portfolio.columns\n",
    "                                if column not in [\"company_name\"]]],\n",
    "                        how=\"left\",\n",
    "                        on=[\"company_id\"])\n",
    "\n",
    "target_validation = TargetValidation(target_data, company_data)\n",
    "portfolio_data = target_validation.target_validation()"
   ]
  },
  {
   "cell_type": "code",
   "execution_count": null,
   "metadata": {},
   "outputs": [],
   "source": [
    "temperature_score = TemperatureScore()\n",
    "amended_portfolio = temperature_score.calculate(portfolio_data)"
   ]
  },
  {
   "cell_type": "markdown",
   "metadata": {},
   "source": [
    "### Calculate the aggregated temperature score\n",
    "Calculate an aggregated temperature score. This can be done use different aggregation methods. The termperature scores are calculated per time-frame/scope combination."
   ]
  },
  {
   "cell_type": "code",
   "execution_count": null,
   "metadata": {},
   "outputs": [],
   "source": [
    "def print_aggregations(aggregations):\n",
    "    for time_frame, time_frame_values in aggregations.items():\n",
    "        for scope, scope_values in time_frame_values.items():\n",
    "            print(\"{} - {}: {} degrees celcius\".format(time_frame, scope, scope_values[\"all\"][\"score\"]))"
   ]
  },
  {
   "cell_type": "markdown",
   "metadata": {},
   "source": [
    "#### WATS\n",
    "Weighted Average Temperature Score (WATS): Temperature scores are allocated based on portfolio weights.\n",
    "This requires the \"investment_value\" field to be defined in your data set."
   ]
  },
  {
   "cell_type": "code",
   "execution_count": null,
   "metadata": {},
   "outputs": [],
   "source": [
    "print_aggregations(temperature_score.aggregate_scores(amended_portfolio, PortfolioAggregationMethod.WATS, []))"
   ]
  },
  {
   "cell_type": "markdown",
   "metadata": {},
   "source": [
    "#### TETS\n",
    "Total emissions weighted temperature score (TETS): Temperature scores are allocated based on historical emission weights using total company emissions. "
   ]
  },
  {
   "cell_type": "code",
   "execution_count": null,
   "metadata": {},
   "outputs": [],
   "source": [
    "print_aggregations(temperature_score.aggregate_scores(amended_portfolio, PortfolioAggregationMethod.TETS, []))"
   ]
  },
  {
   "cell_type": "markdown",
   "metadata": {},
   "source": [
    "#### MOTS\n",
    "Market Owned emissions weighted temperature score (MOTS): Temperature scores are allocated based on an equity ownership approach."
   ]
  },
  {
   "cell_type": "code",
   "execution_count": null,
   "metadata": {},
   "outputs": [],
   "source": [
    "print_aggregations(temperature_score.aggregate_scores(amended_portfolio, PortfolioAggregationMethod.MOTS, []))"
   ]
  },
  {
   "cell_type": "markdown",
   "metadata": {},
   "source": [
    "#### EOTS\n",
    "Enterprise Owned emissions weighted temperature score (EOTS): Temperature scores are allocated based\n",
    "on an enterprise ownership approach. "
   ]
  },
  {
   "cell_type": "code",
   "execution_count": null,
   "metadata": {},
   "outputs": [],
   "source": [
    "print_aggregations(temperature_score.aggregate_scores(amended_portfolio, PortfolioAggregationMethod.EOTS, []))"
   ]
  },
  {
   "cell_type": "markdown",
   "metadata": {},
   "source": [
    "#### ECOTS\n",
    "Enterprise Value + Cash emissions weighted temperature score (ECOTS): Temperature scores are allocated based on an enterprise value (EV) plus cash & equivalents ownership approach. "
   ]
  },
  {
   "cell_type": "code",
   "execution_count": null,
   "metadata": {},
   "outputs": [],
   "source": [
    "print_aggregations(temperature_score.aggregate_scores(amended_portfolio, PortfolioAggregationMethod.ECOTS, []))"
   ]
  },
  {
   "cell_type": "markdown",
   "metadata": {},
   "source": [
    "#### AOTS\n",
    "Total Assets emissions weighted temperature score (AOTS): Temperature scores are allocated based on a total assets ownership approach. "
   ]
  },
  {
   "cell_type": "code",
   "execution_count": null,
   "metadata": {},
   "outputs": [],
   "source": [
    "print_aggregations(temperature_score.aggregate_scores(amended_portfolio, PortfolioAggregationMethod.AOTS, []))"
   ]
  }
 ],
 "metadata": {
  "kernelspec": {
   "display_name": "Python 3",
   "language": "python",
   "name": "python3"
  },
  "language_info": {
   "codemirror_mode": {
    "name": "ipython",
    "version": 3
   },
   "file_extension": ".py",
   "mimetype": "text/x-python",
   "name": "python",
   "nbconvert_exporter": "python",
   "pygments_lexer": "ipython3",
   "version": "3.7.6"
  }
 },
 "nbformat": 4,
 "nbformat_minor": 4
}
