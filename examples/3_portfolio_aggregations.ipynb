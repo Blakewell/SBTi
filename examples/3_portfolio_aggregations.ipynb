{
 "cells": [
  {
   "cell_type": "markdown",
   "metadata": {},
   "source": [
    "# Portfolio aggregations\n",
    "In this notebook we'll give some examples on how the portfolio aggregation methods can be used."
   ]
  },
  {
   "cell_type": "markdown",
   "metadata": {},
   "source": [
    "### Setting up\n",
    "We'll set up the imports, data providers, and load the portfolio. For more details about this, please have a look at notebook one (getting started)."
   ]
  },
  {
   "cell_type": "code",
   "execution_count": 2,
   "metadata": {},
   "outputs": [],
   "source": [
    "%load_ext autoreload\n",
    "%autoreload 2\n",
    "import SBTi\n",
    "from SBTi.data.excel import ExcelProvider\n",
    "from SBTi.portfolio_aggregation import PortfolioAggregationMethod\n",
    "from SBTi.portfolio_coverage_tvp import PortfolioCoverageTVP\n",
    "from SBTi.temperature_score import TemperatureScore, Scenario, ScenarioType, EngagementType\n",
    "from SBTi.target_valuation_protocol import TargetValuationProtocol\n",
    "%aimport -pandas\n",
    "import pandas as pd"
   ]
  },
  {
   "cell_type": "code",
   "execution_count": 3,
   "metadata": {},
   "outputs": [],
   "source": [
    "provider = ExcelProvider(path=\"data/data_provider_example.xlsx\")\n",
    "portfolio = pd.read_csv(\"example_portfolio.csv\", encoding=\"iso-8859-1\")\n",
    "companies = portfolio[[\"company_id\", \"company_name\"]].to_dict(orient=\"records\")\n",
    "\n",
    "company_data = SBTi.data.get_company_data([provider], companies)\n",
    "targets = SBTi.data.get_targets([provider], companies)\n",
    "portfolio_data = pd.merge(left=company_data, right=targets, how='outer', on=['company_name', 'company_id'])\n",
    "\n",
    "target_valuation_protocol = TargetValuationProtocol(portfolio_data, company_data)\n",
    "portfolio_data = target_valuation_protocol.target_valuation_protocol()\n",
    "portfolio_data = pd.merge(left=portfolio_data, right=portfolio, how='outer', on=['company_name', 'company_id'])"
   ]
  },
  {
   "cell_type": "code",
   "execution_count": 4,
   "metadata": {},
   "outputs": [],
   "source": [
    "temperature_score = TemperatureScore()\n",
    "amended_portfolio = temperature_score.calculate(portfolio_data, [\"investment_value\"])"
   ]
  },
  {
   "cell_type": "markdown",
   "metadata": {},
   "source": [
    "### Calculate the aggregated temperature score\n",
    "Calculate an aggregated temperature score. This can be done use different aggregation methods. The termperature scores are calculated per time-frame/scope combination."
   ]
  },
  {
   "cell_type": "code",
   "execution_count": 5,
   "metadata": {},
   "outputs": [],
   "source": [
    "def print_aggregations(aggregations):\n",
    "    for time_frame, time_frame_values in aggregations.items():\n",
    "        for scope, scope_values in time_frame_values.items():\n",
    "            print(\"{} - {}: {} degrees celcius\".format(time_frame, scope, scope_values[\"all\"][\"score\"]))"
   ]
  },
  {
   "cell_type": "markdown",
   "metadata": {},
   "source": [
    "#### WATS\n",
    "Weighted Average Temperature Score (WATS): Temperature scores are allocated based on portfolio weights.\n",
    "This requires the \"investment_value\" field to be defined in your data set."
   ]
  },
  {
   "cell_type": "code",
   "execution_count": 6,
   "metadata": {},
   "outputs": [
    {
     "name": "stdout",
     "output_type": "stream",
     "text": [
      "short - s1s2: 1.4629 degrees celcius\n",
      "short - s3: 2.3409 degrees celcius\n",
      "short - s1s2s3: 2.0977 degrees celcius\n",
      "mid - s1s2: 2.5923 degrees celcius\n",
      "mid - s3: 2.9923 degrees celcius\n",
      "mid - s1s2s3: 2.8998 degrees celcius\n",
      "long - s1s2: 3.0814 degrees celcius\n",
      "long - s3: 3.191 degrees celcius\n",
      "long - s1s2s3: 3.155 degrees celcius\n"
     ]
    }
   ],
   "source": [
    "print_aggregations(temperature_score.aggregate_scores(amended_portfolio, PortfolioAggregationMethod.WATS, []))"
   ]
  },
  {
   "cell_type": "markdown",
   "metadata": {},
   "source": [
    "#### TETS\n",
    "Total emissions weighted temperature score (TETS): Temperature scores are allocated based on historical emission weights using total company emissions. "
   ]
  },
  {
   "cell_type": "code",
   "execution_count": 7,
   "metadata": {},
   "outputs": [
    {
     "name": "stdout",
     "output_type": "stream",
     "text": [
      "short - s1s2: 1.6343 degrees celcius\n",
      "short - s3: 2.3879 degrees celcius\n",
      "short - s1s2s3: 2.0774 degrees celcius\n",
      "mid - s1s2: 2.681 degrees celcius\n",
      "mid - s3: 2.3564 degrees celcius\n",
      "mid - s1s2s3: 2.5294 degrees celcius\n",
      "long - s1s2: 2.8646 degrees celcius\n",
      "long - s3: 3.1986 degrees celcius\n",
      "long - s1s2s3: 3.0562 degrees celcius\n"
     ]
    }
   ],
   "source": [
    "print_aggregations(temperature_score.aggregate_scores(amended_portfolio, PortfolioAggregationMethod.TETS, []))"
   ]
  },
  {
   "cell_type": "markdown",
   "metadata": {},
   "source": [
    "#### MOTS\n",
    "Market Owned emissions weighted temperature score (MOTS): Temperature scores are allocated based on an equity ownership approach."
   ]
  },
  {
   "cell_type": "code",
   "execution_count": 8,
   "metadata": {},
   "outputs": [
    {
     "name": "stdout",
     "output_type": "stream",
     "text": [
      "short - s1s2: 2.2805 degrees celcius\n",
      "short - s3: 2.251 degrees celcius\n",
      "short - s1s2s3: 2.2568 degrees celcius\n",
      "mid - s1s2: 2.5231 degrees celcius\n",
      "mid - s3: 2.2171 degrees celcius\n",
      "mid - s1s2s3: 2.3563 degrees celcius\n",
      "long - s1s2: 3.0193 degrees celcius\n",
      "long - s3: 3.1991 degrees celcius\n",
      "long - s1s2s3: 3.1226 degrees celcius\n"
     ]
    }
   ],
   "source": [
    "print_aggregations(temperature_score.aggregate_scores(amended_portfolio, PortfolioAggregationMethod.MOTS, []))"
   ]
  },
  {
   "cell_type": "markdown",
   "metadata": {},
   "source": [
    "#### EOTS\n",
    "Enterprise Owned emissions weighted temperature score (EOTS): Temperature scores are allocated based\n",
    "on an enterprise ownership approach. "
   ]
  },
  {
   "cell_type": "code",
   "execution_count": 9,
   "metadata": {},
   "outputs": [
    {
     "name": "stdout",
     "output_type": "stream",
     "text": [
      "short - s1s2: 2.4141 degrees celcius\n",
      "short - s3: 2.1479 degrees celcius\n",
      "short - s1s2s3: 2.2477 degrees celcius\n",
      "mid - s1s2: 2.2584 degrees celcius\n",
      "mid - s3: 1.9427 degrees celcius\n",
      "mid - s1s2s3: 2.1051 degrees celcius\n",
      "long - s1s2: 3.0438 degrees celcius\n",
      "long - s3: 3.1988 degrees celcius\n",
      "long - s1s2s3: 3.1328 degrees celcius\n"
     ]
    }
   ],
   "source": [
    "print_aggregations(temperature_score.aggregate_scores(amended_portfolio, PortfolioAggregationMethod.EOTS, []))"
   ]
  },
  {
   "cell_type": "markdown",
   "metadata": {},
   "source": [
    "#### ECOTS\n",
    "Enterprise Value + Cash emissions weighted temperature score (ECOTS): Temperature scores are allocated based on an enterprise value (EV) plus cash & equivalents ownership approach. "
   ]
  },
  {
   "cell_type": "code",
   "execution_count": 10,
   "metadata": {},
   "outputs": [
    {
     "name": "stdout",
     "output_type": "stream",
     "text": [
      "short - s1s2: 2.3732 degrees celcius\n",
      "short - s3: 2.2215 degrees celcius\n",
      "short - s1s2s3: 2.2732 degrees celcius\n",
      "mid - s1s2: 2.3592 degrees celcius\n",
      "mid - s3: 2.148 degrees celcius\n",
      "mid - s1s2s3: 2.2691 degrees celcius\n",
      "long - s1s2: 3.0128 degrees celcius\n",
      "long - s3: 3.1987 degrees celcius\n",
      "long - s1s2s3: 3.1196 degrees celcius\n"
     ]
    }
   ],
   "source": [
    "print_aggregations(temperature_score.aggregate_scores(amended_portfolio, PortfolioAggregationMethod.ECOTS, []))"
   ]
  },
  {
   "cell_type": "markdown",
   "metadata": {},
   "source": [
    "#### AOTS\n",
    "Total Assets emissions weighted temperature score (AOTS): Temperature scores are allocated based on a total assets ownership approach. "
   ]
  },
  {
   "cell_type": "code",
   "execution_count": 11,
   "metadata": {},
   "outputs": [
    {
     "name": "stdout",
     "output_type": "stream",
     "text": [
      "short - s1s2: 1.6998 degrees celcius\n",
      "short - s3: 0.4567 degrees celcius\n",
      "short - s1s2s3: 0.7972 degrees celcius\n",
      "mid - s1s2: 1.886 degrees celcius\n",
      "mid - s3: 2.8486 degrees celcius\n",
      "mid - s1s2s3: 2.5815 degrees celcius\n",
      "long - s1s2: 2.8956 degrees celcius\n",
      "long - s3: 3.1962 degrees celcius\n",
      "long - s1s2s3: 3.0681 degrees celcius\n"
     ]
    }
   ],
   "source": [
    "print_aggregations(temperature_score.aggregate_scores(amended_portfolio, PortfolioAggregationMethod.AOTS, []))"
   ]
  }
 ],
 "metadata": {
  "kernelspec": {
   "display_name": "Python 3",
   "language": "python",
   "name": "python3"
  },
  "language_info": {
   "codemirror_mode": {
    "name": "ipython",
    "version": 3
   },
   "file_extension": ".py",
   "mimetype": "text/x-python",
   "name": "python",
   "nbconvert_exporter": "python",
   "pygments_lexer": "ipython3",
   "version": "3.7.6"
  }
 },
 "nbformat": 4,
 "nbformat_minor": 4
}
