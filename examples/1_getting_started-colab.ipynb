{
 "cells": [
  {
   "cell_type": "markdown",
   "metadata": {},
   "source": [
    "# SBTi Temperature Alignment tool examples\n",
    "This notebook provides some examples on how to use the SBTi Temperature Alignment tool.\n",
    "\n",
    "> This notebook is meant to run on Google Colab. If you're running the notebook locally, use the normal \"1_getting_started.ipynb\" notebook"
   ]
  },
  {
   "cell_type": "markdown",
   "metadata": {},
   "source": [
    "## Install the SBTi Python module"
   ]
  },
  {
   "cell_type": "code",
   "execution_count": null,
   "metadata": {},
   "outputs": [],
   "source": [
    "!pip install git+git://github.com/OFBDABV/SBTi"
   ]
  },
  {
   "cell_type": "code",
   "execution_count": 2,
   "metadata": {
    "scrolled": true
   },
   "outputs": [],
   "source": [
    "import SBTi\n",
    "from SBTi.data.excel import ExcelProvider\n",
    "from SBTi.portfolio_aggregation import PortfolioAggregationMethod\n",
    "from SBTi.portfolio_coverage_tvp import PortfolioCoverageTVP\n",
    "from SBTi.temperature_score import TemperatureScore, Scenario\n",
    "from SBTi.target_validation import TargetValidation\n",
    "import pandas as pd"
   ]
  },
  {
   "cell_type": "markdown",
   "metadata": {},
   "source": [
    "## Download the dummy data provider"
   ]
  },
  {
   "cell_type": "code",
   "execution_count": 1,
   "metadata": {},
   "outputs": [
    {
     "ename": "FileExistsError",
     "evalue": "[WinError 183] Cannot create a file when that file already exists: 'data'",
     "output_type": "error",
     "traceback": [
      "\u001b[1;31m---------------------------------------------------------------------------\u001b[0m",
      "\u001b[1;31mFileExistsError\u001b[0m                           Traceback (most recent call last)",
      "\u001b[1;32m<ipython-input-1-13e98a9158ed>\u001b[0m in \u001b[0;36m<module>\u001b[1;34m\u001b[0m\n\u001b[0;32m      1\u001b[0m \u001b[1;32mimport\u001b[0m \u001b[0mos\u001b[0m\u001b[1;33m\u001b[0m\u001b[1;33m\u001b[0m\u001b[0m\n\u001b[1;32m----> 2\u001b[1;33m \u001b[0mos\u001b[0m\u001b[1;33m.\u001b[0m\u001b[0mmkdir\u001b[0m\u001b[1;33m(\u001b[0m\u001b[1;34m\"data\"\u001b[0m\u001b[1;33m)\u001b[0m\u001b[1;33m\u001b[0m\u001b[1;33m\u001b[0m\u001b[0m\n\u001b[0m",
      "\u001b[1;31mFileExistsError\u001b[0m: [WinError 183] Cannot create a file when that file already exists: 'data'"
     ]
    }
   ],
   "source": [
    "import urllib.request\n",
    "import os\n",
    "os.mkdir(\"data\")\n",
    "urllib.request.urlretrieve(\"https://github.com/OFBDABV/SBTi/raw/master/examples/data/data_provider_example.xlsx\", \"data/data_provider_example.xlsx\")"
   ]
  },
  {
   "cell_type": "markdown",
   "metadata": {},
   "source": [
    "#### Logging\n",
    "The SBTi module uses the Python standard library logging utilities to send log messages. The log level can be changed according to the user's needs."
   ]
  },
  {
   "cell_type": "code",
   "execution_count": 3,
   "metadata": {},
   "outputs": [],
   "source": [
    "import logging\n",
    "root_logger = logging.getLogger()\n",
    "root_logger.setLevel(\"INFO\")"
   ]
  },
  {
   "cell_type": "markdown",
   "metadata": {},
   "source": [
    "### Create a data provider\n",
    "Data providers let you connect to the data source of your choice."
   ]
  },
  {
   "cell_type": "code",
   "execution_count": 4,
   "metadata": {},
   "outputs": [],
   "source": [
    "provider = ExcelProvider(path=\"data/data_provider_example.xlsx\")"
   ]
  },
  {
   "cell_type": "markdown",
   "metadata": {},
   "source": [
    "### Load your portfolio\n",
    "In our case the portfolio is stored as a CSV file. The portfolio should at least have an \"id\" (the identifier of the company) and a \"proportion\" (the weight of the company in your portfolio e.g. the value of the shares you hold) column."
   ]
  },
  {
   "cell_type": "code",
   "execution_count": 5,
   "metadata": {},
   "outputs": [],
   "source": [
    "portfolio = pd.read_csv(\"example_portfolio.csv\", encoding=\"iso-8859-1\")"
   ]
  },
  {
   "cell_type": "code",
   "execution_count": 6,
   "metadata": {},
   "outputs": [
    {
     "data": {
      "text/html": [
       "<div>\n",
       "<style scoped>\n",
       "    .dataframe tbody tr th:only-of-type {\n",
       "        vertical-align: middle;\n",
       "    }\n",
       "\n",
       "    .dataframe tbody tr th {\n",
       "        vertical-align: top;\n",
       "    }\n",
       "\n",
       "    .dataframe thead th {\n",
       "        text-align: right;\n",
       "    }\n",
       "</style>\n",
       "<table border=\"1\" class=\"dataframe\">\n",
       "  <thead>\n",
       "    <tr style=\"text-align: right;\">\n",
       "      <th></th>\n",
       "      <th>company_name</th>\n",
       "      <th>company_id</th>\n",
       "      <th>ISIN</th>\n",
       "      <th>weights</th>\n",
       "      <th>investment_value</th>\n",
       "      <th>engagement_target</th>\n",
       "    </tr>\n",
       "  </thead>\n",
       "  <tbody>\n",
       "    <tr>\n",
       "      <th>0</th>\n",
       "      <td>Advanced Micro Devices, Inc</td>\n",
       "      <td>US0079031078</td>\n",
       "      <td>US0079031078</td>\n",
       "      <td>6.36%</td>\n",
       "      <td>35000000</td>\n",
       "      <td>1.0</td>\n",
       "    </tr>\n",
       "    <tr>\n",
       "      <th>1</th>\n",
       "      <td>Adobe Systems Inc.</td>\n",
       "      <td>US00724F1012</td>\n",
       "      <td>US00724F1012</td>\n",
       "      <td>1.82%</td>\n",
       "      <td>10000000</td>\n",
       "      <td>NaN</td>\n",
       "    </tr>\n",
       "    <tr>\n",
       "      <th>2</th>\n",
       "      <td>Capgemini Group</td>\n",
       "      <td>FR0000125338</td>\n",
       "      <td>FR0000125338</td>\n",
       "      <td>1.82%</td>\n",
       "      <td>10000000</td>\n",
       "      <td>NaN</td>\n",
       "    </tr>\n",
       "    <tr>\n",
       "      <th>3</th>\n",
       "      <td>Cisco Systems, Inc.</td>\n",
       "      <td>US17275R1023</td>\n",
       "      <td>US17275R1023</td>\n",
       "      <td>1.82%</td>\n",
       "      <td>10000000</td>\n",
       "      <td>NaN</td>\n",
       "    </tr>\n",
       "    <tr>\n",
       "      <th>4</th>\n",
       "      <td>Coca-Cola HBC AG</td>\n",
       "      <td>CH0198251305</td>\n",
       "      <td>CH0198251305</td>\n",
       "      <td>1.82%</td>\n",
       "      <td>10000000</td>\n",
       "      <td>NaN</td>\n",
       "    </tr>\n",
       "  </tbody>\n",
       "</table>\n",
       "</div>"
      ],
      "text/plain": [
       "                  company_name    company_id          ISIN weights  \\\n",
       "0  Advanced Micro Devices, Inc  US0079031078  US0079031078   6.36%   \n",
       "1           Adobe Systems Inc.  US00724F1012  US00724F1012   1.82%   \n",
       "2              Capgemini Group  FR0000125338  FR0000125338   1.82%   \n",
       "3          Cisco Systems, Inc.  US17275R1023  US17275R1023   1.82%   \n",
       "4             Coca-Cola HBC AG  CH0198251305  CH0198251305   1.82%   \n",
       "\n",
       "   investment_value  engagement_target  \n",
       "0          35000000                1.0  \n",
       "1          10000000                NaN  \n",
       "2          10000000                NaN  \n",
       "3          10000000                NaN  \n",
       "4          10000000                NaN  "
      ]
     },
     "execution_count": 6,
     "metadata": {},
     "output_type": "execute_result"
    }
   ],
   "source": [
    "portfolio.head(5)"
   ]
  },
  {
   "cell_type": "markdown",
   "metadata": {},
   "source": [
    "To load the data from the data provider, we have to pass a list of dictionaries, containing a \"company_name\" and \"company_id\"."
   ]
  },
  {
   "cell_type": "code",
   "execution_count": 7,
   "metadata": {},
   "outputs": [],
   "source": [
    "companies = portfolio[[\"company_id\", \"company_name\"]].to_dict(orient=\"records\")"
   ]
  },
  {
   "cell_type": "markdown",
   "metadata": {},
   "source": [
    "### Load the data\n",
    "We'll call the data provider and ask it to provide us with the targets and the company data."
   ]
  },
  {
   "cell_type": "code",
   "execution_count": 8,
   "metadata": {},
   "outputs": [],
   "source": [
    "company_data = SBTi.data.get_company_data([provider], companies)\n",
    "target_data = SBTi.data.get_targets([provider], companies)\n",
    "company_data = pd.merge(left=company_data,\n",
    "                        right=portfolio[\n",
    "                            [column\n",
    "                                for column in portfolio.columns\n",
    "                                if column not in [\"company_name\"]]],\n",
    "                        how=\"left\",\n",
    "                        on=[\"company_id\"])"
   ]
  },
  {
   "cell_type": "markdown",
   "metadata": {},
   "source": [
    "### Validate the targets\n",
    "We've now got our portfolio, amended with target data. Now we need to make sure that all the targets are valid (e.g. they haven't been reached yet and their end date isn't in the past)."
   ]
  },
  {
   "cell_type": "code",
   "execution_count": 9,
   "metadata": {},
   "outputs": [],
   "source": [
    "target_validation = TargetValidation(target_data, company_data)\n",
    "portfolio_data = target_validation.target_validation()"
   ]
  },
  {
   "cell_type": "markdown",
   "metadata": {},
   "source": [
    "### Calculate the temperature scores\n",
    "In the amended portfolio you'll find your original portfolio, amended with the emissions and the temperature score."
   ]
  },
  {
   "cell_type": "code",
   "execution_count": 10,
   "metadata": {},
   "outputs": [],
   "source": [
    "temperature_score = TemperatureScore()\n",
    "amended_portfolio = temperature_score.calculate(portfolio_data)"
   ]
  },
  {
   "cell_type": "code",
   "execution_count": 11,
   "metadata": {},
   "outputs": [
    {
     "data": {
      "text/html": [
       "<div>\n",
       "<style scoped>\n",
       "    .dataframe tbody tr th:only-of-type {\n",
       "        vertical-align: middle;\n",
       "    }\n",
       "\n",
       "    .dataframe tbody tr th {\n",
       "        vertical-align: top;\n",
       "    }\n",
       "\n",
       "    .dataframe thead th {\n",
       "        text-align: right;\n",
       "    }\n",
       "</style>\n",
       "<table border=\"1\" class=\"dataframe\">\n",
       "  <thead>\n",
       "    <tr style=\"text-align: right;\">\n",
       "      <th></th>\n",
       "      <th>company_name</th>\n",
       "      <th>company_id</th>\n",
       "      <th>ISIC</th>\n",
       "      <th>Country</th>\n",
       "      <th>Region</th>\n",
       "      <th>Industry_lvl1</th>\n",
       "      <th>Industry_lvl2</th>\n",
       "      <th>Industry_lvl3</th>\n",
       "      <th>Industry_lvl4</th>\n",
       "      <th>sector</th>\n",
       "      <th>...</th>\n",
       "      <th>annual_reduction_rate</th>\n",
       "      <th>slope</th>\n",
       "      <th>samplesize</th>\n",
       "      <th>model</th>\n",
       "      <th>variable</th>\n",
       "      <th>param</th>\n",
       "      <th>intercept</th>\n",
       "      <th>r2</th>\n",
       "      <th>temperature_score</th>\n",
       "      <th>temperature_results</th>\n",
       "    </tr>\n",
       "  </thead>\n",
       "  <tbody>\n",
       "    <tr>\n",
       "      <th>0</th>\n",
       "      <td>Advanced Micro Devices, Inc</td>\n",
       "      <td>US0079031078</td>\n",
       "      <td>NaN</td>\n",
       "      <td>United States</td>\n",
       "      <td>North America</td>\n",
       "      <td>NaN</td>\n",
       "      <td>NaN</td>\n",
       "      <td>NaN</td>\n",
       "      <td>NaN</td>\n",
       "      <td>Industrials</td>\n",
       "      <td>...</td>\n",
       "      <td>0.060000</td>\n",
       "      <td>slope5</td>\n",
       "      <td>128</td>\n",
       "      <td>4</td>\n",
       "      <td>Emissions|Kyoto Gases</td>\n",
       "      <td>-0.212692</td>\n",
       "      <td>2.574303</td>\n",
       "      <td>0.609039</td>\n",
       "      <td>1.298150</td>\n",
       "      <td>0</td>\n",
       "    </tr>\n",
       "    <tr>\n",
       "      <th>1</th>\n",
       "      <td>Advanced Micro Devices, Inc</td>\n",
       "      <td>US0079031078</td>\n",
       "      <td>NaN</td>\n",
       "      <td>United States</td>\n",
       "      <td>North America</td>\n",
       "      <td>NaN</td>\n",
       "      <td>NaN</td>\n",
       "      <td>NaN</td>\n",
       "      <td>NaN</td>\n",
       "      <td>Industrials</td>\n",
       "      <td>...</td>\n",
       "      <td>0.138571</td>\n",
       "      <td>slope5</td>\n",
       "      <td>128</td>\n",
       "      <td>4</td>\n",
       "      <td>Emissions|Kyoto Gases</td>\n",
       "      <td>-0.212692</td>\n",
       "      <td>2.574303</td>\n",
       "      <td>0.609039</td>\n",
       "      <td>-0.373002</td>\n",
       "      <td>0</td>\n",
       "    </tr>\n",
       "    <tr>\n",
       "      <th>2</th>\n",
       "      <td>Advanced Micro Devices, Inc</td>\n",
       "      <td>US0079031078</td>\n",
       "      <td>NaN</td>\n",
       "      <td>United States</td>\n",
       "      <td>North America</td>\n",
       "      <td>NaN</td>\n",
       "      <td>NaN</td>\n",
       "      <td>NaN</td>\n",
       "      <td>NaN</td>\n",
       "      <td>Industrials</td>\n",
       "      <td>...</td>\n",
       "      <td>NaN</td>\n",
       "      <td>slope5</td>\n",
       "      <td>128</td>\n",
       "      <td>4</td>\n",
       "      <td>Emissions|Kyoto Gases</td>\n",
       "      <td>-0.212692</td>\n",
       "      <td>2.574303</td>\n",
       "      <td>0.609039</td>\n",
       "      <td>0.082679</td>\n",
       "      <td>1</td>\n",
       "    </tr>\n",
       "    <tr>\n",
       "      <th>3</th>\n",
       "      <td>Advanced Micro Devices, Inc</td>\n",
       "      <td>US0079031078</td>\n",
       "      <td>NaN</td>\n",
       "      <td>United States</td>\n",
       "      <td>North America</td>\n",
       "      <td>NaN</td>\n",
       "      <td>NaN</td>\n",
       "      <td>NaN</td>\n",
       "      <td>NaN</td>\n",
       "      <td>Industrials</td>\n",
       "      <td>...</td>\n",
       "      <td>0.027785</td>\n",
       "      <td>slope15</td>\n",
       "      <td>128</td>\n",
       "      <td>4</td>\n",
       "      <td>Emissions|Kyoto Gases</td>\n",
       "      <td>-0.312329</td>\n",
       "      <td>2.697261</td>\n",
       "      <td>0.829523</td>\n",
       "      <td>1.829468</td>\n",
       "      <td>0</td>\n",
       "    </tr>\n",
       "    <tr>\n",
       "      <th>4</th>\n",
       "      <td>Advanced Micro Devices, Inc</td>\n",
       "      <td>US0079031078</td>\n",
       "      <td>NaN</td>\n",
       "      <td>United States</td>\n",
       "      <td>North America</td>\n",
       "      <td>NaN</td>\n",
       "      <td>NaN</td>\n",
       "      <td>NaN</td>\n",
       "      <td>NaN</td>\n",
       "      <td>Industrials</td>\n",
       "      <td>...</td>\n",
       "      <td>NaN</td>\n",
       "      <td>slope15</td>\n",
       "      <td>128</td>\n",
       "      <td>4</td>\n",
       "      <td>Emissions|Kyoto Gases</td>\n",
       "      <td>-0.312329</td>\n",
       "      <td>2.697261</td>\n",
       "      <td>0.829523</td>\n",
       "      <td>3.200000</td>\n",
       "      <td>1</td>\n",
       "    </tr>\n",
       "    <tr>\n",
       "      <th>5</th>\n",
       "      <td>Advanced Micro Devices, Inc</td>\n",
       "      <td>US0079031078</td>\n",
       "      <td>NaN</td>\n",
       "      <td>United States</td>\n",
       "      <td>North America</td>\n",
       "      <td>NaN</td>\n",
       "      <td>NaN</td>\n",
       "      <td>NaN</td>\n",
       "      <td>NaN</td>\n",
       "      <td>Industrials</td>\n",
       "      <td>...</td>\n",
       "      <td>NaN</td>\n",
       "      <td>slope15</td>\n",
       "      <td>128</td>\n",
       "      <td>4</td>\n",
       "      <td>Emissions|Kyoto Gases</td>\n",
       "      <td>-0.312329</td>\n",
       "      <td>2.697261</td>\n",
       "      <td>0.829523</td>\n",
       "      <td>2.826291</td>\n",
       "      <td>1</td>\n",
       "    </tr>\n",
       "    <tr>\n",
       "      <th>6</th>\n",
       "      <td>Advanced Micro Devices, Inc</td>\n",
       "      <td>US0079031078</td>\n",
       "      <td>NaN</td>\n",
       "      <td>United States</td>\n",
       "      <td>North America</td>\n",
       "      <td>NaN</td>\n",
       "      <td>NaN</td>\n",
       "      <td>NaN</td>\n",
       "      <td>NaN</td>\n",
       "      <td>Industrials</td>\n",
       "      <td>...</td>\n",
       "      <td>NaN</td>\n",
       "      <td>slope30</td>\n",
       "      <td>128</td>\n",
       "      <td>4</td>\n",
       "      <td>Emissions|Kyoto Gases</td>\n",
       "      <td>-0.483331</td>\n",
       "      <td>2.841338</td>\n",
       "      <td>0.925768</td>\n",
       "      <td>3.200000</td>\n",
       "      <td>1</td>\n",
       "    </tr>\n",
       "    <tr>\n",
       "      <th>7</th>\n",
       "      <td>Advanced Micro Devices, Inc</td>\n",
       "      <td>US0079031078</td>\n",
       "      <td>NaN</td>\n",
       "      <td>United States</td>\n",
       "      <td>North America</td>\n",
       "      <td>NaN</td>\n",
       "      <td>NaN</td>\n",
       "      <td>NaN</td>\n",
       "      <td>NaN</td>\n",
       "      <td>Industrials</td>\n",
       "      <td>...</td>\n",
       "      <td>NaN</td>\n",
       "      <td>slope30</td>\n",
       "      <td>128</td>\n",
       "      <td>4</td>\n",
       "      <td>Emissions|Kyoto Gases</td>\n",
       "      <td>-0.483331</td>\n",
       "      <td>2.841338</td>\n",
       "      <td>0.925768</td>\n",
       "      <td>3.200000</td>\n",
       "      <td>1</td>\n",
       "    </tr>\n",
       "    <tr>\n",
       "      <th>8</th>\n",
       "      <td>Advanced Micro Devices, Inc</td>\n",
       "      <td>US0079031078</td>\n",
       "      <td>NaN</td>\n",
       "      <td>United States</td>\n",
       "      <td>North America</td>\n",
       "      <td>NaN</td>\n",
       "      <td>NaN</td>\n",
       "      <td>NaN</td>\n",
       "      <td>NaN</td>\n",
       "      <td>Industrials</td>\n",
       "      <td>...</td>\n",
       "      <td>NaN</td>\n",
       "      <td>slope30</td>\n",
       "      <td>128</td>\n",
       "      <td>4</td>\n",
       "      <td>Emissions|Kyoto Gases</td>\n",
       "      <td>-0.483331</td>\n",
       "      <td>2.841338</td>\n",
       "      <td>0.925768</td>\n",
       "      <td>3.200000</td>\n",
       "      <td>1</td>\n",
       "    </tr>\n",
       "    <tr>\n",
       "      <th>9</th>\n",
       "      <td>Adobe Systems Inc.</td>\n",
       "      <td>US00724F1012</td>\n",
       "      <td>NaN</td>\n",
       "      <td>United States</td>\n",
       "      <td>North America</td>\n",
       "      <td>NaN</td>\n",
       "      <td>NaN</td>\n",
       "      <td>NaN</td>\n",
       "      <td>NaN</td>\n",
       "      <td>Utilities</td>\n",
       "      <td>...</td>\n",
       "      <td>NaN</td>\n",
       "      <td>slope5</td>\n",
       "      <td>128</td>\n",
       "      <td>4</td>\n",
       "      <td>Emissions|Kyoto Gases</td>\n",
       "      <td>-0.212692</td>\n",
       "      <td>2.574303</td>\n",
       "      <td>0.609039</td>\n",
       "      <td>3.200000</td>\n",
       "      <td>1</td>\n",
       "    </tr>\n",
       "  </tbody>\n",
       "</table>\n",
       "<p>10 rows × 48 columns</p>\n",
       "</div>"
      ],
      "text/plain": [
       "                  company_name    company_id  ISIC        Country  \\\n",
       "0  Advanced Micro Devices, Inc  US0079031078   NaN  United States   \n",
       "1  Advanced Micro Devices, Inc  US0079031078   NaN  United States   \n",
       "2  Advanced Micro Devices, Inc  US0079031078   NaN  United States   \n",
       "3  Advanced Micro Devices, Inc  US0079031078   NaN  United States   \n",
       "4  Advanced Micro Devices, Inc  US0079031078   NaN  United States   \n",
       "5  Advanced Micro Devices, Inc  US0079031078   NaN  United States   \n",
       "6  Advanced Micro Devices, Inc  US0079031078   NaN  United States   \n",
       "7  Advanced Micro Devices, Inc  US0079031078   NaN  United States   \n",
       "8  Advanced Micro Devices, Inc  US0079031078   NaN  United States   \n",
       "9           Adobe Systems Inc.  US00724F1012   NaN  United States   \n",
       "\n",
       "          Region  Industry_lvl1  Industry_lvl2  Industry_lvl3  Industry_lvl4  \\\n",
       "0  North America            NaN            NaN            NaN            NaN   \n",
       "1  North America            NaN            NaN            NaN            NaN   \n",
       "2  North America            NaN            NaN            NaN            NaN   \n",
       "3  North America            NaN            NaN            NaN            NaN   \n",
       "4  North America            NaN            NaN            NaN            NaN   \n",
       "5  North America            NaN            NaN            NaN            NaN   \n",
       "6  North America            NaN            NaN            NaN            NaN   \n",
       "7  North America            NaN            NaN            NaN            NaN   \n",
       "8  North America            NaN            NaN            NaN            NaN   \n",
       "9  North America            NaN            NaN            NaN            NaN   \n",
       "\n",
       "        sector  ...  annual_reduction_rate    slope  samplesize  model  \\\n",
       "0  Industrials  ...               0.060000   slope5         128      4   \n",
       "1  Industrials  ...               0.138571   slope5         128      4   \n",
       "2  Industrials  ...                    NaN   slope5         128      4   \n",
       "3  Industrials  ...               0.027785  slope15         128      4   \n",
       "4  Industrials  ...                    NaN  slope15         128      4   \n",
       "5  Industrials  ...                    NaN  slope15         128      4   \n",
       "6  Industrials  ...                    NaN  slope30         128      4   \n",
       "7  Industrials  ...                    NaN  slope30         128      4   \n",
       "8  Industrials  ...                    NaN  slope30         128      4   \n",
       "9    Utilities  ...                    NaN   slope5         128      4   \n",
       "\n",
       "                variable     param  intercept        r2 temperature_score  \\\n",
       "0  Emissions|Kyoto Gases -0.212692   2.574303  0.609039          1.298150   \n",
       "1  Emissions|Kyoto Gases -0.212692   2.574303  0.609039         -0.373002   \n",
       "2  Emissions|Kyoto Gases -0.212692   2.574303  0.609039          0.082679   \n",
       "3  Emissions|Kyoto Gases -0.312329   2.697261  0.829523          1.829468   \n",
       "4  Emissions|Kyoto Gases -0.312329   2.697261  0.829523          3.200000   \n",
       "5  Emissions|Kyoto Gases -0.312329   2.697261  0.829523          2.826291   \n",
       "6  Emissions|Kyoto Gases -0.483331   2.841338  0.925768          3.200000   \n",
       "7  Emissions|Kyoto Gases -0.483331   2.841338  0.925768          3.200000   \n",
       "8  Emissions|Kyoto Gases -0.483331   2.841338  0.925768          3.200000   \n",
       "9  Emissions|Kyoto Gases -0.212692   2.574303  0.609039          3.200000   \n",
       "\n",
       "   temperature_results  \n",
       "0                    0  \n",
       "1                    0  \n",
       "2                    1  \n",
       "3                    0  \n",
       "4                    1  \n",
       "5                    1  \n",
       "6                    1  \n",
       "7                    1  \n",
       "8                    1  \n",
       "9                    1  \n",
       "\n",
       "[10 rows x 48 columns]"
      ]
     },
     "execution_count": 11,
     "metadata": {},
     "output_type": "execute_result"
    }
   ],
   "source": [
    "amended_portfolio.head(10)"
   ]
  },
  {
   "cell_type": "markdown",
   "metadata": {},
   "source": [
    "### Calculate the aggregated temperature score\n",
    "Calculate an aggregated temperature score. This can be done use different aggregation methods. Here we'll use the \"Weighted Average Temperature Score\". For more details, have a look at notebook 3 (\"3_portfolio_aggregations.ipynb\"). The termperature scores are calculated per time-frame/scope combination."
   ]
  },
  {
   "cell_type": "code",
   "execution_count": 12,
   "metadata": {},
   "outputs": [],
   "source": [
    "def print_aggregations(aggregations):\n",
    "    for time_frame, time_frame_values in aggregations.items():\n",
    "        for scope, scope_values in time_frame_values.items():\n",
    "            print(\"{} - {}: {} degrees celcius\".format(time_frame, scope, scope_values[\"all\"][\"score\"]))"
   ]
  },
  {
   "cell_type": "markdown",
   "metadata": {},
   "source": [
    "### Portfolio coverage\n",
    "\n",
    "Gives insights in the coverage of portfolio entities that has set GHG emissions reduction targets, STBi-validated or otherwise. Companies with SBTi status Approved have a score of 100%, all others have a score of 0%. \n",
    "\n",
    "This can be done use different aggregation methods. Here we'll use the \"Weighted Average Temperature Score\". For more details, have a look at notebook 3 (\"3_portfolio_aggregations.ipynb\")."
   ]
  },
  {
   "cell_type": "code",
   "execution_count": 13,
   "metadata": {},
   "outputs": [
    {
     "data": {
      "text/plain": [
       "35.45"
      ]
     },
     "execution_count": 13,
     "metadata": {},
     "output_type": "execute_result"
    }
   ],
   "source": [
    "portfolio_coverage_tvp = PortfolioCoverageTVP()\n",
    "coverage = portfolio_coverage_tvp.get_portfolio_coverage(amended_portfolio.copy(), PortfolioAggregationMethod.WATS)\n",
    "round(coverage * 100) / 100"
   ]
  }
 ],
 "metadata": {
  "kernelspec": {
   "display_name": "Python 3",
   "language": "python",
   "name": "python3"
  },
  "language_info": {
   "codemirror_mode": {
    "name": "ipython",
    "version": 3
   },
   "file_extension": ".py",
   "mimetype": "text/x-python",
   "name": "python",
   "nbconvert_exporter": "python",
   "pygments_lexer": "ipython3",
   "version": "3.7.6"
  }
 },
 "nbformat": 4,
 "nbformat_minor": 4
}
